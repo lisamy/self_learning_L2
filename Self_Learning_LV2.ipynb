{
 "cells": [
  {
   "cell_type": "markdown",
   "metadata": {},
   "source": [
    "# Section I - Regression analysis\n",
    "## Data visualisation and descriptive measures\n",
    "**Problem:** Zagat's publishes restaurant ratings for various locations in the United States. The CSV file contains the Zagat rating for food, decor, service, and the cost per person for a sample of 100 restaurants located in New York City and in a suburb of New York City. Develop a regression model to predict the cost per person, based on a variable that repersents the sum of the ratings for food, decor, and serivice"
   ]
  },
  {
   "cell_type": "code",
   "execution_count": 1,
   "metadata": {},
   "outputs": [],
   "source": [
    "import Pkg"
   ]
  },
  {
   "cell_type": "code",
   "execution_count": 2,
   "metadata": {},
   "outputs": [
    {
     "name": "stderr",
     "output_type": "stream",
     "text": [
      "\u001b[32m\u001b[1m    Updating\u001b[22m\u001b[39m registry at `C:\\Users\\86865\\.julia\\registries\\General`\n",
      "\u001b[32m\u001b[1m    Updating\u001b[22m\u001b[39m git-repo `https://github.com/JuliaRegistries/General.git`\n",
      "\u001b[32m\u001b[1m   Resolving\u001b[22m\u001b[39m package versions...\n",
      "\u001b[32m\u001b[1m  No Changes\u001b[22m\u001b[39m to `C:\\Users\\86865\\.julia\\environments\\v1.6\\Project.toml`\n",
      "\u001b[32m\u001b[1m  No Changes\u001b[22m\u001b[39m to `C:\\Users\\86865\\.julia\\environments\\v1.6\\Manifest.toml`\n"
     ]
    }
   ],
   "source": [
    "Pkg.add(\"CSV\")"
   ]
  },
  {
   "cell_type": "code",
   "execution_count": 3,
   "metadata": {},
   "outputs": [
    {
     "name": "stderr",
     "output_type": "stream",
     "text": [
      "\u001b[32m\u001b[1m   Resolving\u001b[22m\u001b[39m package versions...\n",
      "\u001b[32m\u001b[1m  No Changes\u001b[22m\u001b[39m to `C:\\Users\\86865\\.julia\\environments\\v1.6\\Project.toml`\n",
      "\u001b[32m\u001b[1m  No Changes\u001b[22m\u001b[39m to `C:\\Users\\86865\\.julia\\environments\\v1.6\\Manifest.toml`\n"
     ]
    }
   ],
   "source": [
    "Pkg.add(\"DataFrames\")"
   ]
  },
  {
   "cell_type": "code",
   "execution_count": 4,
   "metadata": {},
   "outputs": [
    {
     "name": "stderr",
     "output_type": "stream",
     "text": [
      "\u001b[32m\u001b[1m   Resolving\u001b[22m\u001b[39m package versions...\n",
      "\u001b[32m\u001b[1m  No Changes\u001b[22m\u001b[39m to `C:\\Users\\86865\\.julia\\environments\\v1.6\\Project.toml`\n",
      "\u001b[32m\u001b[1m  No Changes\u001b[22m\u001b[39m to `C:\\Users\\86865\\.julia\\environments\\v1.6\\Manifest.toml`\n"
     ]
    }
   ],
   "source": [
    "Pkg.add(\"Plots\")"
   ]
  },
  {
   "cell_type": "code",
   "execution_count": 5,
   "metadata": {},
   "outputs": [
    {
     "name": "stderr",
     "output_type": "stream",
     "text": [
      "\u001b[32m\u001b[1m   Resolving\u001b[22m\u001b[39m package versions...\n",
      "\u001b[32m\u001b[1m  No Changes\u001b[22m\u001b[39m to `C:\\Users\\86865\\.julia\\environments\\v1.6\\Project.toml`\n",
      "\u001b[32m\u001b[1m  No Changes\u001b[22m\u001b[39m to `C:\\Users\\86865\\.julia\\environments\\v1.6\\Manifest.toml`\n"
     ]
    }
   ],
   "source": [
    "Pkg.add(\"Lathe\")"
   ]
  },
  {
   "cell_type": "code",
   "execution_count": 6,
   "metadata": {},
   "outputs": [
    {
     "name": "stderr",
     "output_type": "stream",
     "text": [
      "\u001b[32m\u001b[1m   Resolving\u001b[22m\u001b[39m package versions...\n",
      "\u001b[32m\u001b[1m  No Changes\u001b[22m\u001b[39m to `C:\\Users\\86865\\.julia\\environments\\v1.6\\Project.toml`\n",
      "\u001b[32m\u001b[1m  No Changes\u001b[22m\u001b[39m to `C:\\Users\\86865\\.julia\\environments\\v1.6\\Manifest.toml`\n"
     ]
    }
   ],
   "source": [
    "Pkg.add(\"GLM\")"
   ]
  },
  {
   "cell_type": "code",
   "execution_count": 7,
   "metadata": {},
   "outputs": [
    {
     "name": "stderr",
     "output_type": "stream",
     "text": [
      "\u001b[32m\u001b[1m   Resolving\u001b[22m\u001b[39m package versions...\n",
      "\u001b[32m\u001b[1m  No Changes\u001b[22m\u001b[39m to `C:\\Users\\86865\\.julia\\environments\\v1.6\\Project.toml`\n",
      "\u001b[32m\u001b[1m  No Changes\u001b[22m\u001b[39m to `C:\\Users\\86865\\.julia\\environments\\v1.6\\Manifest.toml`\n"
     ]
    }
   ],
   "source": [
    "Pkg.add(\"StatsPlots\")"
   ]
  },
  {
   "cell_type": "code",
   "execution_count": 8,
   "metadata": {},
   "outputs": [
    {
     "name": "stderr",
     "output_type": "stream",
     "text": [
      "\u001b[32m\u001b[1m   Resolving\u001b[22m\u001b[39m package versions...\n",
      "\u001b[32m\u001b[1m  No Changes\u001b[22m\u001b[39m to `C:\\Users\\86865\\.julia\\environments\\v1.6\\Project.toml`\n",
      "\u001b[32m\u001b[1m  No Changes\u001b[22m\u001b[39m to `C:\\Users\\86865\\.julia\\environments\\v1.6\\Manifest.toml`\n"
     ]
    }
   ],
   "source": [
    "Pkg.add(\"MLBase\")"
   ]
  },
  {
   "cell_type": "code",
   "execution_count": 9,
   "metadata": {},
   "outputs": [
    {
     "name": "stderr",
     "output_type": "stream",
     "text": [
      "\u001b[32m\u001b[1m   Resolving\u001b[22m\u001b[39m package versions...\n",
      "\u001b[32m\u001b[1m  No Changes\u001b[22m\u001b[39m to `C:\\Users\\86865\\.julia\\environments\\v1.6\\Project.toml`\n",
      "\u001b[32m\u001b[1m  No Changes\u001b[22m\u001b[39m to `C:\\Users\\86865\\.julia\\environments\\v1.6\\Manifest.toml`\n"
     ]
    }
   ],
   "source": [
    "Pkg.add(\"LsqFit\")"
   ]
  },
  {
   "cell_type": "code",
   "execution_count": 10,
   "metadata": {},
   "outputs": [],
   "source": [
    "using CSV"
   ]
  },
  {
   "cell_type": "code",
   "execution_count": 11,
   "metadata": {},
   "outputs": [],
   "source": [
    "using DataFrames"
   ]
  },
  {
   "cell_type": "code",
   "execution_count": 12,
   "metadata": {},
   "outputs": [],
   "source": [
    "using Plots"
   ]
  },
  {
   "cell_type": "code",
   "execution_count": 13,
   "metadata": {},
   "outputs": [],
   "source": [
    "using Lathe"
   ]
  },
  {
   "cell_type": "code",
   "execution_count": 14,
   "metadata": {},
   "outputs": [],
   "source": [
    "using GLM"
   ]
  },
  {
   "cell_type": "code",
   "execution_count": 15,
   "metadata": {},
   "outputs": [],
   "source": [
    "using Statistics"
   ]
  },
  {
   "cell_type": "code",
   "execution_count": 16,
   "metadata": {},
   "outputs": [],
   "source": [
    "using StatsPlots"
   ]
  },
  {
   "cell_type": "code",
   "execution_count": 17,
   "metadata": {},
   "outputs": [],
   "source": [
    "using MLBase"
   ]
  },
  {
   "cell_type": "code",
   "execution_count": 18,
   "metadata": {},
   "outputs": [],
   "source": [
    "using LsqFit"
   ]
  },
  {
   "cell_type": "markdown",
   "metadata": {},
   "source": [
    "## Part A: Find the five point summary for summated rating and cost and then create a boxplot"
   ]
  },
  {
   "cell_type": "code",
   "execution_count": 136,
   "metadata": {},
   "outputs": [
    {
     "data": {
      "text/html": [
       "<table class=\"data-frame\"><thead><tr><th></th><th>Food </th><th>Decor</th><th>Service</th><th>Summated Rating</th><th>Cost</th></tr><tr><th></th><th>Int64</th><th>Int64</th><th>Int64</th><th>Int64</th><th>Int64</th></tr></thead><tbody><p>100 rows × 5 columns</p><tr><th>1</th><td>22</td><td>14</td><td>19</td><td>55</td><td>33</td></tr><tr><th>2</th><td>20</td><td>15</td><td>20</td><td>55</td><td>26</td></tr><tr><th>3</th><td>23</td><td>19</td><td>21</td><td>63</td><td>43</td></tr><tr><th>4</th><td>19</td><td>18</td><td>18</td><td>55</td><td>32</td></tr><tr><th>5</th><td>24</td><td>16</td><td>18</td><td>58</td><td>44</td></tr><tr><th>6</th><td>22</td><td>22</td><td>21</td><td>65</td><td>44</td></tr><tr><th>7</th><td>22</td><td>20</td><td>20</td><td>62</td><td>50</td></tr><tr><th>8</th><td>20</td><td>19</td><td>19</td><td>58</td><td>42</td></tr><tr><th>9</th><td>21</td><td>17</td><td>19</td><td>57</td><td>44</td></tr><tr><th>10</th><td>20</td><td>18</td><td>18</td><td>56</td><td>36</td></tr><tr><th>11</th><td>23</td><td>22</td><td>24</td><td>69</td><td>61</td></tr><tr><th>12</th><td>20</td><td>19</td><td>20</td><td>59</td><td>50</td></tr><tr><th>13</th><td>21</td><td>19</td><td>21</td><td>61</td><td>51</td></tr><tr><th>14</th><td>24</td><td>19</td><td>21</td><td>64</td><td>50</td></tr><tr><th>15</th><td>25</td><td>23</td><td>23</td><td>71</td><td>76</td></tr><tr><th>16</th><td>22</td><td>21</td><td>21</td><td>64</td><td>53</td></tr><tr><th>17</th><td>23</td><td>15</td><td>22</td><td>60</td><td>44</td></tr><tr><th>18</th><td>26</td><td>22</td><td>24</td><td>72</td><td>77</td></tr><tr><th>19</th><td>21</td><td>23</td><td>21</td><td>65</td><td>57</td></tr><tr><th>20</th><td>24</td><td>15</td><td>19</td><td>58</td><td>43</td></tr><tr><th>21</th><td>21</td><td>15</td><td>19</td><td>55</td><td>29</td></tr><tr><th>22</th><td>23</td><td>16</td><td>16</td><td>55</td><td>34</td></tr><tr><th>23</th><td>25</td><td>21</td><td>26</td><td>72</td><td>77</td></tr><tr><th>24</th><td>22</td><td>20</td><td>21</td><td>63</td><td>50</td></tr><tr><th>25</th><td>26</td><td>25</td><td>24</td><td>75</td><td>74</td></tr><tr><th>26</th><td>23</td><td>21</td><td>21</td><td>65</td><td>56</td></tr><tr><th>27</th><td>22</td><td>19</td><td>17</td><td>58</td><td>67</td></tr><tr><th>28</th><td>26</td><td>20</td><td>23</td><td>69</td><td>57</td></tr><tr><th>29</th><td>26</td><td>23</td><td>25</td><td>74</td><td>66</td></tr><tr><th>30</th><td>24</td><td>23</td><td>24</td><td>71</td><td>80</td></tr><tr><th>&vellip;</th><td>&vellip;</td><td>&vellip;</td><td>&vellip;</td><td>&vellip;</td><td>&vellip;</td></tr></tbody></table>"
      ],
      "text/latex": [
       "\\begin{tabular}{r|ccccc}\n",
       "\t& Food  & Decor & Service & Summated Rating & Cost\\\\\n",
       "\t\\hline\n",
       "\t& Int64 & Int64 & Int64 & Int64 & Int64\\\\\n",
       "\t\\hline\n",
       "\t1 & 22 & 14 & 19 & 55 & 33 \\\\\n",
       "\t2 & 20 & 15 & 20 & 55 & 26 \\\\\n",
       "\t3 & 23 & 19 & 21 & 63 & 43 \\\\\n",
       "\t4 & 19 & 18 & 18 & 55 & 32 \\\\\n",
       "\t5 & 24 & 16 & 18 & 58 & 44 \\\\\n",
       "\t6 & 22 & 22 & 21 & 65 & 44 \\\\\n",
       "\t7 & 22 & 20 & 20 & 62 & 50 \\\\\n",
       "\t8 & 20 & 19 & 19 & 58 & 42 \\\\\n",
       "\t9 & 21 & 17 & 19 & 57 & 44 \\\\\n",
       "\t10 & 20 & 18 & 18 & 56 & 36 \\\\\n",
       "\t11 & 23 & 22 & 24 & 69 & 61 \\\\\n",
       "\t12 & 20 & 19 & 20 & 59 & 50 \\\\\n",
       "\t13 & 21 & 19 & 21 & 61 & 51 \\\\\n",
       "\t14 & 24 & 19 & 21 & 64 & 50 \\\\\n",
       "\t15 & 25 & 23 & 23 & 71 & 76 \\\\\n",
       "\t16 & 22 & 21 & 21 & 64 & 53 \\\\\n",
       "\t17 & 23 & 15 & 22 & 60 & 44 \\\\\n",
       "\t18 & 26 & 22 & 24 & 72 & 77 \\\\\n",
       "\t19 & 21 & 23 & 21 & 65 & 57 \\\\\n",
       "\t20 & 24 & 15 & 19 & 58 & 43 \\\\\n",
       "\t21 & 21 & 15 & 19 & 55 & 29 \\\\\n",
       "\t22 & 23 & 16 & 16 & 55 & 34 \\\\\n",
       "\t23 & 25 & 21 & 26 & 72 & 77 \\\\\n",
       "\t24 & 22 & 20 & 21 & 63 & 50 \\\\\n",
       "\t25 & 26 & 25 & 24 & 75 & 74 \\\\\n",
       "\t26 & 23 & 21 & 21 & 65 & 56 \\\\\n",
       "\t27 & 22 & 19 & 17 & 58 & 67 \\\\\n",
       "\t28 & 26 & 20 & 23 & 69 & 57 \\\\\n",
       "\t29 & 26 & 23 & 25 & 74 & 66 \\\\\n",
       "\t30 & 24 & 23 & 24 & 71 & 80 \\\\\n",
       "\t$\\dots$ & $\\dots$ & $\\dots$ & $\\dots$ & $\\dots$ & $\\dots$ \\\\\n",
       "\\end{tabular}\n"
      ],
      "text/plain": [
       "\u001b[1m100×5 DataFrame\u001b[0m\n",
       "\u001b[1m Row \u001b[0m│\u001b[1m Food  \u001b[0m\u001b[1m Decor \u001b[0m\u001b[1m Service \u001b[0m\u001b[1m Summated Rating \u001b[0m\u001b[1m Cost  \u001b[0m\n",
       "\u001b[1m     \u001b[0m│\u001b[90m Int64 \u001b[0m\u001b[90m Int64 \u001b[0m\u001b[90m Int64   \u001b[0m\u001b[90m Int64           \u001b[0m\u001b[90m Int64 \u001b[0m\n",
       "─────┼───────────────────────────────────────────────\n",
       "   1 │    22     14       19               55     33\n",
       "   2 │    20     15       20               55     26\n",
       "   3 │    23     19       21               63     43\n",
       "   4 │    19     18       18               55     32\n",
       "   5 │    24     16       18               58     44\n",
       "   6 │    22     22       21               65     44\n",
       "   7 │    22     20       20               62     50\n",
       "   8 │    20     19       19               58     42\n",
       "   9 │    21     17       19               57     44\n",
       "  10 │    20     18       18               56     36\n",
       "  11 │    23     22       24               69     61\n",
       "  ⋮  │   ⋮      ⋮       ⋮            ⋮           ⋮\n",
       "  91 │    26     17       24               67     49\n",
       "  92 │    22     22       19               63     29\n",
       "  93 │    24     18       22               64     33\n",
       "  94 │    20     19       20               59     39\n",
       "  95 │    26     19       23               68     39\n",
       "  96 │    22     15       21               58     28\n",
       "  97 │    18     20       18               56     46\n",
       "  98 │    26     27       25               78     70\n",
       "  99 │    25     26       23               74     60\n",
       " 100 │    22     25       22               69     52\n",
       "\u001b[36m                                      79 rows omitted\u001b[0m"
      ]
     },
     "execution_count": 136,
     "metadata": {},
     "output_type": "execute_result"
    }
   ],
   "source": [
    "# Read data from the csv file\n",
    "data = CSV.read(\"Restaurant.CSV\", DataFrame)"
   ]
  },
  {
   "cell_type": "code",
   "execution_count": 137,
   "metadata": {},
   "outputs": [
    {
     "data": {
      "text/html": [
       "<table class=\"data-frame\"><thead><tr><th></th><th>variable</th><th>mean</th><th>min</th><th>median</th><th>max</th><th>nmissing</th><th>eltype</th></tr><tr><th></th><th>Symbol</th><th>Float64</th><th>Int64</th><th>Float64</th><th>Int64</th><th>Int64</th><th>DataType</th></tr></thead><tbody><p>5 rows × 7 columns</p><tr><th>1</th><td>Food </td><td>22.42</td><td>18</td><td>22.0</td><td>27</td><td>0</td><td>Int64</td></tr><tr><th>2</th><td>Decor</td><td>19.11</td><td>11</td><td>19.0</td><td>27</td><td>0</td><td>Int64</td></tr><tr><th>3</th><td>Service</td><td>21.04</td><td>16</td><td>21.0</td><td>27</td><td>0</td><td>Int64</td></tr><tr><th>4</th><td>Summated Rating</td><td>62.57</td><td>49</td><td>63.0</td><td>78</td><td>0</td><td>Int64</td></tr><tr><th>5</th><td>Cost</td><td>46.85</td><td>25</td><td>44.0</td><td>80</td><td>0</td><td>Int64</td></tr></tbody></table>"
      ],
      "text/latex": [
       "\\begin{tabular}{r|ccccccc}\n",
       "\t& variable & mean & min & median & max & nmissing & eltype\\\\\n",
       "\t\\hline\n",
       "\t& Symbol & Float64 & Int64 & Float64 & Int64 & Int64 & DataType\\\\\n",
       "\t\\hline\n",
       "\t1 & Food  & 22.42 & 18 & 22.0 & 27 & 0 & Int64 \\\\\n",
       "\t2 & Decor & 19.11 & 11 & 19.0 & 27 & 0 & Int64 \\\\\n",
       "\t3 & Service & 21.04 & 16 & 21.0 & 27 & 0 & Int64 \\\\\n",
       "\t4 & Summated Rating & 62.57 & 49 & 63.0 & 78 & 0 & Int64 \\\\\n",
       "\t5 & Cost & 46.85 & 25 & 44.0 & 80 & 0 & Int64 \\\\\n",
       "\\end{tabular}\n"
      ],
      "text/plain": [
       "\u001b[1m5×7 DataFrame\u001b[0m\n",
       "\u001b[1m Row \u001b[0m│\u001b[1m variable        \u001b[0m\u001b[1m mean    \u001b[0m\u001b[1m min   \u001b[0m\u001b[1m median  \u001b[0m\u001b[1m max   \u001b[0m\u001b[1m nmissing \u001b[0m\u001b[1m eltype   \u001b[0m\n",
       "\u001b[1m     \u001b[0m│\u001b[90m Symbol          \u001b[0m\u001b[90m Float64 \u001b[0m\u001b[90m Int64 \u001b[0m\u001b[90m Float64 \u001b[0m\u001b[90m Int64 \u001b[0m\u001b[90m Int64    \u001b[0m\u001b[90m DataType \u001b[0m\n",
       "─────┼─────────────────────────────────────────────────────────────────────\n",
       "   1 │ Food               22.42     18     22.0     27         0  Int64\n",
       "   2 │ Decor              19.11     11     19.0     27         0  Int64\n",
       "   3 │ Service            21.04     16     21.0     27         0  Int64\n",
       "   4 │ Summated Rating    62.57     49     63.0     78         0  Int64\n",
       "   5 │ Cost               46.85     25     44.0     80         0  Int64"
      ]
     },
     "execution_count": 137,
     "metadata": {},
     "output_type": "execute_result"
    }
   ],
   "source": [
    "# Provides the basic descriptive measures of the data\n",
    "describe(data)"
   ]
  },
  {
   "cell_type": "code",
   "execution_count": 138,
   "metadata": {},
   "outputs": [
    {
     "data": {
      "text/plain": [
       "100-element Vector{Int64}:\n",
       " 33\n",
       " 26\n",
       " 43\n",
       " 32\n",
       " 44\n",
       " 44\n",
       " 50\n",
       " 42\n",
       " 44\n",
       " 36\n",
       " 61\n",
       " 50\n",
       " 51\n",
       "  ⋮\n",
       " 67\n",
       " 68\n",
       " 49\n",
       " 29\n",
       " 33\n",
       " 39\n",
       " 39\n",
       " 28\n",
       " 46\n",
       " 70\n",
       " 60\n",
       " 52"
      ]
     },
     "execution_count": 138,
     "metadata": {},
     "output_type": "execute_result"
    }
   ],
   "source": [
    "# Store the specific column of the data file to be called later\n",
    "cost = data[!, \"Cost\"]"
   ]
  },
  {
   "cell_type": "code",
   "execution_count": 139,
   "metadata": {},
   "outputs": [
    {
     "data": {
      "text/plain": [
       "100-element Vector{Int64}:\n",
       " 55\n",
       " 55\n",
       " 63\n",
       " 55\n",
       " 58\n",
       " 65\n",
       " 62\n",
       " 58\n",
       " 57\n",
       " 56\n",
       " 69\n",
       " 59\n",
       " 61\n",
       "  ⋮\n",
       " 72\n",
       " 70\n",
       " 67\n",
       " 63\n",
       " 64\n",
       " 59\n",
       " 68\n",
       " 58\n",
       " 56\n",
       " 78\n",
       " 74\n",
       " 69"
      ]
     },
     "execution_count": 139,
     "metadata": {},
     "output_type": "execute_result"
    }
   ],
   "source": [
    "ratings = data[!, \"Summated Rating\"]"
   ]
  },
  {
   "cell_type": "code",
   "execution_count": 23,
   "metadata": {},
   "outputs": [
    {
     "data": {
      "text/plain": [
       "25"
      ]
     },
     "execution_count": 23,
     "metadata": {},
     "output_type": "execute_result"
    }
   ],
   "source": [
    "# The following find out the five point summary for cost and ratings\n",
    "y_min = minimum(cost)"
   ]
  },
  {
   "cell_type": "code",
   "execution_count": 24,
   "metadata": {},
   "outputs": [
    {
     "data": {
      "text/plain": [
       "80"
      ]
     },
     "execution_count": 24,
     "metadata": {},
     "output_type": "execute_result"
    }
   ],
   "source": [
    "y_max = maximum(cost)"
   ]
  },
  {
   "cell_type": "code",
   "execution_count": 25,
   "metadata": {},
   "outputs": [
    {
     "data": {
      "text/plain": [
       "36.0"
      ]
     },
     "execution_count": 25,
     "metadata": {},
     "output_type": "execute_result"
    }
   ],
   "source": [
    "y_q1 = quantile!(cost, 0.25)"
   ]
  },
  {
   "cell_type": "code",
   "execution_count": 26,
   "metadata": {},
   "outputs": [
    {
     "data": {
      "text/plain": [
       "54.25"
      ]
     },
     "execution_count": 26,
     "metadata": {},
     "output_type": "execute_result"
    }
   ],
   "source": [
    "y_q3 = quantile!(cost, 0.75)"
   ]
  },
  {
   "cell_type": "code",
   "execution_count": 27,
   "metadata": {},
   "outputs": [
    {
     "data": {
      "text/plain": [
       "44.0"
      ]
     },
     "execution_count": 27,
     "metadata": {},
     "output_type": "execute_result"
    }
   ],
   "source": [
    "y_median = median!(cost)"
   ]
  },
  {
   "cell_type": "code",
   "execution_count": 28,
   "metadata": {},
   "outputs": [
    {
     "data": {
      "text/plain": [
       "49"
      ]
     },
     "execution_count": 28,
     "metadata": {},
     "output_type": "execute_result"
    }
   ],
   "source": [
    "x_min = minimum(ratings)"
   ]
  },
  {
   "cell_type": "code",
   "execution_count": 29,
   "metadata": {},
   "outputs": [
    {
     "data": {
      "text/plain": [
       "78"
      ]
     },
     "execution_count": 29,
     "metadata": {},
     "output_type": "execute_result"
    }
   ],
   "source": [
    "x_max = maximum(ratings)"
   ]
  },
  {
   "cell_type": "code",
   "execution_count": 30,
   "metadata": {},
   "outputs": [
    {
     "data": {
      "text/plain": [
       "57.0"
      ]
     },
     "execution_count": 30,
     "metadata": {},
     "output_type": "execute_result"
    }
   ],
   "source": [
    "x_q1 = quantile!(ratings, 0.25)"
   ]
  },
  {
   "cell_type": "code",
   "execution_count": 31,
   "metadata": {},
   "outputs": [
    {
     "data": {
      "text/plain": [
       "67.0"
      ]
     },
     "execution_count": 31,
     "metadata": {},
     "output_type": "execute_result"
    }
   ],
   "source": [
    "x_q3 = quantile!(ratings, 0.75)"
   ]
  },
  {
   "cell_type": "code",
   "execution_count": 32,
   "metadata": {},
   "outputs": [
    {
     "data": {
      "text/plain": [
       "63.0"
      ]
     },
     "execution_count": 32,
     "metadata": {},
     "output_type": "execute_result"
    }
   ],
   "source": [
    "x_median = median!(ratings)"
   ]
  },
  {
   "cell_type": "code",
   "execution_count": 33,
   "metadata": {},
   "outputs": [
    {
     "name": "stdout",
     "output_type": "stream",
     "text": [
      "The five point summary for costs is 25, 36.0, 44.0, 54.25, 80\n",
      "The five point summary for ratings is 49, 57.0, 63.0, 67.0, 78\n"
     ]
    }
   ],
   "source": [
    "println(\"The five point summary for costs is $y_min, $y_q1, $y_median, $y_q3, $y_max\")\n",
    "println(\"The five point summary for ratings is $x_min, $x_q1, $x_median, $x_q3, $x_max\")"
   ]
  },
  {
   "cell_type": "code",
   "execution_count": 34,
   "metadata": {},
   "outputs": [
    {
     "data": {
      "text/html": [
       "<script>\n",
       "// Immediately-invoked-function-expression to avoid global variables.\n",
       "(function() {\n",
       "    var warning_div = document.getElementById(\"webio-warning-16571047545680184628\");\n",
       "    var hide = function () {\n",
       "        var script = document.getElementById(\"webio-setup-11231192010666364769\");\n",
       "        var parent = script && script.parentElement;\n",
       "        var grandparent = parent && parent.parentElement;\n",
       "        if (grandparent) {\n",
       "            grandparent.style.display = \"none\";\n",
       "        }\n",
       "        warning_div.style.display = \"none\";\n",
       "    };\n",
       "    if (typeof Jupyter !== \"undefined\") {\n",
       "        console.log(\"WebIO detected Jupyter notebook environment.\");\n",
       "        // Jupyter notebook.\n",
       "        var extensions = (\n",
       "            Jupyter\n",
       "            && Jupyter.notebook.config.data\n",
       "            && Jupyter.notebook.config.data.load_extensions\n",
       "        );\n",
       "        if (extensions && extensions[\"webio-jupyter-notebook\"]) {\n",
       "            // Extension already loaded.\n",
       "            console.log(\"Jupyter WebIO nbextension detected; not loading ad-hoc.\");\n",
       "            hide();\n",
       "            return;\n",
       "        }\n",
       "    } else if (window.location.pathname.includes(\"/lab\")) {\n",
       "        // Guessing JupyterLa\n",
       "        console.log(\"Jupyter Lab detected; make sure the @webio/jupyter-lab-provider labextension is installed.\");\n",
       "        hide();\n",
       "        return;\n",
       "    }\n",
       "})();\n",
       "\n",
       "</script>\n",
       "<p\n",
       "    id=\"webio-warning-16571047545680184628\"\n",
       "    class=\"output_text output_stderr\"\n",
       "    style=\"padding: 1em; font-weight: bold;\"\n",
       ">\n",
       "    Unable to load WebIO. Please make sure WebIO works for your Jupyter client.\n",
       "    For troubleshooting, please see <a href=\"https://juliagizmos.github.io/WebIO.jl/latest/providers/ijulia/\">\n",
       "    the WebIO/IJulia documentation</a>.\n",
       "    <!-- TODO: link to installation docs. -->\n",
       "</p>\n"
      ],
      "text/plain": [
       "HTML{String}(\"<script>\\n// Immediately-invoked-function-expression to avoid global variables.\\n(function() {\\n    var warning_div = document.getElementById(\\\"webio-warning-16571047545680184628\\\");\\n    var hide = function () {\\n        var script = document.getElementById(\\\"webio-setup-11231192010666364769\\\");\\n        var parent = script && script.parentElement;\\n        var grandparent = parent && parent.parentElement;\\n        if (grandparent) {\\n            grandparent.style.display = \\\"none\\\";\\n        }\\n        warning_div.style.display = \\\"none\\\";\\n    };\\n    if (typeof Jupyter !== \\\"undefined\\\") {\\n        console.log(\\\"WebIO detected Jupyter notebook environment.\\\");\\n        // Jupyter notebook.\\n        var extensions = (\\n            Jupyter\\n            && Jupyter.notebook.config.data\\n            && Jupyter.notebook.config.data.load_extensions\\n        );\\n        if (extensions && extensions[\\\"webio-jupyter-notebook\\\"]) {\\n            // Extension already loaded.\\n            console.log(\\\"Jupyter WebIO nbextension detected; not loading ad-hoc.\\\");\\n            hide();\\n            return;\\n        }\\n    } else if (window.location.pathname.includes(\\\"/lab\\\")) {\\n        // Guessing JupyterLa\\n        console.log(\\\"Jupyter Lab detected; make sure the @webio/jupyter-lab-provider labextension is installed.\\\");\\n        hide();\\n        return;\\n    }\\n})();\\n\\n</script>\\n<p\\n    id=\\\"webio-warning-16571047545680184628\\\"\\n    class=\\\"output_text output_stderr\\\"\\n    style=\\\"padding: 1em; font-weight: bold;\\\"\\n>\\n    Unable to load WebIO. Please make sure WebIO works for your Jupyter client.\\n    For troubleshooting, please see <a href=\\\"https://juliagizmos.github.io/WebIO.jl/latest/providers/ijulia/\\\">\\n    the WebIO/IJulia documentation</a>.\\n    <!-- TODO: link to installation docs. -->\\n</p>\\n\")"
      ]
     },
     "metadata": {},
     "output_type": "display_data"
    },
    {
     "data": {
      "text/plain": [
       "Plots.PlotlyJSBackend()"
      ]
     },
     "execution_count": 34,
     "metadata": {},
     "output_type": "execute_result"
    }
   ],
   "source": [
    "# This is the plotlyjs backends which allows the graph to show coordinates\n",
    "plotlyjs()"
   ]
  },
  {
   "cell_type": "code",
   "execution_count": 142,
   "metadata": {},
   "outputs": [
    {
     "data": {
      "application/vnd.plotly.v1+json": {
       "data": [
        {
         "fill": "tozeroy",
         "fillcolor": "rgba(0, 154, 250, 1.000)",
         "hoverinfo": "none",
         "legendgroup": "y1",
         "line": {
          "color": "rgba(0, 0, 0, 1.000)",
          "dash": "solid",
          "width": 1
         },
         "mode": "lines",
         "name": "y1",
         "showlegend": true,
         "type": "scatter",
         "x": [
          1,
          0.8,
          1.2,
          1,
          1,
          1
         ],
         "xaxis": "x1",
         "y": [
          49,
          49,
          49,
          49,
          57,
          49
         ],
         "yaxis": "y1"
        },
        {
         "fill": "tozeroy",
         "fillcolor": "rgba(0, 154, 250, 1.000)",
         "hoverinfo": "none",
         "legendgroup": "y1",
         "line": {
          "color": "rgba(0, 0, 0, 1.000)",
          "dash": "solid",
          "width": 1
         },
         "mode": "lines",
         "name": "y1",
         "showlegend": false,
         "type": "scatter",
         "x": [
          1.4,
          1.4,
          0.6,
          0.6,
          1.4,
          1.4,
          1.4
         ],
         "xaxis": "x1",
         "y": [
          57,
          63,
          63,
          57,
          57,
          63,
          57
         ],
         "yaxis": "y1"
        },
        {
         "fill": "tozeroy",
         "fillcolor": "rgba(0, 154, 250, 1.000)",
         "hoverinfo": "none",
         "legendgroup": "y1",
         "line": {
          "color": "rgba(0, 0, 0, 1.000)",
          "dash": "solid",
          "width": 1
         },
         "mode": "lines",
         "name": "y1",
         "showlegend": false,
         "type": "scatter",
         "x": [
          1.4,
          0.6,
          0.6,
          1.4,
          1.4,
          1,
          1.4
         ],
         "xaxis": "x1",
         "y": [
          67,
          67,
          63,
          63,
          67,
          67,
          67
         ],
         "yaxis": "y1"
        },
        {
         "fill": "tozeroy",
         "fillcolor": "rgba(0, 154, 250, 1.000)",
         "hoverinfo": "none",
         "legendgroup": "y1",
         "line": {
          "color": "rgba(0, 0, 0, 1.000)",
          "dash": "solid",
          "width": 1
         },
         "mode": "lines",
         "name": "y1",
         "showlegend": false,
         "type": "scatter",
         "x": [
          1,
          0.8,
          1.2,
          1,
          1,
          1
         ],
         "xaxis": "x1",
         "y": [
          78,
          78,
          78,
          78,
          67,
          78
         ],
         "yaxis": "y1"
        },
        {
         "colorbar": {
          "title": ""
         },
         "hoverinfo": "text",
         "legendgroup": "y1",
         "line": {
          "color": "rgba(0, 154, 250, 1.000)",
          "dash": "solid",
          "shape": "linear",
          "width": 0
         },
         "mode": "lines",
         "name": "y1",
         "showlegend": false,
         "text": [
          "Lower fence: 49.0",
          "Lower fence: 49.0",
          "Lower fence: 49.0",
          "Lower fence: 49.0",
          "Q1: 57.0"
         ],
         "type": "scatter",
         "x": [
          1,
          0.8,
          1.2,
          1,
          1
         ],
         "xaxis": "x",
         "y": [
          49,
          49,
          49,
          49,
          57
         ],
         "yaxis": "y",
         "zmax": null,
         "zmin": null
        },
        {
         "colorbar": {
          "title": ""
         },
         "hoverinfo": "text",
         "legendgroup": "y1",
         "line": {
          "color": "rgba(0, 154, 250, 1.000)",
          "dash": "solid",
          "shape": "linear",
          "width": 0
         },
         "mode": "lines",
         "name": "y1",
         "showlegend": false,
         "text": [
          "Q1: 57.0",
          "Median: 63.0",
          "Median: 63.0",
          "Q1: 57.0",
          "Q1: 57.0",
          "Median: 63.0"
         ],
         "type": "scatter",
         "x": [
          1.4,
          1.4,
          0.6,
          0.6,
          1.4,
          1.4
         ],
         "xaxis": "x",
         "y": [
          57,
          63,
          63,
          57,
          57,
          63
         ],
         "yaxis": "y",
         "zmax": null,
         "zmin": null
        },
        {
         "colorbar": {
          "title": ""
         },
         "hoverinfo": "text",
         "legendgroup": "y1",
         "line": {
          "color": "rgba(0, 154, 250, 1.000)",
          "dash": "solid",
          "shape": "linear",
          "width": 0
         },
         "mode": "lines",
         "name": "y1",
         "showlegend": false,
         "text": [
          "Q3: 67.0",
          "Q3: 67.0",
          "Median: 63.0",
          "Median: 63.0",
          "Q3: 67.0",
          "Q3: 67.0"
         ],
         "type": "scatter",
         "x": [
          1.4,
          0.6,
          0.6,
          1.4,
          1.4,
          1
         ],
         "xaxis": "x",
         "y": [
          67,
          67,
          63,
          63,
          67,
          67
         ],
         "yaxis": "y",
         "zmax": null,
         "zmin": null
        },
        {
         "colorbar": {
          "title": ""
         },
         "hoverinfo": "text",
         "legendgroup": "y1",
         "line": {
          "color": "rgba(0, 154, 250, 1.000)",
          "dash": "solid",
          "shape": "linear",
          "width": 0
         },
         "mode": "lines",
         "name": "y1",
         "showlegend": false,
         "text": [
          "Upper fence: 78.0",
          "Upper fence: 78.0",
          "Upper fence: 78.0",
          "Upper fence: 78.0",
          "Q3: 67.0"
         ],
         "type": "scatter",
         "x": [
          1,
          0.8,
          1.2,
          1,
          1
         ],
         "xaxis": "x",
         "y": [
          78,
          78,
          78,
          78,
          67
         ],
         "yaxis": "y",
         "zmax": null,
         "zmin": null
        }
       ],
       "layout": {
        "annotations": [
         {
          "font": {
           "color": "rgba(0, 0, 0, 1.000)",
           "family": "sans-serif",
           "size": 20
          },
          "rotation": 0,
          "showarrow": false,
          "text": "Box Plot - Restaurant ratings",
          "x": 0.5275462962962963,
          "xanchor": "center",
          "xref": "paper",
          "y": 1,
          "yanchor": "top",
          "yref": "paper"
         }
        ],
        "height": 400,
        "legend": {
         "bgcolor": "rgba(255, 255, 255, 1.000)",
         "bordercolor": "rgba(0, 0, 0, 1.000)",
         "borderwidth": 1,
         "font": {
          "color": "rgba(0, 0, 0, 1.000)",
          "family": "sans-serif",
          "size": 11
         },
         "title": {
          "font": {
           "color": "rgba(0, 0, 0, 1.000)",
           "family": "sans-serif",
           "size": 15
          },
          "text": ""
         },
         "tracegroupgap": 0,
         "traceorder": "normal",
         "x": 1,
         "xanchor": "auto",
         "y": 1,
         "yanchor": "auto"
        },
        "margin": {
         "b": 20,
         "l": 0,
         "r": 0,
         "t": 20
        },
        "paper_bgcolor": "rgba(255, 255, 255, 1.000)",
        "plot_bgcolor": "rgba(255, 255, 255, 1.000)",
        "showlegend": true,
        "width": 600,
        "xaxis": {
         "anchor": "y",
         "domain": [
          0.061654272382618835,
          0.9934383202099737
         ],
         "gridcolor": "rgba(0, 0, 0, 0.100)",
         "gridwidth": 0.5,
         "linecolor": "rgba(0, 0, 0, 1.000)",
         "mirror": false,
         "range": [
          0.576,
          1.424
         ],
         "showgrid": true,
         "showline": true,
         "showticklabels": true,
         "tickangle": 0,
         "tickcolor": "rgb(0, 0, 0)",
         "tickfont": {
          "color": "rgba(0, 0, 0, 1.000)",
          "family": "sans-serif",
          "size": 11
         },
         "tickmode": "array",
         "ticks": "inside",
         "ticktext": [
          "0.6",
          "0.8",
          "1.0",
          "1.2",
          "1.4"
         ],
         "tickvals": [
          0.6000000000000001,
          0.8,
          1,
          1.2000000000000002,
          1.4000000000000001
         ],
         "title": "",
         "titlefont": {
          "color": "rgba(0, 0, 0, 1.000)",
          "family": "sans-serif",
          "size": 15
         },
         "type": "-",
         "visible": true,
         "zeroline": false,
         "zerolinecolor": "rgba(0, 0, 0, 1.000)"
        },
        "yaxis": {
         "anchor": "x",
         "domain": [
          0.03762029746281716,
          0.9415463692038496
         ],
         "gridcolor": "rgba(0, 0, 0, 0.100)",
         "gridwidth": 0.5,
         "linecolor": "rgba(0, 0, 0, 1.000)",
         "mirror": false,
         "range": [
          48.13,
          78.87
         ],
         "showgrid": true,
         "showline": true,
         "showticklabels": true,
         "tickangle": 0,
         "tickcolor": "rgb(0, 0, 0)",
         "tickfont": {
          "color": "rgba(0, 0, 0, 1.000)",
          "family": "sans-serif",
          "size": 11
         },
         "tickmode": "array",
         "ticks": "inside",
         "ticktext": [
          "50",
          "55",
          "60",
          "65",
          "70",
          "75"
         ],
         "tickvals": [
          50,
          55,
          60,
          65,
          70,
          75
         ],
         "title": "Ratings",
         "titlefont": {
          "color": "rgba(0, 0, 0, 1.000)",
          "family": "sans-serif",
          "size": 15
         },
         "type": "-",
         "visible": true,
         "zeroline": false,
         "zerolinecolor": "rgba(0, 0, 0, 1.000)"
        }
       }
      },
      "text/html": [
       "<!DOCTYPE html>\n",
       "<html>\n",
       "    <head>\n",
       "        <title>Plots.jl</title>\n",
       "        <meta http-equiv=\"content-type\" content=\"text/html; charset=UTF-8\">\n",
       "        \n",
       "    </head>\n",
       "    <body>\n",
       "            <div id=\"8e4623dd-9a80-4df1-a1a0-5aa200df6a0e\" style=\"width:600px;height:400px;\"></div>\n",
       "    <script>\n",
       "        requirejs.config({\n",
       "        paths: {\n",
       "            Plotly: 'https://cdn.plot.ly/plotly-1.57.1.min'\n",
       "        }\n",
       "    });\n",
       "    require(['Plotly'], function (Plotly) {\n",
       "\n",
       "        var PLOT = document.getElementById('8e4623dd-9a80-4df1-a1a0-5aa200df6a0e');\n",
       "    Plotly.plot(PLOT, [\n",
       "    {\n",
       "        \"xaxis\": \"x1\",\n",
       "        \"fill\": \"tozeroy\",\n",
       "        \"yaxis\": \"y1\",\n",
       "        \"x\": [\n",
       "            1.0,\n",
       "            0.8,\n",
       "            1.2,\n",
       "            1.0,\n",
       "            1.0,\n",
       "            1.0\n",
       "        ],\n",
       "        \"showlegend\": true,\n",
       "        \"mode\": \"lines\",\n",
       "        \"fillcolor\": \"rgba(0, 154, 250, 1.000)\",\n",
       "        \"name\": \"y1\",\n",
       "        \"legendgroup\": \"y1\",\n",
       "        \"line\": {\n",
       "            \"color\": \"rgba(0, 0, 0, 1.000)\",\n",
       "            \"dash\": \"solid\",\n",
       "            \"width\": 1\n",
       "        },\n",
       "        \"y\": [\n",
       "            49.0,\n",
       "            49.0,\n",
       "            49.0,\n",
       "            49.0,\n",
       "            57.0,\n",
       "            49.0\n",
       "        ],\n",
       "        \"type\": \"scatter\",\n",
       "        \"hoverinfo\": \"none\"\n",
       "    },\n",
       "    {\n",
       "        \"xaxis\": \"x1\",\n",
       "        \"fill\": \"tozeroy\",\n",
       "        \"yaxis\": \"y1\",\n",
       "        \"x\": [\n",
       "            1.4,\n",
       "            1.4,\n",
       "            0.6,\n",
       "            0.6,\n",
       "            1.4,\n",
       "            1.4,\n",
       "            1.4\n",
       "        ],\n",
       "        \"showlegend\": false,\n",
       "        \"mode\": \"lines\",\n",
       "        \"fillcolor\": \"rgba(0, 154, 250, 1.000)\",\n",
       "        \"name\": \"y1\",\n",
       "        \"legendgroup\": \"y1\",\n",
       "        \"line\": {\n",
       "            \"color\": \"rgba(0, 0, 0, 1.000)\",\n",
       "            \"dash\": \"solid\",\n",
       "            \"width\": 1\n",
       "        },\n",
       "        \"y\": [\n",
       "            57.0,\n",
       "            63.0,\n",
       "            63.0,\n",
       "            57.0,\n",
       "            57.0,\n",
       "            63.0,\n",
       "            57.0\n",
       "        ],\n",
       "        \"type\": \"scatter\",\n",
       "        \"hoverinfo\": \"none\"\n",
       "    },\n",
       "    {\n",
       "        \"xaxis\": \"x1\",\n",
       "        \"fill\": \"tozeroy\",\n",
       "        \"yaxis\": \"y1\",\n",
       "        \"x\": [\n",
       "            1.4,\n",
       "            0.6,\n",
       "            0.6,\n",
       "            1.4,\n",
       "            1.4,\n",
       "            1.0,\n",
       "            1.4\n",
       "        ],\n",
       "        \"showlegend\": false,\n",
       "        \"mode\": \"lines\",\n",
       "        \"fillcolor\": \"rgba(0, 154, 250, 1.000)\",\n",
       "        \"name\": \"y1\",\n",
       "        \"legendgroup\": \"y1\",\n",
       "        \"line\": {\n",
       "            \"color\": \"rgba(0, 0, 0, 1.000)\",\n",
       "            \"dash\": \"solid\",\n",
       "            \"width\": 1\n",
       "        },\n",
       "        \"y\": [\n",
       "            67.0,\n",
       "            67.0,\n",
       "            63.0,\n",
       "            63.0,\n",
       "            67.0,\n",
       "            67.0,\n",
       "            67.0\n",
       "        ],\n",
       "        \"type\": \"scatter\",\n",
       "        \"hoverinfo\": \"none\"\n",
       "    },\n",
       "    {\n",
       "        \"xaxis\": \"x1\",\n",
       "        \"fill\": \"tozeroy\",\n",
       "        \"yaxis\": \"y1\",\n",
       "        \"x\": [\n",
       "            1.0,\n",
       "            0.8,\n",
       "            1.2,\n",
       "            1.0,\n",
       "            1.0,\n",
       "            1.0\n",
       "        ],\n",
       "        \"showlegend\": false,\n",
       "        \"mode\": \"lines\",\n",
       "        \"fillcolor\": \"rgba(0, 154, 250, 1.000)\",\n",
       "        \"name\": \"y1\",\n",
       "        \"legendgroup\": \"y1\",\n",
       "        \"line\": {\n",
       "            \"color\": \"rgba(0, 0, 0, 1.000)\",\n",
       "            \"dash\": \"solid\",\n",
       "            \"width\": 1\n",
       "        },\n",
       "        \"y\": [\n",
       "            78.0,\n",
       "            78.0,\n",
       "            78.0,\n",
       "            78.0,\n",
       "            67.0,\n",
       "            78.0\n",
       "        ],\n",
       "        \"type\": \"scatter\",\n",
       "        \"hoverinfo\": \"none\"\n",
       "    },\n",
       "    {\n",
       "        \"xaxis\": \"x\",\n",
       "        \"colorbar\": {\n",
       "            \"title\": \"\"\n",
       "        },\n",
       "        \"yaxis\": \"y\",\n",
       "        \"text\": [\n",
       "            \"Lower fence: 49.0\",\n",
       "            \"Lower fence: 49.0\",\n",
       "            \"Lower fence: 49.0\",\n",
       "            \"Lower fence: 49.0\",\n",
       "            \"Q1: 57.0\"\n",
       "        ],\n",
       "        \"x\": [\n",
       "            1.0,\n",
       "            0.8,\n",
       "            1.2,\n",
       "            1.0,\n",
       "            1.0\n",
       "        ],\n",
       "        \"showlegend\": false,\n",
       "        \"mode\": \"lines\",\n",
       "        \"name\": \"y1\",\n",
       "        \"zmin\": null,\n",
       "        \"legendgroup\": \"y1\",\n",
       "        \"zmax\": null,\n",
       "        \"line\": {\n",
       "            \"color\": \"rgba(0, 154, 250, 1.000)\",\n",
       "            \"shape\": \"linear\",\n",
       "            \"dash\": \"solid\",\n",
       "            \"width\": 0\n",
       "        },\n",
       "        \"y\": [\n",
       "            49.0,\n",
       "            49.0,\n",
       "            49.0,\n",
       "            49.0,\n",
       "            57.0\n",
       "        ],\n",
       "        \"type\": \"scatter\",\n",
       "        \"hoverinfo\": \"text\"\n",
       "    },\n",
       "    {\n",
       "        \"xaxis\": \"x\",\n",
       "        \"colorbar\": {\n",
       "            \"title\": \"\"\n",
       "        },\n",
       "        \"yaxis\": \"y\",\n",
       "        \"text\": [\n",
       "            \"Q1: 57.0\",\n",
       "            \"Median: 63.0\",\n",
       "            \"Median: 63.0\",\n",
       "            \"Q1: 57.0\",\n",
       "            \"Q1: 57.0\",\n",
       "            \"Median: 63.0\"\n",
       "        ],\n",
       "        \"x\": [\n",
       "            1.4,\n",
       "            1.4,\n",
       "            0.6,\n",
       "            0.6,\n",
       "            1.4,\n",
       "            1.4\n",
       "        ],\n",
       "        \"showlegend\": false,\n",
       "        \"mode\": \"lines\",\n",
       "        \"name\": \"y1\",\n",
       "        \"zmin\": null,\n",
       "        \"legendgroup\": \"y1\",\n",
       "        \"zmax\": null,\n",
       "        \"line\": {\n",
       "            \"color\": \"rgba(0, 154, 250, 1.000)\",\n",
       "            \"shape\": \"linear\",\n",
       "            \"dash\": \"solid\",\n",
       "            \"width\": 0\n",
       "        },\n",
       "        \"y\": [\n",
       "            57.0,\n",
       "            63.0,\n",
       "            63.0,\n",
       "            57.0,\n",
       "            57.0,\n",
       "            63.0\n",
       "        ],\n",
       "        \"type\": \"scatter\",\n",
       "        \"hoverinfo\": \"text\"\n",
       "    },\n",
       "    {\n",
       "        \"xaxis\": \"x\",\n",
       "        \"colorbar\": {\n",
       "            \"title\": \"\"\n",
       "        },\n",
       "        \"yaxis\": \"y\",\n",
       "        \"text\": [\n",
       "            \"Q3: 67.0\",\n",
       "            \"Q3: 67.0\",\n",
       "            \"Median: 63.0\",\n",
       "            \"Median: 63.0\",\n",
       "            \"Q3: 67.0\",\n",
       "            \"Q3: 67.0\"\n",
       "        ],\n",
       "        \"x\": [\n",
       "            1.4,\n",
       "            0.6,\n",
       "            0.6,\n",
       "            1.4,\n",
       "            1.4,\n",
       "            1.0\n",
       "        ],\n",
       "        \"showlegend\": false,\n",
       "        \"mode\": \"lines\",\n",
       "        \"name\": \"y1\",\n",
       "        \"zmin\": null,\n",
       "        \"legendgroup\": \"y1\",\n",
       "        \"zmax\": null,\n",
       "        \"line\": {\n",
       "            \"color\": \"rgba(0, 154, 250, 1.000)\",\n",
       "            \"shape\": \"linear\",\n",
       "            \"dash\": \"solid\",\n",
       "            \"width\": 0\n",
       "        },\n",
       "        \"y\": [\n",
       "            67.0,\n",
       "            67.0,\n",
       "            63.0,\n",
       "            63.0,\n",
       "            67.0,\n",
       "            67.0\n",
       "        ],\n",
       "        \"type\": \"scatter\",\n",
       "        \"hoverinfo\": \"text\"\n",
       "    },\n",
       "    {\n",
       "        \"xaxis\": \"x\",\n",
       "        \"colorbar\": {\n",
       "            \"title\": \"\"\n",
       "        },\n",
       "        \"yaxis\": \"y\",\n",
       "        \"text\": [\n",
       "            \"Upper fence: 78.0\",\n",
       "            \"Upper fence: 78.0\",\n",
       "            \"Upper fence: 78.0\",\n",
       "            \"Upper fence: 78.0\",\n",
       "            \"Q3: 67.0\"\n",
       "        ],\n",
       "        \"x\": [\n",
       "            1.0,\n",
       "            0.8,\n",
       "            1.2,\n",
       "            1.0,\n",
       "            1.0\n",
       "        ],\n",
       "        \"showlegend\": false,\n",
       "        \"mode\": \"lines\",\n",
       "        \"name\": \"y1\",\n",
       "        \"zmin\": null,\n",
       "        \"legendgroup\": \"y1\",\n",
       "        \"zmax\": null,\n",
       "        \"line\": {\n",
       "            \"color\": \"rgba(0, 154, 250, 1.000)\",\n",
       "            \"shape\": \"linear\",\n",
       "            \"dash\": \"solid\",\n",
       "            \"width\": 0\n",
       "        },\n",
       "        \"y\": [\n",
       "            78.0,\n",
       "            78.0,\n",
       "            78.0,\n",
       "            78.0,\n",
       "            67.0\n",
       "        ],\n",
       "        \"type\": \"scatter\",\n",
       "        \"hoverinfo\": \"text\"\n",
       "    }\n",
       "]\n",
       ", {\n",
       "    \"showlegend\": true,\n",
       "    \"xaxis\": {\n",
       "        \"showticklabels\": true,\n",
       "        \"gridwidth\": 0.5,\n",
       "        \"tickvals\": [\n",
       "            0.6000000000000001,\n",
       "            0.8,\n",
       "            1.0,\n",
       "            1.2000000000000002,\n",
       "            1.4000000000000001\n",
       "        ],\n",
       "        \"range\": [\n",
       "            0.576,\n",
       "            1.424\n",
       "        ],\n",
       "        \"domain\": [\n",
       "            0.061654272382618835,\n",
       "            0.9934383202099737\n",
       "        ],\n",
       "        \"mirror\": false,\n",
       "        \"tickangle\": 0,\n",
       "        \"showline\": true,\n",
       "        \"ticktext\": [\n",
       "            \"0.6\",\n",
       "            \"0.8\",\n",
       "            \"1.0\",\n",
       "            \"1.2\",\n",
       "            \"1.4\"\n",
       "        ],\n",
       "        \"zeroline\": false,\n",
       "        \"tickfont\": {\n",
       "            \"color\": \"rgba(0, 0, 0, 1.000)\",\n",
       "            \"family\": \"sans-serif\",\n",
       "            \"size\": 11\n",
       "        },\n",
       "        \"zerolinecolor\": \"rgba(0, 0, 0, 1.000)\",\n",
       "        \"anchor\": \"y\",\n",
       "        \"visible\": true,\n",
       "        \"ticks\": \"inside\",\n",
       "        \"tickmode\": \"array\",\n",
       "        \"linecolor\": \"rgba(0, 0, 0, 1.000)\",\n",
       "        \"showgrid\": true,\n",
       "        \"title\": \"\",\n",
       "        \"gridcolor\": \"rgba(0, 0, 0, 0.100)\",\n",
       "        \"titlefont\": {\n",
       "            \"color\": \"rgba(0, 0, 0, 1.000)\",\n",
       "            \"family\": \"sans-serif\",\n",
       "            \"size\": 15\n",
       "        },\n",
       "        \"tickcolor\": \"rgb(0, 0, 0)\",\n",
       "        \"type\": \"-\"\n",
       "    },\n",
       "    \"paper_bgcolor\": \"rgba(255, 255, 255, 1.000)\",\n",
       "    \"annotations\": [\n",
       "        {\n",
       "            \"yanchor\": \"top\",\n",
       "            \"xanchor\": \"center\",\n",
       "            \"rotation\": -0.0,\n",
       "            \"y\": 1.0,\n",
       "            \"font\": {\n",
       "                \"color\": \"rgba(0, 0, 0, 1.000)\",\n",
       "                \"family\": \"sans-serif\",\n",
       "                \"size\": 20\n",
       "            },\n",
       "            \"yref\": \"paper\",\n",
       "            \"showarrow\": false,\n",
       "            \"text\": \"Box Plot - Restaurant ratings\",\n",
       "            \"xref\": \"paper\",\n",
       "            \"x\": 0.5275462962962963\n",
       "        }\n",
       "    ],\n",
       "    \"height\": 400,\n",
       "    \"margin\": {\n",
       "        \"l\": 0,\n",
       "        \"b\": 20,\n",
       "        \"r\": 0,\n",
       "        \"t\": 20\n",
       "    },\n",
       "    \"plot_bgcolor\": \"rgba(255, 255, 255, 1.000)\",\n",
       "    \"yaxis\": {\n",
       "        \"showticklabels\": true,\n",
       "        \"gridwidth\": 0.5,\n",
       "        \"tickvals\": [\n",
       "            50.0,\n",
       "            55.0,\n",
       "            60.0,\n",
       "            65.0,\n",
       "            70.0,\n",
       "            75.0\n",
       "        ],\n",
       "        \"range\": [\n",
       "            48.13,\n",
       "            78.87\n",
       "        ],\n",
       "        \"domain\": [\n",
       "            0.03762029746281716,\n",
       "            0.9415463692038496\n",
       "        ],\n",
       "        \"mirror\": false,\n",
       "        \"tickangle\": 0,\n",
       "        \"showline\": true,\n",
       "        \"ticktext\": [\n",
       "            \"50\",\n",
       "            \"55\",\n",
       "            \"60\",\n",
       "            \"65\",\n",
       "            \"70\",\n",
       "            \"75\"\n",
       "        ],\n",
       "        \"zeroline\": false,\n",
       "        \"tickfont\": {\n",
       "            \"color\": \"rgba(0, 0, 0, 1.000)\",\n",
       "            \"family\": \"sans-serif\",\n",
       "            \"size\": 11\n",
       "        },\n",
       "        \"zerolinecolor\": \"rgba(0, 0, 0, 1.000)\",\n",
       "        \"anchor\": \"x\",\n",
       "        \"visible\": true,\n",
       "        \"ticks\": \"inside\",\n",
       "        \"tickmode\": \"array\",\n",
       "        \"linecolor\": \"rgba(0, 0, 0, 1.000)\",\n",
       "        \"showgrid\": true,\n",
       "        \"title\": \"Ratings\",\n",
       "        \"gridcolor\": \"rgba(0, 0, 0, 0.100)\",\n",
       "        \"titlefont\": {\n",
       "            \"color\": \"rgba(0, 0, 0, 1.000)\",\n",
       "            \"family\": \"sans-serif\",\n",
       "            \"size\": 15\n",
       "        },\n",
       "        \"tickcolor\": \"rgb(0, 0, 0)\",\n",
       "        \"type\": \"-\"\n",
       "    },\n",
       "    \"legend\": {\n",
       "        \"yanchor\": \"auto\",\n",
       "        \"xanchor\": \"auto\",\n",
       "        \"bordercolor\": \"rgba(0, 0, 0, 1.000)\",\n",
       "        \"bgcolor\": \"rgba(255, 255, 255, 1.000)\",\n",
       "        \"borderwidth\": 1,\n",
       "        \"tracegroupgap\": 0,\n",
       "        \"y\": 1.0,\n",
       "        \"font\": {\n",
       "            \"color\": \"rgba(0, 0, 0, 1.000)\",\n",
       "            \"family\": \"sans-serif\",\n",
       "            \"size\": 11\n",
       "        },\n",
       "        \"title\": {\n",
       "            \"font\": {\n",
       "                \"color\": \"rgba(0, 0, 0, 1.000)\",\n",
       "                \"family\": \"sans-serif\",\n",
       "                \"size\": 15\n",
       "            },\n",
       "            \"text\": \"\"\n",
       "        },\n",
       "        \"traceorder\": \"normal\",\n",
       "        \"x\": 1.0\n",
       "    },\n",
       "    \"width\": 600\n",
       "}\n",
       ");\n",
       "\n",
       "    });\n",
       "    </script>\n",
       "\n",
       "    </body>\n",
       "</html>\n"
      ]
     },
     "execution_count": 142,
     "metadata": {},
     "output_type": "execute_result"
    }
   ],
   "source": [
    "# boxplot for ratings which shows the five point summary \n",
    "boxplot(ratings, title = \"Box Plot - Restaurant ratings\", ylabel = \"Ratings\")"
   ]
  },
  {
   "cell_type": "code",
   "execution_count": 36,
   "metadata": {},
   "outputs": [
    {
     "data": {
      "application/vnd.plotly.v1+json": {
       "data": [
        {
         "fill": "tozeroy",
         "fillcolor": "rgba(0, 154, 250, 1.000)",
         "hoverinfo": "none",
         "legendgroup": "y1",
         "line": {
          "color": "rgba(0, 0, 0, 1.000)",
          "dash": "solid",
          "width": 1
         },
         "mode": "lines",
         "name": "y1",
         "showlegend": true,
         "type": "scatter",
         "x": [
          1,
          0.8,
          1.2,
          1,
          1,
          1
         ],
         "xaxis": "x1",
         "y": [
          25,
          25,
          25,
          25,
          36,
          25
         ],
         "yaxis": "y1"
        },
        {
         "fill": "tozeroy",
         "fillcolor": "rgba(0, 154, 250, 1.000)",
         "hoverinfo": "none",
         "legendgroup": "y1",
         "line": {
          "color": "rgba(0, 0, 0, 1.000)",
          "dash": "solid",
          "width": 1
         },
         "mode": "lines",
         "name": "y1",
         "showlegend": false,
         "type": "scatter",
         "x": [
          1.4,
          1.4,
          0.6,
          0.6,
          1.4,
          1.4,
          1.4
         ],
         "xaxis": "x1",
         "y": [
          36,
          44,
          44,
          36,
          36,
          44,
          36
         ],
         "yaxis": "y1"
        },
        {
         "fill": "tozeroy",
         "fillcolor": "rgba(0, 154, 250, 1.000)",
         "hoverinfo": "none",
         "legendgroup": "y1",
         "line": {
          "color": "rgba(0, 0, 0, 1.000)",
          "dash": "solid",
          "width": 1
         },
         "mode": "lines",
         "name": "y1",
         "showlegend": false,
         "type": "scatter",
         "x": [
          1.4,
          0.6,
          0.6,
          1.4,
          1.4,
          1,
          1.4
         ],
         "xaxis": "x1",
         "y": [
          54.25,
          54.25,
          44,
          44,
          54.25,
          54.25,
          54.25
         ],
         "yaxis": "y1"
        },
        {
         "fill": "tozeroy",
         "fillcolor": "rgba(0, 154, 250, 1.000)",
         "hoverinfo": "none",
         "legendgroup": "y1",
         "line": {
          "color": "rgba(0, 0, 0, 1.000)",
          "dash": "solid",
          "width": 1
         },
         "mode": "lines",
         "name": "y1",
         "showlegend": false,
         "type": "scatter",
         "x": [
          1,
          0.8,
          1.2,
          1,
          1,
          1
         ],
         "xaxis": "x1",
         "y": [
          80,
          80,
          80,
          80,
          54.25,
          80
         ],
         "yaxis": "y1"
        },
        {
         "colorbar": {
          "title": ""
         },
         "hoverinfo": "text",
         "legendgroup": "y1",
         "line": {
          "color": "rgba(0, 154, 250, 1.000)",
          "dash": "solid",
          "shape": "linear",
          "width": 0
         },
         "mode": "lines",
         "name": "y1",
         "showlegend": false,
         "text": [
          "Lower fence: 25.0",
          "Lower fence: 25.0",
          "Lower fence: 25.0",
          "Lower fence: 25.0",
          "Q1: 36.0"
         ],
         "type": "scatter",
         "x": [
          1,
          0.8,
          1.2,
          1,
          1
         ],
         "xaxis": "x",
         "y": [
          25,
          25,
          25,
          25,
          36
         ],
         "yaxis": "y",
         "zmax": null,
         "zmin": null
        },
        {
         "colorbar": {
          "title": ""
         },
         "hoverinfo": "text",
         "legendgroup": "y1",
         "line": {
          "color": "rgba(0, 154, 250, 1.000)",
          "dash": "solid",
          "shape": "linear",
          "width": 0
         },
         "mode": "lines",
         "name": "y1",
         "showlegend": false,
         "text": [
          "Q1: 36.0",
          "Median: 44.0",
          "Median: 44.0",
          "Q1: 36.0",
          "Q1: 36.0",
          "Median: 44.0"
         ],
         "type": "scatter",
         "x": [
          1.4,
          1.4,
          0.6,
          0.6,
          1.4,
          1.4
         ],
         "xaxis": "x",
         "y": [
          36,
          44,
          44,
          36,
          36,
          44
         ],
         "yaxis": "y",
         "zmax": null,
         "zmin": null
        },
        {
         "colorbar": {
          "title": ""
         },
         "hoverinfo": "text",
         "legendgroup": "y1",
         "line": {
          "color": "rgba(0, 154, 250, 1.000)",
          "dash": "solid",
          "shape": "linear",
          "width": 0
         },
         "mode": "lines",
         "name": "y1",
         "showlegend": false,
         "text": [
          "Q3: 54.25",
          "Q3: 54.25",
          "Median: 44.0",
          "Median: 44.0",
          "Q3: 54.25",
          "Q3: 54.25"
         ],
         "type": "scatter",
         "x": [
          1.4,
          0.6,
          0.6,
          1.4,
          1.4,
          1
         ],
         "xaxis": "x",
         "y": [
          54.25,
          54.25,
          44,
          44,
          54.25,
          54.25
         ],
         "yaxis": "y",
         "zmax": null,
         "zmin": null
        },
        {
         "colorbar": {
          "title": ""
         },
         "hoverinfo": "text",
         "legendgroup": "y1",
         "line": {
          "color": "rgba(0, 154, 250, 1.000)",
          "dash": "solid",
          "shape": "linear",
          "width": 0
         },
         "mode": "lines",
         "name": "y1",
         "showlegend": false,
         "text": [
          "Upper fence: 80.0",
          "Upper fence: 80.0",
          "Upper fence: 80.0",
          "Upper fence: 80.0",
          "Q3: 54.25"
         ],
         "type": "scatter",
         "x": [
          1,
          0.8,
          1.2,
          1,
          1
         ],
         "xaxis": "x",
         "y": [
          80,
          80,
          80,
          80,
          54.25
         ],
         "yaxis": "y",
         "zmax": null,
         "zmin": null
        }
       ],
       "layout": {
        "annotations": [
         {
          "font": {
           "color": "rgba(0, 0, 0, 1.000)",
           "family": "sans-serif",
           "size": 20
          },
          "rotation": 0,
          "showarrow": false,
          "text": "Box Plot - Restaurant Costs",
          "x": 0.5275462962962963,
          "xanchor": "center",
          "xref": "paper",
          "y": 1,
          "yanchor": "top",
          "yref": "paper"
         }
        ],
        "height": 400,
        "legend": {
         "bgcolor": "rgba(255, 255, 255, 1.000)",
         "bordercolor": "rgba(0, 0, 0, 1.000)",
         "borderwidth": 1,
         "font": {
          "color": "rgba(0, 0, 0, 1.000)",
          "family": "sans-serif",
          "size": 11
         },
         "title": {
          "font": {
           "color": "rgba(0, 0, 0, 1.000)",
           "family": "sans-serif",
           "size": 15
          },
          "text": ""
         },
         "tracegroupgap": 0,
         "traceorder": "normal",
         "x": 1,
         "xanchor": "auto",
         "y": 1,
         "yanchor": "auto"
        },
        "margin": {
         "b": 20,
         "l": 0,
         "r": 0,
         "t": 20
        },
        "paper_bgcolor": "rgba(255, 255, 255, 1.000)",
        "plot_bgcolor": "rgba(255, 255, 255, 1.000)",
        "showlegend": true,
        "width": 600,
        "xaxis": {
         "anchor": "y",
         "domain": [
          0.061654272382618835,
          0.9934383202099737
         ],
         "gridcolor": "rgba(0, 0, 0, 0.100)",
         "gridwidth": 0.5,
         "linecolor": "rgba(0, 0, 0, 1.000)",
         "mirror": false,
         "range": [
          0.576,
          1.424
         ],
         "showgrid": true,
         "showline": true,
         "showticklabels": true,
         "tickangle": 0,
         "tickcolor": "rgb(0, 0, 0)",
         "tickfont": {
          "color": "rgba(0, 0, 0, 1.000)",
          "family": "sans-serif",
          "size": 11
         },
         "tickmode": "array",
         "ticks": "inside",
         "ticktext": [
          "0.6",
          "0.8",
          "1.0",
          "1.2",
          "1.4"
         ],
         "tickvals": [
          0.6000000000000001,
          0.8,
          1,
          1.2000000000000002,
          1.4000000000000001
         ],
         "title": "",
         "titlefont": {
          "color": "rgba(0, 0, 0, 1.000)",
          "family": "sans-serif",
          "size": 15
         },
         "type": "-",
         "visible": true,
         "zeroline": false,
         "zerolinecolor": "rgba(0, 0, 0, 1.000)"
        },
        "yaxis": {
         "anchor": "x",
         "domain": [
          0.03762029746281716,
          0.9415463692038496
         ],
         "gridcolor": "rgba(0, 0, 0, 0.100)",
         "gridwidth": 0.5,
         "linecolor": "rgba(0, 0, 0, 1.000)",
         "mirror": false,
         "range": [
          23.35,
          81.65
         ],
         "showgrid": true,
         "showline": true,
         "showticklabels": true,
         "tickangle": 0,
         "tickcolor": "rgb(0, 0, 0)",
         "tickfont": {
          "color": "rgba(0, 0, 0, 1.000)",
          "family": "sans-serif",
          "size": 11
         },
         "tickmode": "array",
         "ticks": "inside",
         "ticktext": [
          "30",
          "40",
          "50",
          "60",
          "70",
          "80"
         ],
         "tickvals": [
          30,
          40,
          50,
          60,
          70,
          80
         ],
         "title": "Costs",
         "titlefont": {
          "color": "rgba(0, 0, 0, 1.000)",
          "family": "sans-serif",
          "size": 15
         },
         "type": "-",
         "visible": true,
         "zeroline": false,
         "zerolinecolor": "rgba(0, 0, 0, 1.000)"
        }
       }
      },
      "text/html": [
       "<!DOCTYPE html>\n",
       "<html>\n",
       "    <head>\n",
       "        <title>Plots.jl</title>\n",
       "        <meta http-equiv=\"content-type\" content=\"text/html; charset=UTF-8\">\n",
       "        \n",
       "    </head>\n",
       "    <body>\n",
       "            <div id=\"876efc8c-96a6-4237-9a9c-9e7571f8d377\" style=\"width:600px;height:400px;\"></div>\n",
       "    <script>\n",
       "        requirejs.config({\n",
       "        paths: {\n",
       "            Plotly: 'https://cdn.plot.ly/plotly-1.57.1.min'\n",
       "        }\n",
       "    });\n",
       "    require(['Plotly'], function (Plotly) {\n",
       "\n",
       "        var PLOT = document.getElementById('876efc8c-96a6-4237-9a9c-9e7571f8d377');\n",
       "    Plotly.plot(PLOT, [\n",
       "    {\n",
       "        \"xaxis\": \"x1\",\n",
       "        \"fill\": \"tozeroy\",\n",
       "        \"yaxis\": \"y1\",\n",
       "        \"x\": [\n",
       "            1.0,\n",
       "            0.8,\n",
       "            1.2,\n",
       "            1.0,\n",
       "            1.0,\n",
       "            1.0\n",
       "        ],\n",
       "        \"showlegend\": true,\n",
       "        \"mode\": \"lines\",\n",
       "        \"fillcolor\": \"rgba(0, 154, 250, 1.000)\",\n",
       "        \"name\": \"y1\",\n",
       "        \"legendgroup\": \"y1\",\n",
       "        \"line\": {\n",
       "            \"color\": \"rgba(0, 0, 0, 1.000)\",\n",
       "            \"dash\": \"solid\",\n",
       "            \"width\": 1\n",
       "        },\n",
       "        \"y\": [\n",
       "            25.0,\n",
       "            25.0,\n",
       "            25.0,\n",
       "            25.0,\n",
       "            36.0,\n",
       "            25.0\n",
       "        ],\n",
       "        \"type\": \"scatter\",\n",
       "        \"hoverinfo\": \"none\"\n",
       "    },\n",
       "    {\n",
       "        \"xaxis\": \"x1\",\n",
       "        \"fill\": \"tozeroy\",\n",
       "        \"yaxis\": \"y1\",\n",
       "        \"x\": [\n",
       "            1.4,\n",
       "            1.4,\n",
       "            0.6,\n",
       "            0.6,\n",
       "            1.4,\n",
       "            1.4,\n",
       "            1.4\n",
       "        ],\n",
       "        \"showlegend\": false,\n",
       "        \"mode\": \"lines\",\n",
       "        \"fillcolor\": \"rgba(0, 154, 250, 1.000)\",\n",
       "        \"name\": \"y1\",\n",
       "        \"legendgroup\": \"y1\",\n",
       "        \"line\": {\n",
       "            \"color\": \"rgba(0, 0, 0, 1.000)\",\n",
       "            \"dash\": \"solid\",\n",
       "            \"width\": 1\n",
       "        },\n",
       "        \"y\": [\n",
       "            36.0,\n",
       "            44.0,\n",
       "            44.0,\n",
       "            36.0,\n",
       "            36.0,\n",
       "            44.0,\n",
       "            36.0\n",
       "        ],\n",
       "        \"type\": \"scatter\",\n",
       "        \"hoverinfo\": \"none\"\n",
       "    },\n",
       "    {\n",
       "        \"xaxis\": \"x1\",\n",
       "        \"fill\": \"tozeroy\",\n",
       "        \"yaxis\": \"y1\",\n",
       "        \"x\": [\n",
       "            1.4,\n",
       "            0.6,\n",
       "            0.6,\n",
       "            1.4,\n",
       "            1.4,\n",
       "            1.0,\n",
       "            1.4\n",
       "        ],\n",
       "        \"showlegend\": false,\n",
       "        \"mode\": \"lines\",\n",
       "        \"fillcolor\": \"rgba(0, 154, 250, 1.000)\",\n",
       "        \"name\": \"y1\",\n",
       "        \"legendgroup\": \"y1\",\n",
       "        \"line\": {\n",
       "            \"color\": \"rgba(0, 0, 0, 1.000)\",\n",
       "            \"dash\": \"solid\",\n",
       "            \"width\": 1\n",
       "        },\n",
       "        \"y\": [\n",
       "            54.25,\n",
       "            54.25,\n",
       "            44.0,\n",
       "            44.0,\n",
       "            54.25,\n",
       "            54.25,\n",
       "            54.25\n",
       "        ],\n",
       "        \"type\": \"scatter\",\n",
       "        \"hoverinfo\": \"none\"\n",
       "    },\n",
       "    {\n",
       "        \"xaxis\": \"x1\",\n",
       "        \"fill\": \"tozeroy\",\n",
       "        \"yaxis\": \"y1\",\n",
       "        \"x\": [\n",
       "            1.0,\n",
       "            0.8,\n",
       "            1.2,\n",
       "            1.0,\n",
       "            1.0,\n",
       "            1.0\n",
       "        ],\n",
       "        \"showlegend\": false,\n",
       "        \"mode\": \"lines\",\n",
       "        \"fillcolor\": \"rgba(0, 154, 250, 1.000)\",\n",
       "        \"name\": \"y1\",\n",
       "        \"legendgroup\": \"y1\",\n",
       "        \"line\": {\n",
       "            \"color\": \"rgba(0, 0, 0, 1.000)\",\n",
       "            \"dash\": \"solid\",\n",
       "            \"width\": 1\n",
       "        },\n",
       "        \"y\": [\n",
       "            80.0,\n",
       "            80.0,\n",
       "            80.0,\n",
       "            80.0,\n",
       "            54.25,\n",
       "            80.0\n",
       "        ],\n",
       "        \"type\": \"scatter\",\n",
       "        \"hoverinfo\": \"none\"\n",
       "    },\n",
       "    {\n",
       "        \"xaxis\": \"x\",\n",
       "        \"colorbar\": {\n",
       "            \"title\": \"\"\n",
       "        },\n",
       "        \"yaxis\": \"y\",\n",
       "        \"text\": [\n",
       "            \"Lower fence: 25.0\",\n",
       "            \"Lower fence: 25.0\",\n",
       "            \"Lower fence: 25.0\",\n",
       "            \"Lower fence: 25.0\",\n",
       "            \"Q1: 36.0\"\n",
       "        ],\n",
       "        \"x\": [\n",
       "            1.0,\n",
       "            0.8,\n",
       "            1.2,\n",
       "            1.0,\n",
       "            1.0\n",
       "        ],\n",
       "        \"showlegend\": false,\n",
       "        \"mode\": \"lines\",\n",
       "        \"name\": \"y1\",\n",
       "        \"zmin\": null,\n",
       "        \"legendgroup\": \"y1\",\n",
       "        \"zmax\": null,\n",
       "        \"line\": {\n",
       "            \"color\": \"rgba(0, 154, 250, 1.000)\",\n",
       "            \"shape\": \"linear\",\n",
       "            \"dash\": \"solid\",\n",
       "            \"width\": 0\n",
       "        },\n",
       "        \"y\": [\n",
       "            25.0,\n",
       "            25.0,\n",
       "            25.0,\n",
       "            25.0,\n",
       "            36.0\n",
       "        ],\n",
       "        \"type\": \"scatter\",\n",
       "        \"hoverinfo\": \"text\"\n",
       "    },\n",
       "    {\n",
       "        \"xaxis\": \"x\",\n",
       "        \"colorbar\": {\n",
       "            \"title\": \"\"\n",
       "        },\n",
       "        \"yaxis\": \"y\",\n",
       "        \"text\": [\n",
       "            \"Q1: 36.0\",\n",
       "            \"Median: 44.0\",\n",
       "            \"Median: 44.0\",\n",
       "            \"Q1: 36.0\",\n",
       "            \"Q1: 36.0\",\n",
       "            \"Median: 44.0\"\n",
       "        ],\n",
       "        \"x\": [\n",
       "            1.4,\n",
       "            1.4,\n",
       "            0.6,\n",
       "            0.6,\n",
       "            1.4,\n",
       "            1.4\n",
       "        ],\n",
       "        \"showlegend\": false,\n",
       "        \"mode\": \"lines\",\n",
       "        \"name\": \"y1\",\n",
       "        \"zmin\": null,\n",
       "        \"legendgroup\": \"y1\",\n",
       "        \"zmax\": null,\n",
       "        \"line\": {\n",
       "            \"color\": \"rgba(0, 154, 250, 1.000)\",\n",
       "            \"shape\": \"linear\",\n",
       "            \"dash\": \"solid\",\n",
       "            \"width\": 0\n",
       "        },\n",
       "        \"y\": [\n",
       "            36.0,\n",
       "            44.0,\n",
       "            44.0,\n",
       "            36.0,\n",
       "            36.0,\n",
       "            44.0\n",
       "        ],\n",
       "        \"type\": \"scatter\",\n",
       "        \"hoverinfo\": \"text\"\n",
       "    },\n",
       "    {\n",
       "        \"xaxis\": \"x\",\n",
       "        \"colorbar\": {\n",
       "            \"title\": \"\"\n",
       "        },\n",
       "        \"yaxis\": \"y\",\n",
       "        \"text\": [\n",
       "            \"Q3: 54.25\",\n",
       "            \"Q3: 54.25\",\n",
       "            \"Median: 44.0\",\n",
       "            \"Median: 44.0\",\n",
       "            \"Q3: 54.25\",\n",
       "            \"Q3: 54.25\"\n",
       "        ],\n",
       "        \"x\": [\n",
       "            1.4,\n",
       "            0.6,\n",
       "            0.6,\n",
       "            1.4,\n",
       "            1.4,\n",
       "            1.0\n",
       "        ],\n",
       "        \"showlegend\": false,\n",
       "        \"mode\": \"lines\",\n",
       "        \"name\": \"y1\",\n",
       "        \"zmin\": null,\n",
       "        \"legendgroup\": \"y1\",\n",
       "        \"zmax\": null,\n",
       "        \"line\": {\n",
       "            \"color\": \"rgba(0, 154, 250, 1.000)\",\n",
       "            \"shape\": \"linear\",\n",
       "            \"dash\": \"solid\",\n",
       "            \"width\": 0\n",
       "        },\n",
       "        \"y\": [\n",
       "            54.25,\n",
       "            54.25,\n",
       "            44.0,\n",
       "            44.0,\n",
       "            54.25,\n",
       "            54.25\n",
       "        ],\n",
       "        \"type\": \"scatter\",\n",
       "        \"hoverinfo\": \"text\"\n",
       "    },\n",
       "    {\n",
       "        \"xaxis\": \"x\",\n",
       "        \"colorbar\": {\n",
       "            \"title\": \"\"\n",
       "        },\n",
       "        \"yaxis\": \"y\",\n",
       "        \"text\": [\n",
       "            \"Upper fence: 80.0\",\n",
       "            \"Upper fence: 80.0\",\n",
       "            \"Upper fence: 80.0\",\n",
       "            \"Upper fence: 80.0\",\n",
       "            \"Q3: 54.25\"\n",
       "        ],\n",
       "        \"x\": [\n",
       "            1.0,\n",
       "            0.8,\n",
       "            1.2,\n",
       "            1.0,\n",
       "            1.0\n",
       "        ],\n",
       "        \"showlegend\": false,\n",
       "        \"mode\": \"lines\",\n",
       "        \"name\": \"y1\",\n",
       "        \"zmin\": null,\n",
       "        \"legendgroup\": \"y1\",\n",
       "        \"zmax\": null,\n",
       "        \"line\": {\n",
       "            \"color\": \"rgba(0, 154, 250, 1.000)\",\n",
       "            \"shape\": \"linear\",\n",
       "            \"dash\": \"solid\",\n",
       "            \"width\": 0\n",
       "        },\n",
       "        \"y\": [\n",
       "            80.0,\n",
       "            80.0,\n",
       "            80.0,\n",
       "            80.0,\n",
       "            54.25\n",
       "        ],\n",
       "        \"type\": \"scatter\",\n",
       "        \"hoverinfo\": \"text\"\n",
       "    }\n",
       "]\n",
       ", {\n",
       "    \"showlegend\": true,\n",
       "    \"xaxis\": {\n",
       "        \"showticklabels\": true,\n",
       "        \"gridwidth\": 0.5,\n",
       "        \"tickvals\": [\n",
       "            0.6000000000000001,\n",
       "            0.8,\n",
       "            1.0,\n",
       "            1.2000000000000002,\n",
       "            1.4000000000000001\n",
       "        ],\n",
       "        \"range\": [\n",
       "            0.576,\n",
       "            1.424\n",
       "        ],\n",
       "        \"domain\": [\n",
       "            0.061654272382618835,\n",
       "            0.9934383202099737\n",
       "        ],\n",
       "        \"mirror\": false,\n",
       "        \"tickangle\": 0,\n",
       "        \"showline\": true,\n",
       "        \"ticktext\": [\n",
       "            \"0.6\",\n",
       "            \"0.8\",\n",
       "            \"1.0\",\n",
       "            \"1.2\",\n",
       "            \"1.4\"\n",
       "        ],\n",
       "        \"zeroline\": false,\n",
       "        \"tickfont\": {\n",
       "            \"color\": \"rgba(0, 0, 0, 1.000)\",\n",
       "            \"family\": \"sans-serif\",\n",
       "            \"size\": 11\n",
       "        },\n",
       "        \"zerolinecolor\": \"rgba(0, 0, 0, 1.000)\",\n",
       "        \"anchor\": \"y\",\n",
       "        \"visible\": true,\n",
       "        \"ticks\": \"inside\",\n",
       "        \"tickmode\": \"array\",\n",
       "        \"linecolor\": \"rgba(0, 0, 0, 1.000)\",\n",
       "        \"showgrid\": true,\n",
       "        \"title\": \"\",\n",
       "        \"gridcolor\": \"rgba(0, 0, 0, 0.100)\",\n",
       "        \"titlefont\": {\n",
       "            \"color\": \"rgba(0, 0, 0, 1.000)\",\n",
       "            \"family\": \"sans-serif\",\n",
       "            \"size\": 15\n",
       "        },\n",
       "        \"tickcolor\": \"rgb(0, 0, 0)\",\n",
       "        \"type\": \"-\"\n",
       "    },\n",
       "    \"paper_bgcolor\": \"rgba(255, 255, 255, 1.000)\",\n",
       "    \"annotations\": [\n",
       "        {\n",
       "            \"yanchor\": \"top\",\n",
       "            \"xanchor\": \"center\",\n",
       "            \"rotation\": -0.0,\n",
       "            \"y\": 1.0,\n",
       "            \"font\": {\n",
       "                \"color\": \"rgba(0, 0, 0, 1.000)\",\n",
       "                \"family\": \"sans-serif\",\n",
       "                \"size\": 20\n",
       "            },\n",
       "            \"yref\": \"paper\",\n",
       "            \"showarrow\": false,\n",
       "            \"text\": \"Box Plot - Restaurant Costs\",\n",
       "            \"xref\": \"paper\",\n",
       "            \"x\": 0.5275462962962963\n",
       "        }\n",
       "    ],\n",
       "    \"height\": 400,\n",
       "    \"margin\": {\n",
       "        \"l\": 0,\n",
       "        \"b\": 20,\n",
       "        \"r\": 0,\n",
       "        \"t\": 20\n",
       "    },\n",
       "    \"plot_bgcolor\": \"rgba(255, 255, 255, 1.000)\",\n",
       "    \"yaxis\": {\n",
       "        \"showticklabels\": true,\n",
       "        \"gridwidth\": 0.5,\n",
       "        \"tickvals\": [\n",
       "            30.0,\n",
       "            40.0,\n",
       "            50.0,\n",
       "            60.0,\n",
       "            70.0,\n",
       "            80.0\n",
       "        ],\n",
       "        \"range\": [\n",
       "            23.35,\n",
       "            81.65\n",
       "        ],\n",
       "        \"domain\": [\n",
       "            0.03762029746281716,\n",
       "            0.9415463692038496\n",
       "        ],\n",
       "        \"mirror\": false,\n",
       "        \"tickangle\": 0,\n",
       "        \"showline\": true,\n",
       "        \"ticktext\": [\n",
       "            \"30\",\n",
       "            \"40\",\n",
       "            \"50\",\n",
       "            \"60\",\n",
       "            \"70\",\n",
       "            \"80\"\n",
       "        ],\n",
       "        \"zeroline\": false,\n",
       "        \"tickfont\": {\n",
       "            \"color\": \"rgba(0, 0, 0, 1.000)\",\n",
       "            \"family\": \"sans-serif\",\n",
       "            \"size\": 11\n",
       "        },\n",
       "        \"zerolinecolor\": \"rgba(0, 0, 0, 1.000)\",\n",
       "        \"anchor\": \"x\",\n",
       "        \"visible\": true,\n",
       "        \"ticks\": \"inside\",\n",
       "        \"tickmode\": \"array\",\n",
       "        \"linecolor\": \"rgba(0, 0, 0, 1.000)\",\n",
       "        \"showgrid\": true,\n",
       "        \"title\": \"Costs\",\n",
       "        \"gridcolor\": \"rgba(0, 0, 0, 0.100)\",\n",
       "        \"titlefont\": {\n",
       "            \"color\": \"rgba(0, 0, 0, 1.000)\",\n",
       "            \"family\": \"sans-serif\",\n",
       "            \"size\": 15\n",
       "        },\n",
       "        \"tickcolor\": \"rgb(0, 0, 0)\",\n",
       "        \"type\": \"-\"\n",
       "    },\n",
       "    \"legend\": {\n",
       "        \"yanchor\": \"auto\",\n",
       "        \"xanchor\": \"auto\",\n",
       "        \"bordercolor\": \"rgba(0, 0, 0, 1.000)\",\n",
       "        \"bgcolor\": \"rgba(255, 255, 255, 1.000)\",\n",
       "        \"borderwidth\": 1,\n",
       "        \"tracegroupgap\": 0,\n",
       "        \"y\": 1.0,\n",
       "        \"font\": {\n",
       "            \"color\": \"rgba(0, 0, 0, 1.000)\",\n",
       "            \"family\": \"sans-serif\",\n",
       "            \"size\": 11\n",
       "        },\n",
       "        \"title\": {\n",
       "            \"font\": {\n",
       "                \"color\": \"rgba(0, 0, 0, 1.000)\",\n",
       "                \"family\": \"sans-serif\",\n",
       "                \"size\": 15\n",
       "            },\n",
       "            \"text\": \"\"\n",
       "        },\n",
       "        \"traceorder\": \"normal\",\n",
       "        \"x\": 1.0\n",
       "    },\n",
       "    \"width\": 600\n",
       "}\n",
       ");\n",
       "\n",
       "    });\n",
       "    </script>\n",
       "\n",
       "    </body>\n",
       "</html>\n"
      ]
     },
     "execution_count": 36,
     "metadata": {},
     "output_type": "execute_result"
    }
   ],
   "source": [
    "# boxplot for costs which shows five point summary\n",
    "boxplot(cost, title = \"Box Plot - Restaurant Costs\", ylabel = \"Costs\")"
   ]
  },
  {
   "cell_type": "markdown",
   "metadata": {},
   "source": [
    "## Part B: Construct a scatter plot with summated ratings being x and cost of meal being y"
   ]
  },
  {
   "cell_type": "code",
   "execution_count": 37,
   "metadata": {},
   "outputs": [
    {
     "data": {
      "text/plain": [
       "5-element Vector{String}:\n",
       " \"Food \"\n",
       " \"Decor\"\n",
       " \"Service\"\n",
       " \"Summated Rating\"\n",
       " \"Cost\""
      ]
     },
     "execution_count": 37,
     "metadata": {},
     "output_type": "execute_result"
    }
   ],
   "source": [
    "# to showcase the name of each data set contained in the file\n",
    "names(data)"
   ]
  },
  {
   "cell_type": "code",
   "execution_count": 143,
   "metadata": {},
   "outputs": [
    {
     "data": {
      "application/vnd.plotly.v1+json": {
       "data": [
        {
         "colorbar": {
          "title": ""
         },
         "legendgroup": "Points",
         "marker": {
          "color": "rgba(0, 154, 250, 1.000)",
          "line": {
           "color": "rgba(0, 0, 0, 1.000)",
           "width": 1
          },
          "size": 8,
          "symbol": "circle"
         },
         "mode": "markers",
         "name": "Points",
         "showlegend": true,
         "type": "scatter",
         "x": [
          55,
          55,
          63,
          55,
          58,
          65,
          62,
          58,
          57,
          56,
          69,
          59,
          61,
          64,
          71,
          64,
          60,
          72,
          65,
          58,
          55,
          55,
          72,
          63,
          75,
          65,
          58,
          69,
          74,
          71,
          68,
          63,
          56,
          67,
          64,
          62,
          54,
          56,
          74,
          57,
          57,
          63,
          64,
          59,
          72,
          56,
          57,
          64,
          63,
          56,
          66,
          62,
          49,
          65,
          64,
          72,
          50,
          56,
          62,
          75,
          51,
          52,
          70,
          53,
          65,
          61,
          65,
          65,
          53,
          65,
          58,
          70,
          62,
          60,
          63,
          53,
          60,
          77,
          66,
          51,
          53,
          66,
          68,
          63,
          60,
          62,
          62,
          68,
          72,
          70,
          67,
          63,
          64,
          59,
          68,
          58,
          56,
          78,
          74,
          69
         ],
         "xaxis": "x",
         "y": [
          33,
          26,
          43,
          32,
          44,
          44,
          50,
          42,
          44,
          36,
          61,
          50,
          51,
          50,
          76,
          53,
          44,
          77,
          57,
          43,
          29,
          34,
          77,
          50,
          74,
          56,
          67,
          57,
          66,
          80,
          68,
          42,
          48,
          60,
          35,
          45,
          32,
          25,
          74,
          43,
          39,
          55,
          65,
          35,
          61,
          37,
          54,
          41,
          33,
          27,
          47,
          48,
          35,
          59,
          44,
          51,
          37,
          36,
          43,
          52,
          34,
          38,
          51,
          34,
          51,
          34,
          51,
          56,
          26,
          34,
          34,
          44,
          40,
          31,
          54,
          41,
          50,
          71,
          60,
          37,
          27,
          34,
          48,
          39,
          44,
          41,
          37,
          47,
          67,
          68,
          49,
          29,
          33,
          39,
          39,
          28,
          46,
          70,
          60,
          52
         ],
         "yaxis": "y",
         "zmax": null,
         "zmin": null
        }
       ],
       "layout": {
        "annotations": [
         {
          "font": {
           "color": "rgba(0, 0, 0, 1.000)",
           "family": "sans-serif",
           "size": 20
          },
          "rotation": 0,
          "showarrow": false,
          "text": "Restaurant research",
          "x": 0.5275462962962963,
          "xanchor": "center",
          "xref": "paper",
          "y": 1,
          "yanchor": "top",
          "yref": "paper"
         }
        ],
        "height": 400,
        "legend": {
         "bgcolor": "rgba(255, 255, 255, 1.000)",
         "bordercolor": "rgba(0, 0, 0, 1.000)",
         "borderwidth": 1,
         "font": {
          "color": "rgba(0, 0, 0, 1.000)",
          "family": "sans-serif",
          "size": 11
         },
         "title": {
          "font": {
           "color": "rgba(0, 0, 0, 1.000)",
           "family": "sans-serif",
           "size": 15
          },
          "text": ""
         },
         "tracegroupgap": 0,
         "traceorder": "normal",
         "x": 1,
         "xanchor": "auto",
         "y": 1,
         "yanchor": "auto"
        },
        "margin": {
         "b": 20,
         "l": 0,
         "r": 0,
         "t": 20
        },
        "paper_bgcolor": "rgba(255, 255, 255, 1.000)",
        "plot_bgcolor": "rgba(255, 255, 255, 1.000)",
        "showlegend": true,
        "width": 600,
        "xaxis": {
         "anchor": "y",
         "domain": [
          0.061654272382618835,
          0.9934383202099737
         ],
         "gridcolor": "rgba(0, 0, 0, 0.100)",
         "gridwidth": 0.5,
         "linecolor": "rgba(0, 0, 0, 1.000)",
         "mirror": false,
         "range": [
          48.13,
          78.87
         ],
         "showgrid": true,
         "showline": true,
         "showticklabels": true,
         "tickangle": 0,
         "tickcolor": "rgb(0, 0, 0)",
         "tickfont": {
          "color": "rgba(0, 0, 0, 1.000)",
          "family": "sans-serif",
          "size": 11
         },
         "tickmode": "array",
         "ticks": "inside",
         "ticktext": [
          "50",
          "55",
          "60",
          "65",
          "70",
          "75"
         ],
         "tickvals": [
          50,
          55,
          60,
          65,
          70,
          75
         ],
         "title": "summated ratings",
         "titlefont": {
          "color": "rgba(0, 0, 0, 1.000)",
          "family": "sans-serif",
          "size": 15
         },
         "type": "-",
         "visible": true,
         "zeroline": false,
         "zerolinecolor": "rgba(0, 0, 0, 1.000)"
        },
        "yaxis": {
         "anchor": "x",
         "domain": [
          0.07581474190726165,
          0.9415463692038496
         ],
         "gridcolor": "rgba(0, 0, 0, 0.100)",
         "gridwidth": 0.5,
         "linecolor": "rgba(0, 0, 0, 1.000)",
         "mirror": false,
         "range": [
          23.35,
          81.65
         ],
         "showgrid": true,
         "showline": true,
         "showticklabels": true,
         "tickangle": 0,
         "tickcolor": "rgb(0, 0, 0)",
         "tickfont": {
          "color": "rgba(0, 0, 0, 1.000)",
          "family": "sans-serif",
          "size": 11
         },
         "tickmode": "array",
         "ticks": "inside",
         "ticktext": [
          "30",
          "40",
          "50",
          "60",
          "70",
          "80"
         ],
         "tickvals": [
          30,
          40,
          50,
          60,
          70,
          80
         ],
         "title": "cost of meal",
         "titlefont": {
          "color": "rgba(0, 0, 0, 1.000)",
          "family": "sans-serif",
          "size": 15
         },
         "type": "-",
         "visible": true,
         "zeroline": false,
         "zerolinecolor": "rgba(0, 0, 0, 1.000)"
        }
       }
      },
      "text/html": [
       "<!DOCTYPE html>\n",
       "<html>\n",
       "    <head>\n",
       "        <title>Plots.jl</title>\n",
       "        <meta http-equiv=\"content-type\" content=\"text/html; charset=UTF-8\">\n",
       "        \n",
       "    </head>\n",
       "    <body>\n",
       "            <div id=\"dfeb87fe-0f62-4d4b-af5d-53b106bc9797\" style=\"width:600px;height:400px;\"></div>\n",
       "    <script>\n",
       "        requirejs.config({\n",
       "        paths: {\n",
       "            Plotly: 'https://cdn.plot.ly/plotly-1.57.1.min'\n",
       "        }\n",
       "    });\n",
       "    require(['Plotly'], function (Plotly) {\n",
       "\n",
       "        var PLOT = document.getElementById('dfeb87fe-0f62-4d4b-af5d-53b106bc9797');\n",
       "    Plotly.plot(PLOT, [\n",
       "    {\n",
       "        \"xaxis\": \"x\",\n",
       "        \"colorbar\": {\n",
       "            \"title\": \"\"\n",
       "        },\n",
       "        \"yaxis\": \"y\",\n",
       "        \"x\": [\n",
       "            55.0,\n",
       "            55.0,\n",
       "            63.0,\n",
       "            55.0,\n",
       "            58.0,\n",
       "            65.0,\n",
       "            62.0,\n",
       "            58.0,\n",
       "            57.0,\n",
       "            56.0,\n",
       "            69.0,\n",
       "            59.0,\n",
       "            61.0,\n",
       "            64.0,\n",
       "            71.0,\n",
       "            64.0,\n",
       "            60.0,\n",
       "            72.0,\n",
       "            65.0,\n",
       "            58.0,\n",
       "            55.0,\n",
       "            55.0,\n",
       "            72.0,\n",
       "            63.0,\n",
       "            75.0,\n",
       "            65.0,\n",
       "            58.0,\n",
       "            69.0,\n",
       "            74.0,\n",
       "            71.0,\n",
       "            68.0,\n",
       "            63.0,\n",
       "            56.0,\n",
       "            67.0,\n",
       "            64.0,\n",
       "            62.0,\n",
       "            54.0,\n",
       "            56.0,\n",
       "            74.0,\n",
       "            57.0,\n",
       "            57.0,\n",
       "            63.0,\n",
       "            64.0,\n",
       "            59.0,\n",
       "            72.0,\n",
       "            56.0,\n",
       "            57.0,\n",
       "            64.0,\n",
       "            63.0,\n",
       "            56.0,\n",
       "            66.0,\n",
       "            62.0,\n",
       "            49.0,\n",
       "            65.0,\n",
       "            64.0,\n",
       "            72.0,\n",
       "            50.0,\n",
       "            56.0,\n",
       "            62.0,\n",
       "            75.0,\n",
       "            51.0,\n",
       "            52.0,\n",
       "            70.0,\n",
       "            53.0,\n",
       "            65.0,\n",
       "            61.0,\n",
       "            65.0,\n",
       "            65.0,\n",
       "            53.0,\n",
       "            65.0,\n",
       "            58.0,\n",
       "            70.0,\n",
       "            62.0,\n",
       "            60.0,\n",
       "            63.0,\n",
       "            53.0,\n",
       "            60.0,\n",
       "            77.0,\n",
       "            66.0,\n",
       "            51.0,\n",
       "            53.0,\n",
       "            66.0,\n",
       "            68.0,\n",
       "            63.0,\n",
       "            60.0,\n",
       "            62.0,\n",
       "            62.0,\n",
       "            68.0,\n",
       "            72.0,\n",
       "            70.0,\n",
       "            67.0,\n",
       "            63.0,\n",
       "            64.0,\n",
       "            59.0,\n",
       "            68.0,\n",
       "            58.0,\n",
       "            56.0,\n",
       "            78.0,\n",
       "            74.0,\n",
       "            69.0\n",
       "        ],\n",
       "        \"showlegend\": true,\n",
       "        \"mode\": \"markers\",\n",
       "        \"name\": \"Points\",\n",
       "        \"zmin\": null,\n",
       "        \"legendgroup\": \"Points\",\n",
       "        \"marker\": {\n",
       "            \"symbol\": \"circle\",\n",
       "            \"color\": \"rgba(0, 154, 250, 1.000)\",\n",
       "            \"line\": {\n",
       "                \"color\": \"rgba(0, 0, 0, 1.000)\",\n",
       "                \"width\": 1\n",
       "            },\n",
       "            \"size\": 8\n",
       "        },\n",
       "        \"zmax\": null,\n",
       "        \"y\": [\n",
       "            33.0,\n",
       "            26.0,\n",
       "            43.0,\n",
       "            32.0,\n",
       "            44.0,\n",
       "            44.0,\n",
       "            50.0,\n",
       "            42.0,\n",
       "            44.0,\n",
       "            36.0,\n",
       "            61.0,\n",
       "            50.0,\n",
       "            51.0,\n",
       "            50.0,\n",
       "            76.0,\n",
       "            53.0,\n",
       "            44.0,\n",
       "            77.0,\n",
       "            57.0,\n",
       "            43.0,\n",
       "            29.0,\n",
       "            34.0,\n",
       "            77.0,\n",
       "            50.0,\n",
       "            74.0,\n",
       "            56.0,\n",
       "            67.0,\n",
       "            57.0,\n",
       "            66.0,\n",
       "            80.0,\n",
       "            68.0,\n",
       "            42.0,\n",
       "            48.0,\n",
       "            60.0,\n",
       "            35.0,\n",
       "            45.0,\n",
       "            32.0,\n",
       "            25.0,\n",
       "            74.0,\n",
       "            43.0,\n",
       "            39.0,\n",
       "            55.0,\n",
       "            65.0,\n",
       "            35.0,\n",
       "            61.0,\n",
       "            37.0,\n",
       "            54.0,\n",
       "            41.0,\n",
       "            33.0,\n",
       "            27.0,\n",
       "            47.0,\n",
       "            48.0,\n",
       "            35.0,\n",
       "            59.0,\n",
       "            44.0,\n",
       "            51.0,\n",
       "            37.0,\n",
       "            36.0,\n",
       "            43.0,\n",
       "            52.0,\n",
       "            34.0,\n",
       "            38.0,\n",
       "            51.0,\n",
       "            34.0,\n",
       "            51.0,\n",
       "            34.0,\n",
       "            51.0,\n",
       "            56.0,\n",
       "            26.0,\n",
       "            34.0,\n",
       "            34.0,\n",
       "            44.0,\n",
       "            40.0,\n",
       "            31.0,\n",
       "            54.0,\n",
       "            41.0,\n",
       "            50.0,\n",
       "            71.0,\n",
       "            60.0,\n",
       "            37.0,\n",
       "            27.0,\n",
       "            34.0,\n",
       "            48.0,\n",
       "            39.0,\n",
       "            44.0,\n",
       "            41.0,\n",
       "            37.0,\n",
       "            47.0,\n",
       "            67.0,\n",
       "            68.0,\n",
       "            49.0,\n",
       "            29.0,\n",
       "            33.0,\n",
       "            39.0,\n",
       "            39.0,\n",
       "            28.0,\n",
       "            46.0,\n",
       "            70.0,\n",
       "            60.0,\n",
       "            52.0\n",
       "        ],\n",
       "        \"type\": \"scatter\"\n",
       "    }\n",
       "]\n",
       ", {\n",
       "    \"showlegend\": true,\n",
       "    \"xaxis\": {\n",
       "        \"showticklabels\": true,\n",
       "        \"gridwidth\": 0.5,\n",
       "        \"tickvals\": [\n",
       "            50.0,\n",
       "            55.0,\n",
       "            60.0,\n",
       "            65.0,\n",
       "            70.0,\n",
       "            75.0\n",
       "        ],\n",
       "        \"range\": [\n",
       "            48.13,\n",
       "            78.87\n",
       "        ],\n",
       "        \"domain\": [\n",
       "            0.061654272382618835,\n",
       "            0.9934383202099737\n",
       "        ],\n",
       "        \"mirror\": false,\n",
       "        \"tickangle\": 0,\n",
       "        \"showline\": true,\n",
       "        \"ticktext\": [\n",
       "            \"50\",\n",
       "            \"55\",\n",
       "            \"60\",\n",
       "            \"65\",\n",
       "            \"70\",\n",
       "            \"75\"\n",
       "        ],\n",
       "        \"zeroline\": false,\n",
       "        \"tickfont\": {\n",
       "            \"color\": \"rgba(0, 0, 0, 1.000)\",\n",
       "            \"family\": \"sans-serif\",\n",
       "            \"size\": 11\n",
       "        },\n",
       "        \"zerolinecolor\": \"rgba(0, 0, 0, 1.000)\",\n",
       "        \"anchor\": \"y\",\n",
       "        \"visible\": true,\n",
       "        \"ticks\": \"inside\",\n",
       "        \"tickmode\": \"array\",\n",
       "        \"linecolor\": \"rgba(0, 0, 0, 1.000)\",\n",
       "        \"showgrid\": true,\n",
       "        \"title\": \"summated ratings\",\n",
       "        \"gridcolor\": \"rgba(0, 0, 0, 0.100)\",\n",
       "        \"titlefont\": {\n",
       "            \"color\": \"rgba(0, 0, 0, 1.000)\",\n",
       "            \"family\": \"sans-serif\",\n",
       "            \"size\": 15\n",
       "        },\n",
       "        \"tickcolor\": \"rgb(0, 0, 0)\",\n",
       "        \"type\": \"-\"\n",
       "    },\n",
       "    \"paper_bgcolor\": \"rgba(255, 255, 255, 1.000)\",\n",
       "    \"annotations\": [\n",
       "        {\n",
       "            \"yanchor\": \"top\",\n",
       "            \"xanchor\": \"center\",\n",
       "            \"rotation\": -0.0,\n",
       "            \"y\": 1.0,\n",
       "            \"font\": {\n",
       "                \"color\": \"rgba(0, 0, 0, 1.000)\",\n",
       "                \"family\": \"sans-serif\",\n",
       "                \"size\": 20\n",
       "            },\n",
       "            \"yref\": \"paper\",\n",
       "            \"showarrow\": false,\n",
       "            \"text\": \"Restaurant research\",\n",
       "            \"xref\": \"paper\",\n",
       "            \"x\": 0.5275462962962963\n",
       "        }\n",
       "    ],\n",
       "    \"height\": 400,\n",
       "    \"margin\": {\n",
       "        \"l\": 0,\n",
       "        \"b\": 20,\n",
       "        \"r\": 0,\n",
       "        \"t\": 20\n",
       "    },\n",
       "    \"plot_bgcolor\": \"rgba(255, 255, 255, 1.000)\",\n",
       "    \"yaxis\": {\n",
       "        \"showticklabels\": true,\n",
       "        \"gridwidth\": 0.5,\n",
       "        \"tickvals\": [\n",
       "            30.0,\n",
       "            40.0,\n",
       "            50.0,\n",
       "            60.0,\n",
       "            70.0,\n",
       "            80.0\n",
       "        ],\n",
       "        \"range\": [\n",
       "            23.35,\n",
       "            81.65\n",
       "        ],\n",
       "        \"domain\": [\n",
       "            0.07581474190726165,\n",
       "            0.9415463692038496\n",
       "        ],\n",
       "        \"mirror\": false,\n",
       "        \"tickangle\": 0,\n",
       "        \"showline\": true,\n",
       "        \"ticktext\": [\n",
       "            \"30\",\n",
       "            \"40\",\n",
       "            \"50\",\n",
       "            \"60\",\n",
       "            \"70\",\n",
       "            \"80\"\n",
       "        ],\n",
       "        \"zeroline\": false,\n",
       "        \"tickfont\": {\n",
       "            \"color\": \"rgba(0, 0, 0, 1.000)\",\n",
       "            \"family\": \"sans-serif\",\n",
       "            \"size\": 11\n",
       "        },\n",
       "        \"zerolinecolor\": \"rgba(0, 0, 0, 1.000)\",\n",
       "        \"anchor\": \"x\",\n",
       "        \"visible\": true,\n",
       "        \"ticks\": \"inside\",\n",
       "        \"tickmode\": \"array\",\n",
       "        \"linecolor\": \"rgba(0, 0, 0, 1.000)\",\n",
       "        \"showgrid\": true,\n",
       "        \"title\": \"cost of meal\",\n",
       "        \"gridcolor\": \"rgba(0, 0, 0, 0.100)\",\n",
       "        \"titlefont\": {\n",
       "            \"color\": \"rgba(0, 0, 0, 1.000)\",\n",
       "            \"family\": \"sans-serif\",\n",
       "            \"size\": 15\n",
       "        },\n",
       "        \"tickcolor\": \"rgb(0, 0, 0)\",\n",
       "        \"type\": \"-\"\n",
       "    },\n",
       "    \"legend\": {\n",
       "        \"yanchor\": \"auto\",\n",
       "        \"xanchor\": \"auto\",\n",
       "        \"bordercolor\": \"rgba(0, 0, 0, 1.000)\",\n",
       "        \"bgcolor\": \"rgba(255, 255, 255, 1.000)\",\n",
       "        \"borderwidth\": 1,\n",
       "        \"tracegroupgap\": 0,\n",
       "        \"y\": 1.0,\n",
       "        \"font\": {\n",
       "            \"color\": \"rgba(0, 0, 0, 1.000)\",\n",
       "            \"family\": \"sans-serif\",\n",
       "            \"size\": 11\n",
       "        },\n",
       "        \"title\": {\n",
       "            \"font\": {\n",
       "                \"color\": \"rgba(0, 0, 0, 1.000)\",\n",
       "                \"family\": \"sans-serif\",\n",
       "                \"size\": 15\n",
       "            },\n",
       "            \"text\": \"\"\n",
       "        },\n",
       "        \"traceorder\": \"normal\",\n",
       "        \"x\": 1.0\n",
       "    },\n",
       "    \"width\": 600\n",
       "}\n",
       ");\n",
       "\n",
       "    });\n",
       "    </script>\n",
       "\n",
       "    </body>\n",
       "</html>\n"
      ]
     },
     "execution_count": 143,
     "metadata": {},
     "output_type": "execute_result"
    }
   ],
   "source": [
    "# Draw a scatter plot with labels\n",
    "scatter(ratings, cost, label = \"Points\")\n",
    "xlabel!(\"summated ratings\")\n",
    "ylabel!(\"cost of meal\")\n",
    "title!(\"Restaurant research\")"
   ]
  },
  {
   "cell_type": "markdown",
   "metadata": {},
   "source": [
    "## Part C: Find and comment on the correlation coefficient and coefficient of determination for ratings and costs"
   ]
  },
  {
   "cell_type": "code",
   "execution_count": 39,
   "metadata": {},
   "outputs": [
    {
     "name": "stdout",
     "output_type": "stream",
     "text": [
      "Correlation of summated ratings with cost of meal is 0.932192459558199\n",
      "This show us that there is a strong positive relationship between the summated ratings and cost\n"
     ]
    }
   ],
   "source": [
    "# Find out the correlation of the two variables\n",
    "correl = cor(ratings, cost)\n",
    "println(\"Correlation of summated ratings with cost of meal is $correl\")\n",
    "println(\"This show us that there is a strong positive relationship between the summated ratings and cost\")"
   ]
  },
  {
   "cell_type": "code",
   "execution_count": 144,
   "metadata": {},
   "outputs": [
    {
     "data": {
      "text/html": [
       "<table class=\"data-frame\"><thead><tr><th></th><th>new_ratings</th><th>new_cost</th></tr><tr><th></th><th>Int64</th><th>Int64</th></tr></thead><tbody><p>100 rows × 2 columns</p><tr><th>1</th><td>55</td><td>33</td></tr><tr><th>2</th><td>55</td><td>26</td></tr><tr><th>3</th><td>63</td><td>43</td></tr><tr><th>4</th><td>55</td><td>32</td></tr><tr><th>5</th><td>58</td><td>44</td></tr><tr><th>6</th><td>65</td><td>44</td></tr><tr><th>7</th><td>62</td><td>50</td></tr><tr><th>8</th><td>58</td><td>42</td></tr><tr><th>9</th><td>57</td><td>44</td></tr><tr><th>10</th><td>56</td><td>36</td></tr><tr><th>11</th><td>69</td><td>61</td></tr><tr><th>12</th><td>59</td><td>50</td></tr><tr><th>13</th><td>61</td><td>51</td></tr><tr><th>14</th><td>64</td><td>50</td></tr><tr><th>15</th><td>71</td><td>76</td></tr><tr><th>16</th><td>64</td><td>53</td></tr><tr><th>17</th><td>60</td><td>44</td></tr><tr><th>18</th><td>72</td><td>77</td></tr><tr><th>19</th><td>65</td><td>57</td></tr><tr><th>20</th><td>58</td><td>43</td></tr><tr><th>21</th><td>55</td><td>29</td></tr><tr><th>22</th><td>55</td><td>34</td></tr><tr><th>23</th><td>72</td><td>77</td></tr><tr><th>24</th><td>63</td><td>50</td></tr><tr><th>25</th><td>75</td><td>74</td></tr><tr><th>26</th><td>65</td><td>56</td></tr><tr><th>27</th><td>58</td><td>67</td></tr><tr><th>28</th><td>69</td><td>57</td></tr><tr><th>29</th><td>74</td><td>66</td></tr><tr><th>30</th><td>71</td><td>80</td></tr><tr><th>&vellip;</th><td>&vellip;</td><td>&vellip;</td></tr></tbody></table>"
      ],
      "text/latex": [
       "\\begin{tabular}{r|cc}\n",
       "\t& new\\_ratings & new\\_cost\\\\\n",
       "\t\\hline\n",
       "\t& Int64 & Int64\\\\\n",
       "\t\\hline\n",
       "\t1 & 55 & 33 \\\\\n",
       "\t2 & 55 & 26 \\\\\n",
       "\t3 & 63 & 43 \\\\\n",
       "\t4 & 55 & 32 \\\\\n",
       "\t5 & 58 & 44 \\\\\n",
       "\t6 & 65 & 44 \\\\\n",
       "\t7 & 62 & 50 \\\\\n",
       "\t8 & 58 & 42 \\\\\n",
       "\t9 & 57 & 44 \\\\\n",
       "\t10 & 56 & 36 \\\\\n",
       "\t11 & 69 & 61 \\\\\n",
       "\t12 & 59 & 50 \\\\\n",
       "\t13 & 61 & 51 \\\\\n",
       "\t14 & 64 & 50 \\\\\n",
       "\t15 & 71 & 76 \\\\\n",
       "\t16 & 64 & 53 \\\\\n",
       "\t17 & 60 & 44 \\\\\n",
       "\t18 & 72 & 77 \\\\\n",
       "\t19 & 65 & 57 \\\\\n",
       "\t20 & 58 & 43 \\\\\n",
       "\t21 & 55 & 29 \\\\\n",
       "\t22 & 55 & 34 \\\\\n",
       "\t23 & 72 & 77 \\\\\n",
       "\t24 & 63 & 50 \\\\\n",
       "\t25 & 75 & 74 \\\\\n",
       "\t26 & 65 & 56 \\\\\n",
       "\t27 & 58 & 67 \\\\\n",
       "\t28 & 69 & 57 \\\\\n",
       "\t29 & 74 & 66 \\\\\n",
       "\t30 & 71 & 80 \\\\\n",
       "\t$\\dots$ & $\\dots$ & $\\dots$ \\\\\n",
       "\\end{tabular}\n"
      ],
      "text/plain": [
       "\u001b[1m100×2 DataFrame\u001b[0m\n",
       "\u001b[1m Row \u001b[0m│\u001b[1m new_ratings \u001b[0m\u001b[1m new_cost \u001b[0m\n",
       "\u001b[1m     \u001b[0m│\u001b[90m Int64       \u001b[0m\u001b[90m Int64    \u001b[0m\n",
       "─────┼───────────────────────\n",
       "   1 │          55        33\n",
       "   2 │          55        26\n",
       "   3 │          63        43\n",
       "   4 │          55        32\n",
       "   5 │          58        44\n",
       "   6 │          65        44\n",
       "   7 │          62        50\n",
       "   8 │          58        42\n",
       "   9 │          57        44\n",
       "  10 │          56        36\n",
       "  11 │          69        61\n",
       "  ⋮  │      ⋮          ⋮\n",
       "  91 │          67        49\n",
       "  92 │          63        29\n",
       "  93 │          64        33\n",
       "  94 │          59        39\n",
       "  95 │          68        39\n",
       "  96 │          58        28\n",
       "  97 │          56        46\n",
       "  98 │          78        70\n",
       "  99 │          74        60\n",
       " 100 │          69        52\n",
       "\u001b[36m              79 rows omitted\u001b[0m"
      ]
     },
     "execution_count": 144,
     "metadata": {},
     "output_type": "execute_result"
    }
   ],
   "source": [
    "# Define a new list that only contain these two variables\n",
    "df = DataFrame(new_ratings = ratings, new_cost = cost)"
   ]
  },
  {
   "cell_type": "code",
   "execution_count": 145,
   "metadata": {
    "scrolled": true
   },
   "outputs": [
    {
     "data": {
      "text/plain": [
       "StatsModels.TableRegressionModel{LinearModel{GLM.LmResp{Vector{Float64}}, GLM.DensePredChol{Float64, CholeskyPivoted{Float64, Matrix{Float64}}}}, Matrix{Float64}}\n",
       "\n",
       "new_cost ~ 1 + new_ratings\n",
       "\n",
       "Coefficients:\n",
       "─────────────────────────────────────────────────────────────────────────\n",
       "                 Coef.  Std. Error      t  Pr(>|t|)  Lower 95%  Upper 95%\n",
       "─────────────────────────────────────────────────────────────────────────\n",
       "(Intercept)  -46.7718     8.67463   -5.39    <1e-06  -63.9863   -29.5573\n",
       "new_ratings    1.49627    0.137875  10.85    <1e-17    1.22266    1.76988\n",
       "─────────────────────────────────────────────────────────────────────────"
      ]
     },
     "execution_count": 145,
     "metadata": {},
     "output_type": "execute_result"
    }
   ],
   "source": [
    "# To find out the coefficient of determination, we can create the regression table\n",
    "fm = @formula(new_cost~new_ratings)\n",
    "linearRegressor = lm(fm, df)"
   ]
  },
  {
   "cell_type": "code",
   "execution_count": 146,
   "metadata": {},
   "outputs": [
    {
     "data": {
      "text/plain": [
       "0.5458223250942029"
      ]
     },
     "execution_count": 146,
     "metadata": {},
     "output_type": "execute_result"
    }
   ],
   "source": [
    "r_square = r2(linearRegressor)"
   ]
  },
  {
   "cell_type": "code",
   "execution_count": 147,
   "metadata": {},
   "outputs": [
    {
     "name": "stdout",
     "output_type": "stream",
     "text": [
      "As coefficient of determination is 0.5458223250942029 , this show us that 54.582232509420294 % of total variation in the cost of meal is explained by summated ratings\n"
     ]
    }
   ],
   "source": [
    "println(\"As coefficient of determination is $r_square , this show us that $(r_square*100) % of total variation in the cost of meal is explained by summated ratings\")"
   ]
  },
  {
   "cell_type": "markdown",
   "metadata": {},
   "source": [
    "## Part D: Assuming a linear relationship, use the least-squares method to compute the regression coefficient beta 0 and beta 1. Then write down and plot the estimated regression equation."
   ]
  },
  {
   "cell_type": "code",
   "execution_count": 148,
   "metadata": {},
   "outputs": [
    {
     "data": {
      "text/plain": [
       "65.7530303030303"
      ]
     },
     "execution_count": 148,
     "metadata": {},
     "output_type": "execute_result"
    }
   ],
   "source": [
    "# x is the rating, y is the cost\n",
    "# The formula to find b1(slope variable) is covariance divide by the variance of x variable\n",
    "covariance = cov(ratings, cost)"
   ]
  },
  {
   "cell_type": "code",
   "execution_count": 149,
   "metadata": {},
   "outputs": [
    {
     "data": {
      "text/plain": [
       "43.944545454545455"
      ]
     },
     "execution_count": 149,
     "metadata": {},
     "output_type": "execute_result"
    }
   ],
   "source": [
    "var_x = var(ratings)"
   ]
  },
  {
   "cell_type": "code",
   "execution_count": 150,
   "metadata": {},
   "outputs": [
    {
     "data": {
      "text/plain": [
       "62.57"
      ]
     },
     "execution_count": 150,
     "metadata": {},
     "output_type": "execute_result"
    }
   ],
   "source": [
    "# The formula to find b0(intercept) is the mean of y minus the mean of x times b1(slope variable)\n",
    "x_bar = mean(ratings)"
   ]
  },
  {
   "cell_type": "code",
   "execution_count": 151,
   "metadata": {},
   "outputs": [
    {
     "data": {
      "text/plain": [
       "46.85"
      ]
     },
     "execution_count": 151,
     "metadata": {},
     "output_type": "execute_result"
    }
   ],
   "source": [
    "y_bar = mean(cost)"
   ]
  },
  {
   "cell_type": "code",
   "execution_count": 152,
   "metadata": {},
   "outputs": [
    {
     "data": {
      "text/plain": [
       "1.49627285076922"
      ]
     },
     "execution_count": 152,
     "metadata": {},
     "output_type": "execute_result"
    }
   ],
   "source": [
    "b1 = covariance/var_x"
   ]
  },
  {
   "cell_type": "code",
   "execution_count": 153,
   "metadata": {},
   "outputs": [
    {
     "data": {
      "text/plain": [
       "-46.7717922726301"
      ]
     },
     "execution_count": 153,
     "metadata": {},
     "output_type": "execute_result"
    }
   ],
   "source": [
    "b0 = y_bar - b1*x_bar"
   ]
  },
  {
   "cell_type": "code",
   "execution_count": 154,
   "metadata": {},
   "outputs": [
    {
     "name": "stdout",
     "output_type": "stream",
     "text": [
      "The equation of the regression line for this model is -46.7717922726301 + 1.49627285076922 * x\n"
     ]
    }
   ],
   "source": [
    "# This is the linear regression equation\n",
    "println(\"The equation of the regression line for this model is $b0 + $b1 * x\")"
   ]
  },
  {
   "cell_type": "code",
   "execution_count": 155,
   "metadata": {},
   "outputs": [
    {
     "data": {
      "text/plain": [
       "30-element Vector{Float64}:\n",
       " 26.54557741506168\n",
       " 28.041850265830895\n",
       " 29.538123116600126\n",
       " 31.034395967369342\n",
       " 32.53066881813856\n",
       " 34.026941668907774\n",
       " 35.523214519677005\n",
       " 37.01948737044622\n",
       " 38.51576022121544\n",
       " 40.01203307198465\n",
       " 41.508305922753884\n",
       " 43.0045787735231\n",
       " 44.500851624292316\n",
       "  ⋮\n",
       " 53.47848872890764\n",
       " 54.97476157967686\n",
       " 56.471034430446075\n",
       " 57.967307281215305\n",
       " 59.46358013198452\n",
       " 60.95985298275374\n",
       " 62.456125833522954\n",
       " 63.952398684292184\n",
       " 65.44867153506141\n",
       " 66.94494438583061\n",
       " 68.44121723659984\n",
       " 69.93749008736907"
      ]
     },
     "execution_count": 155,
     "metadata": {},
     "output_type": "execute_result"
    }
   ],
   "source": [
    "# the regression line must be in the same range as the original dataset\n",
    "x = x_min:x_max \n",
    "f(x) = b0 + b1*x\n",
    "y = f.(x)"
   ]
  },
  {
   "cell_type": "code",
   "execution_count": 156,
   "metadata": {
    "scrolled": true
   },
   "outputs": [
    {
     "data": {
      "application/vnd.plotly.v1+json": {
       "data": [
        {
         "colorbar": {
          "title": ""
         },
         "legendgroup": "regression line",
         "line": {
          "color": "rgba(0, 154, 250, 1.000)",
          "dash": "dash",
          "shape": "linear",
          "width": 1
         },
         "mode": "lines",
         "name": "regression line",
         "showlegend": true,
         "type": "scatter",
         "x": [
          49,
          50,
          51,
          52,
          53,
          54,
          55,
          56,
          57,
          58,
          59,
          60,
          61,
          62,
          63,
          64,
          65,
          66,
          67,
          68,
          69,
          70,
          71,
          72,
          73,
          74,
          75,
          76,
          77,
          78
         ],
         "xaxis": "x",
         "y": [
          26.54557741506168,
          28.041850265830895,
          29.538123116600126,
          31.034395967369342,
          32.53066881813856,
          34.026941668907774,
          35.523214519677005,
          37.01948737044622,
          38.51576022121544,
          40.01203307198465,
          41.508305922753884,
          43.0045787735231,
          44.500851624292316,
          45.99712447506153,
          47.49339732583076,
          48.98967017659998,
          50.485943027369196,
          51.982215878138426,
          53.47848872890764,
          54.97476157967686,
          56.471034430446075,
          57.967307281215305,
          59.46358013198452,
          60.95985298275374,
          62.456125833522954,
          63.952398684292184,
          65.44867153506141,
          66.94494438583061,
          68.44121723659984,
          69.93749008736907
         ],
         "yaxis": "y",
         "zmax": null,
         "zmin": null
        },
        {
         "colorbar": {
          "title": ""
         },
         "legendgroup": "points",
         "marker": {
          "color": "rgba(227, 111, 71, 1.000)",
          "line": {
           "color": "rgba(0, 0, 0, 1.000)",
           "width": 1
          },
          "size": 8,
          "symbol": "circle"
         },
         "mode": "markers",
         "name": "points",
         "showlegend": true,
         "type": "scatter",
         "x": [
          55,
          55,
          63,
          55,
          58,
          65,
          62,
          58,
          57,
          56,
          69,
          59,
          61,
          64,
          71,
          64,
          60,
          72,
          65,
          58,
          55,
          55,
          72,
          63,
          75,
          65,
          58,
          69,
          74,
          71,
          68,
          63,
          56,
          67,
          64,
          62,
          54,
          56,
          74,
          57,
          57,
          63,
          64,
          59,
          72,
          56,
          57,
          64,
          63,
          56,
          66,
          62,
          49,
          65,
          64,
          72,
          50,
          56,
          62,
          75,
          51,
          52,
          70,
          53,
          65,
          61,
          65,
          65,
          53,
          65,
          58,
          70,
          62,
          60,
          63,
          53,
          60,
          77,
          66,
          51,
          53,
          66,
          68,
          63,
          60,
          62,
          62,
          68,
          72,
          70,
          67,
          63,
          64,
          59,
          68,
          58,
          56,
          78,
          74,
          69
         ],
         "xaxis": "x",
         "y": [
          33,
          26,
          43,
          32,
          44,
          44,
          50,
          42,
          44,
          36,
          61,
          50,
          51,
          50,
          76,
          53,
          44,
          77,
          57,
          43,
          29,
          34,
          77,
          50,
          74,
          56,
          67,
          57,
          66,
          80,
          68,
          42,
          48,
          60,
          35,
          45,
          32,
          25,
          74,
          43,
          39,
          55,
          65,
          35,
          61,
          37,
          54,
          41,
          33,
          27,
          47,
          48,
          35,
          59,
          44,
          51,
          37,
          36,
          43,
          52,
          34,
          38,
          51,
          34,
          51,
          34,
          51,
          56,
          26,
          34,
          34,
          44,
          40,
          31,
          54,
          41,
          50,
          71,
          60,
          37,
          27,
          34,
          48,
          39,
          44,
          41,
          37,
          47,
          67,
          68,
          49,
          29,
          33,
          39,
          39,
          28,
          46,
          70,
          60,
          52
         ],
         "yaxis": "y",
         "zmax": null,
         "zmin": null
        }
       ],
       "layout": {
        "annotations": [
         {
          "font": {
           "color": "rgba(0, 0, 0, 1.000)",
           "family": "sans-serif",
           "size": 20
          },
          "rotation": 0,
          "showarrow": false,
          "text": "Restaurant Research",
          "x": 0.5275462962962963,
          "xanchor": "center",
          "xref": "paper",
          "y": 1,
          "yanchor": "top",
          "yref": "paper"
         }
        ],
        "height": 400,
        "legend": {
         "bgcolor": "rgba(255, 255, 255, 1.000)",
         "bordercolor": "rgba(0, 0, 0, 1.000)",
         "borderwidth": 1,
         "font": {
          "color": "rgba(0, 0, 0, 1.000)",
          "family": "sans-serif",
          "size": 11
         },
         "title": {
          "font": {
           "color": "rgba(0, 0, 0, 1.000)",
           "family": "sans-serif",
           "size": 15
          },
          "text": ""
         },
         "tracegroupgap": 0,
         "traceorder": "normal",
         "x": 1,
         "xanchor": "auto",
         "y": 1,
         "yanchor": "auto"
        },
        "margin": {
         "b": 20,
         "l": 0,
         "r": 0,
         "t": 20
        },
        "paper_bgcolor": "rgba(255, 255, 255, 1.000)",
        "plot_bgcolor": "rgba(255, 255, 255, 1.000)",
        "showlegend": true,
        "width": 600,
        "xaxis": {
         "anchor": "y",
         "domain": [
          0.061654272382618835,
          0.9934383202099737
         ],
         "gridcolor": "rgba(0, 0, 0, 0.100)",
         "gridwidth": 0.5,
         "linecolor": "rgba(0, 0, 0, 1.000)",
         "mirror": false,
         "range": [
          48.13,
          78.87
         ],
         "showgrid": true,
         "showline": true,
         "showticklabels": true,
         "tickangle": 0,
         "tickcolor": "rgb(0, 0, 0)",
         "tickfont": {
          "color": "rgba(0, 0, 0, 1.000)",
          "family": "sans-serif",
          "size": 11
         },
         "tickmode": "array",
         "ticks": "inside",
         "ticktext": [
          "50",
          "55",
          "60",
          "65",
          "70",
          "75"
         ],
         "tickvals": [
          50,
          55,
          60,
          65,
          70,
          75
         ],
         "title": "Restaurant Rating",
         "titlefont": {
          "color": "rgba(0, 0, 0, 1.000)",
          "family": "sans-serif",
          "size": 15
         },
         "type": "-",
         "visible": true,
         "zeroline": false,
         "zerolinecolor": "rgba(0, 0, 0, 1.000)"
        },
        "yaxis": {
         "anchor": "x",
         "domain": [
          0.07581474190726165,
          0.9415463692038496
         ],
         "gridcolor": "rgba(0, 0, 0, 0.100)",
         "gridwidth": 0.5,
         "linecolor": "rgba(0, 0, 0, 1.000)",
         "mirror": false,
         "range": [
          23.35,
          81.65
         ],
         "showgrid": true,
         "showline": true,
         "showticklabels": true,
         "tickangle": 0,
         "tickcolor": "rgb(0, 0, 0)",
         "tickfont": {
          "color": "rgba(0, 0, 0, 1.000)",
          "family": "sans-serif",
          "size": 11
         },
         "tickmode": "array",
         "ticks": "inside",
         "ticktext": [
          "30",
          "40",
          "50",
          "60",
          "70",
          "80"
         ],
         "tickvals": [
          30,
          40,
          50,
          60,
          70,
          80
         ],
         "title": "Cost of meal",
         "titlefont": {
          "color": "rgba(0, 0, 0, 1.000)",
          "family": "sans-serif",
          "size": 15
         },
         "type": "-",
         "visible": true,
         "zeroline": false,
         "zerolinecolor": "rgba(0, 0, 0, 1.000)"
        }
       }
      },
      "text/html": [
       "<!DOCTYPE html>\n",
       "<html>\n",
       "    <head>\n",
       "        <title>Plots.jl</title>\n",
       "        <meta http-equiv=\"content-type\" content=\"text/html; charset=UTF-8\">\n",
       "        \n",
       "    </head>\n",
       "    <body>\n",
       "            <div id=\"2c9dd13f-3ea5-40ed-a0ba-8269476ff096\" style=\"width:600px;height:400px;\"></div>\n",
       "    <script>\n",
       "        requirejs.config({\n",
       "        paths: {\n",
       "            Plotly: 'https://cdn.plot.ly/plotly-1.57.1.min'\n",
       "        }\n",
       "    });\n",
       "    require(['Plotly'], function (Plotly) {\n",
       "\n",
       "        var PLOT = document.getElementById('2c9dd13f-3ea5-40ed-a0ba-8269476ff096');\n",
       "    Plotly.plot(PLOT, [\n",
       "    {\n",
       "        \"xaxis\": \"x\",\n",
       "        \"colorbar\": {\n",
       "            \"title\": \"\"\n",
       "        },\n",
       "        \"yaxis\": \"y\",\n",
       "        \"x\": [\n",
       "            49,\n",
       "            50,\n",
       "            51,\n",
       "            52,\n",
       "            53,\n",
       "            54,\n",
       "            55,\n",
       "            56,\n",
       "            57,\n",
       "            58,\n",
       "            59,\n",
       "            60,\n",
       "            61,\n",
       "            62,\n",
       "            63,\n",
       "            64,\n",
       "            65,\n",
       "            66,\n",
       "            67,\n",
       "            68,\n",
       "            69,\n",
       "            70,\n",
       "            71,\n",
       "            72,\n",
       "            73,\n",
       "            74,\n",
       "            75,\n",
       "            76,\n",
       "            77,\n",
       "            78\n",
       "        ],\n",
       "        \"showlegend\": true,\n",
       "        \"mode\": \"lines\",\n",
       "        \"name\": \"regression line\",\n",
       "        \"zmin\": null,\n",
       "        \"legendgroup\": \"regression line\",\n",
       "        \"zmax\": null,\n",
       "        \"line\": {\n",
       "            \"color\": \"rgba(0, 154, 250, 1.000)\",\n",
       "            \"shape\": \"linear\",\n",
       "            \"dash\": \"dash\",\n",
       "            \"width\": 1\n",
       "        },\n",
       "        \"y\": [\n",
       "            26.54557741506168,\n",
       "            28.041850265830895,\n",
       "            29.538123116600126,\n",
       "            31.034395967369342,\n",
       "            32.53066881813856,\n",
       "            34.026941668907774,\n",
       "            35.523214519677005,\n",
       "            37.01948737044622,\n",
       "            38.51576022121544,\n",
       "            40.01203307198465,\n",
       "            41.508305922753884,\n",
       "            43.0045787735231,\n",
       "            44.500851624292316,\n",
       "            45.99712447506153,\n",
       "            47.49339732583076,\n",
       "            48.98967017659998,\n",
       "            50.485943027369196,\n",
       "            51.982215878138426,\n",
       "            53.47848872890764,\n",
       "            54.97476157967686,\n",
       "            56.471034430446075,\n",
       "            57.967307281215305,\n",
       "            59.46358013198452,\n",
       "            60.95985298275374,\n",
       "            62.456125833522954,\n",
       "            63.952398684292184,\n",
       "            65.44867153506141,\n",
       "            66.94494438583061,\n",
       "            68.44121723659984,\n",
       "            69.93749008736907\n",
       "        ],\n",
       "        \"type\": \"scatter\"\n",
       "    },\n",
       "    {\n",
       "        \"xaxis\": \"x\",\n",
       "        \"colorbar\": {\n",
       "            \"title\": \"\"\n",
       "        },\n",
       "        \"yaxis\": \"y\",\n",
       "        \"x\": [\n",
       "            55.0,\n",
       "            55.0,\n",
       "            63.0,\n",
       "            55.0,\n",
       "            58.0,\n",
       "            65.0,\n",
       "            62.0,\n",
       "            58.0,\n",
       "            57.0,\n",
       "            56.0,\n",
       "            69.0,\n",
       "            59.0,\n",
       "            61.0,\n",
       "            64.0,\n",
       "            71.0,\n",
       "            64.0,\n",
       "            60.0,\n",
       "            72.0,\n",
       "            65.0,\n",
       "            58.0,\n",
       "            55.0,\n",
       "            55.0,\n",
       "            72.0,\n",
       "            63.0,\n",
       "            75.0,\n",
       "            65.0,\n",
       "            58.0,\n",
       "            69.0,\n",
       "            74.0,\n",
       "            71.0,\n",
       "            68.0,\n",
       "            63.0,\n",
       "            56.0,\n",
       "            67.0,\n",
       "            64.0,\n",
       "            62.0,\n",
       "            54.0,\n",
       "            56.0,\n",
       "            74.0,\n",
       "            57.0,\n",
       "            57.0,\n",
       "            63.0,\n",
       "            64.0,\n",
       "            59.0,\n",
       "            72.0,\n",
       "            56.0,\n",
       "            57.0,\n",
       "            64.0,\n",
       "            63.0,\n",
       "            56.0,\n",
       "            66.0,\n",
       "            62.0,\n",
       "            49.0,\n",
       "            65.0,\n",
       "            64.0,\n",
       "            72.0,\n",
       "            50.0,\n",
       "            56.0,\n",
       "            62.0,\n",
       "            75.0,\n",
       "            51.0,\n",
       "            52.0,\n",
       "            70.0,\n",
       "            53.0,\n",
       "            65.0,\n",
       "            61.0,\n",
       "            65.0,\n",
       "            65.0,\n",
       "            53.0,\n",
       "            65.0,\n",
       "            58.0,\n",
       "            70.0,\n",
       "            62.0,\n",
       "            60.0,\n",
       "            63.0,\n",
       "            53.0,\n",
       "            60.0,\n",
       "            77.0,\n",
       "            66.0,\n",
       "            51.0,\n",
       "            53.0,\n",
       "            66.0,\n",
       "            68.0,\n",
       "            63.0,\n",
       "            60.0,\n",
       "            62.0,\n",
       "            62.0,\n",
       "            68.0,\n",
       "            72.0,\n",
       "            70.0,\n",
       "            67.0,\n",
       "            63.0,\n",
       "            64.0,\n",
       "            59.0,\n",
       "            68.0,\n",
       "            58.0,\n",
       "            56.0,\n",
       "            78.0,\n",
       "            74.0,\n",
       "            69.0\n",
       "        ],\n",
       "        \"showlegend\": true,\n",
       "        \"mode\": \"markers\",\n",
       "        \"name\": \"points\",\n",
       "        \"zmin\": null,\n",
       "        \"legendgroup\": \"points\",\n",
       "        \"marker\": {\n",
       "            \"symbol\": \"circle\",\n",
       "            \"color\": \"rgba(227, 111, 71, 1.000)\",\n",
       "            \"line\": {\n",
       "                \"color\": \"rgba(0, 0, 0, 1.000)\",\n",
       "                \"width\": 1\n",
       "            },\n",
       "            \"size\": 8\n",
       "        },\n",
       "        \"zmax\": null,\n",
       "        \"y\": [\n",
       "            33.0,\n",
       "            26.0,\n",
       "            43.0,\n",
       "            32.0,\n",
       "            44.0,\n",
       "            44.0,\n",
       "            50.0,\n",
       "            42.0,\n",
       "            44.0,\n",
       "            36.0,\n",
       "            61.0,\n",
       "            50.0,\n",
       "            51.0,\n",
       "            50.0,\n",
       "            76.0,\n",
       "            53.0,\n",
       "            44.0,\n",
       "            77.0,\n",
       "            57.0,\n",
       "            43.0,\n",
       "            29.0,\n",
       "            34.0,\n",
       "            77.0,\n",
       "            50.0,\n",
       "            74.0,\n",
       "            56.0,\n",
       "            67.0,\n",
       "            57.0,\n",
       "            66.0,\n",
       "            80.0,\n",
       "            68.0,\n",
       "            42.0,\n",
       "            48.0,\n",
       "            60.0,\n",
       "            35.0,\n",
       "            45.0,\n",
       "            32.0,\n",
       "            25.0,\n",
       "            74.0,\n",
       "            43.0,\n",
       "            39.0,\n",
       "            55.0,\n",
       "            65.0,\n",
       "            35.0,\n",
       "            61.0,\n",
       "            37.0,\n",
       "            54.0,\n",
       "            41.0,\n",
       "            33.0,\n",
       "            27.0,\n",
       "            47.0,\n",
       "            48.0,\n",
       "            35.0,\n",
       "            59.0,\n",
       "            44.0,\n",
       "            51.0,\n",
       "            37.0,\n",
       "            36.0,\n",
       "            43.0,\n",
       "            52.0,\n",
       "            34.0,\n",
       "            38.0,\n",
       "            51.0,\n",
       "            34.0,\n",
       "            51.0,\n",
       "            34.0,\n",
       "            51.0,\n",
       "            56.0,\n",
       "            26.0,\n",
       "            34.0,\n",
       "            34.0,\n",
       "            44.0,\n",
       "            40.0,\n",
       "            31.0,\n",
       "            54.0,\n",
       "            41.0,\n",
       "            50.0,\n",
       "            71.0,\n",
       "            60.0,\n",
       "            37.0,\n",
       "            27.0,\n",
       "            34.0,\n",
       "            48.0,\n",
       "            39.0,\n",
       "            44.0,\n",
       "            41.0,\n",
       "            37.0,\n",
       "            47.0,\n",
       "            67.0,\n",
       "            68.0,\n",
       "            49.0,\n",
       "            29.0,\n",
       "            33.0,\n",
       "            39.0,\n",
       "            39.0,\n",
       "            28.0,\n",
       "            46.0,\n",
       "            70.0,\n",
       "            60.0,\n",
       "            52.0\n",
       "        ],\n",
       "        \"type\": \"scatter\"\n",
       "    }\n",
       "]\n",
       ", {\n",
       "    \"showlegend\": true,\n",
       "    \"xaxis\": {\n",
       "        \"showticklabels\": true,\n",
       "        \"gridwidth\": 0.5,\n",
       "        \"tickvals\": [\n",
       "            50.0,\n",
       "            55.0,\n",
       "            60.0,\n",
       "            65.0,\n",
       "            70.0,\n",
       "            75.0\n",
       "        ],\n",
       "        \"range\": [\n",
       "            48.13,\n",
       "            78.87\n",
       "        ],\n",
       "        \"domain\": [\n",
       "            0.061654272382618835,\n",
       "            0.9934383202099737\n",
       "        ],\n",
       "        \"mirror\": false,\n",
       "        \"tickangle\": 0,\n",
       "        \"showline\": true,\n",
       "        \"ticktext\": [\n",
       "            \"50\",\n",
       "            \"55\",\n",
       "            \"60\",\n",
       "            \"65\",\n",
       "            \"70\",\n",
       "            \"75\"\n",
       "        ],\n",
       "        \"zeroline\": false,\n",
       "        \"tickfont\": {\n",
       "            \"color\": \"rgba(0, 0, 0, 1.000)\",\n",
       "            \"family\": \"sans-serif\",\n",
       "            \"size\": 11\n",
       "        },\n",
       "        \"zerolinecolor\": \"rgba(0, 0, 0, 1.000)\",\n",
       "        \"anchor\": \"y\",\n",
       "        \"visible\": true,\n",
       "        \"ticks\": \"inside\",\n",
       "        \"tickmode\": \"array\",\n",
       "        \"linecolor\": \"rgba(0, 0, 0, 1.000)\",\n",
       "        \"showgrid\": true,\n",
       "        \"title\": \"Restaurant Rating\",\n",
       "        \"gridcolor\": \"rgba(0, 0, 0, 0.100)\",\n",
       "        \"titlefont\": {\n",
       "            \"color\": \"rgba(0, 0, 0, 1.000)\",\n",
       "            \"family\": \"sans-serif\",\n",
       "            \"size\": 15\n",
       "        },\n",
       "        \"tickcolor\": \"rgb(0, 0, 0)\",\n",
       "        \"type\": \"-\"\n",
       "    },\n",
       "    \"paper_bgcolor\": \"rgba(255, 255, 255, 1.000)\",\n",
       "    \"annotations\": [\n",
       "        {\n",
       "            \"yanchor\": \"top\",\n",
       "            \"xanchor\": \"center\",\n",
       "            \"rotation\": -0.0,\n",
       "            \"y\": 1.0,\n",
       "            \"font\": {\n",
       "                \"color\": \"rgba(0, 0, 0, 1.000)\",\n",
       "                \"family\": \"sans-serif\",\n",
       "                \"size\": 20\n",
       "            },\n",
       "            \"yref\": \"paper\",\n",
       "            \"showarrow\": false,\n",
       "            \"text\": \"Restaurant Research\",\n",
       "            \"xref\": \"paper\",\n",
       "            \"x\": 0.5275462962962963\n",
       "        }\n",
       "    ],\n",
       "    \"height\": 400,\n",
       "    \"margin\": {\n",
       "        \"l\": 0,\n",
       "        \"b\": 20,\n",
       "        \"r\": 0,\n",
       "        \"t\": 20\n",
       "    },\n",
       "    \"plot_bgcolor\": \"rgba(255, 255, 255, 1.000)\",\n",
       "    \"yaxis\": {\n",
       "        \"showticklabels\": true,\n",
       "        \"gridwidth\": 0.5,\n",
       "        \"tickvals\": [\n",
       "            30.0,\n",
       "            40.0,\n",
       "            50.0,\n",
       "            60.0,\n",
       "            70.0,\n",
       "            80.0\n",
       "        ],\n",
       "        \"range\": [\n",
       "            23.35,\n",
       "            81.65\n",
       "        ],\n",
       "        \"domain\": [\n",
       "            0.07581474190726165,\n",
       "            0.9415463692038496\n",
       "        ],\n",
       "        \"mirror\": false,\n",
       "        \"tickangle\": 0,\n",
       "        \"showline\": true,\n",
       "        \"ticktext\": [\n",
       "            \"30\",\n",
       "            \"40\",\n",
       "            \"50\",\n",
       "            \"60\",\n",
       "            \"70\",\n",
       "            \"80\"\n",
       "        ],\n",
       "        \"zeroline\": false,\n",
       "        \"tickfont\": {\n",
       "            \"color\": \"rgba(0, 0, 0, 1.000)\",\n",
       "            \"family\": \"sans-serif\",\n",
       "            \"size\": 11\n",
       "        },\n",
       "        \"zerolinecolor\": \"rgba(0, 0, 0, 1.000)\",\n",
       "        \"anchor\": \"x\",\n",
       "        \"visible\": true,\n",
       "        \"ticks\": \"inside\",\n",
       "        \"tickmode\": \"array\",\n",
       "        \"linecolor\": \"rgba(0, 0, 0, 1.000)\",\n",
       "        \"showgrid\": true,\n",
       "        \"title\": \"Cost of meal\",\n",
       "        \"gridcolor\": \"rgba(0, 0, 0, 0.100)\",\n",
       "        \"titlefont\": {\n",
       "            \"color\": \"rgba(0, 0, 0, 1.000)\",\n",
       "            \"family\": \"sans-serif\",\n",
       "            \"size\": 15\n",
       "        },\n",
       "        \"tickcolor\": \"rgb(0, 0, 0)\",\n",
       "        \"type\": \"-\"\n",
       "    },\n",
       "    \"legend\": {\n",
       "        \"yanchor\": \"auto\",\n",
       "        \"xanchor\": \"auto\",\n",
       "        \"bordercolor\": \"rgba(0, 0, 0, 1.000)\",\n",
       "        \"bgcolor\": \"rgba(255, 255, 255, 1.000)\",\n",
       "        \"borderwidth\": 1,\n",
       "        \"tracegroupgap\": 0,\n",
       "        \"y\": 1.0,\n",
       "        \"font\": {\n",
       "            \"color\": \"rgba(0, 0, 0, 1.000)\",\n",
       "            \"family\": \"sans-serif\",\n",
       "            \"size\": 11\n",
       "        },\n",
       "        \"title\": {\n",
       "            \"font\": {\n",
       "                \"color\": \"rgba(0, 0, 0, 1.000)\",\n",
       "                \"family\": \"sans-serif\",\n",
       "                \"size\": 15\n",
       "            },\n",
       "            \"text\": \"\"\n",
       "        },\n",
       "        \"traceorder\": \"normal\",\n",
       "        \"x\": 1.0\n",
       "    },\n",
       "    \"width\": 600\n",
       "}\n",
       ");\n",
       "\n",
       "    });\n",
       "    </script>\n",
       "\n",
       "    </body>\n",
       "</html>\n"
      ]
     },
     "execution_count": 156,
     "metadata": {},
     "output_type": "execute_result"
    },
    {
     "name": "stderr",
     "output_type": "stream",
     "text": [
      "┌ Warning: Indices Base.OneTo(1) of attribute `linestyle` does not match data indices 1:30.\n",
      "└ @ Plots C:\\Users\\86865\\.julia\\packages\\Plots\\iYDwd\\src\\utils.jl:108\n",
      "┌ Warning: Indices Base.OneTo(1) of attribute `linestyle` does not match data indices 1:30.\n",
      "└ @ Plots C:\\Users\\86865\\.julia\\packages\\Plots\\iYDwd\\src\\utils.jl:108\n"
     ]
    }
   ],
   "source": [
    "# Plot the regression line with the scatter plot\n",
    "plot(x, y, linestyle = [:dash], label = \"regression line\"); scatter!(ratings, cost, label=\"points\")\n",
    "xlabel!(\"Restaurant Rating\")\n",
    "ylabel!(\"Cost of meal\")\n",
    "title!(\"Restaurant Research\")"
   ]
  },
  {
   "cell_type": "markdown",
   "metadata": {},
   "source": [
    "## Part E: using the regression  model to predict the cost of meal for a restaurant that has a summated rating of 50."
   ]
  },
  {
   "cell_type": "code",
   "execution_count": 157,
   "metadata": {},
   "outputs": [
    {
     "data": {
      "text/plain": [
       "28.041850265830895"
      ]
     },
     "execution_count": 157,
     "metadata": {},
     "output_type": "execute_result"
    }
   ],
   "source": [
    "# use the regression model to estimate the cost for the restaurant that has a rating of 50\n",
    "x_cost = b0 + 50*b1"
   ]
  },
  {
   "cell_type": "code",
   "execution_count": 158,
   "metadata": {},
   "outputs": [
    {
     "data": {
      "text/plain": [
       "28.04"
      ]
     },
     "execution_count": 158,
     "metadata": {},
     "output_type": "execute_result"
    }
   ],
   "source": [
    "x_cost = round(x_cost, digits = 2)"
   ]
  },
  {
   "cell_type": "code",
   "execution_count": 159,
   "metadata": {},
   "outputs": [
    {
     "name": "stdout",
     "output_type": "stream",
     "text": [
      "The cost of meal for a restaurant that has a summated rating of 50 is estimated to be $ 28.04\n"
     ]
    }
   ],
   "source": [
    "println(\"The cost of meal for a restaurant that has a summated rating of 50 is estimated to be \\$ $x_cost\")"
   ]
  },
  {
   "cell_type": "markdown",
   "metadata": {},
   "source": [
    "## Part F: Through graphing residual plots and histograms, prove whether the assumptions of linearity, independence of error, normality of error and equal variance are valid."
   ]
  },
  {
   "cell_type": "code",
   "execution_count": 160,
   "metadata": {},
   "outputs": [
    {
     "data": {
      "text/plain": [
       "100"
      ]
     },
     "execution_count": 160,
     "metadata": {},
     "output_type": "execute_result"
    }
   ],
   "source": [
    "# Find the size of the dataset\n",
    "size(df, 1)"
   ]
  },
  {
   "cell_type": "code",
   "execution_count": 161,
   "metadata": {},
   "outputs": [],
   "source": [
    "# To find residuals, we need to compare the estimated cost with the actual cost\n",
    "# Loop through all the actual cost and minus it by the estimated cost\n",
    "array = []\n",
    "for i in 1: size(df, 1)\n",
    "    x_value = df[i, 1]\n",
    "    y_value = df[i, 2]\n",
    "    est_y = b0 + b1*x_value\n",
    "    residual = y_value - est_y\n",
    "    push!(array, residual)\n",
    "end"
   ]
  },
  {
   "cell_type": "code",
   "execution_count": 162,
   "metadata": {},
   "outputs": [
    {
     "data": {
      "application/vnd.plotly.v1+json": {
       "data": [
        {
         "fill": "tozeroy",
         "fillcolor": "rgba(0, 154, 250, 1.000)",
         "hoverinfo": "none",
         "legendgroup": "y1",
         "line": {
          "color": "rgba(0, 0, 0, 1.000)",
          "dash": "solid",
          "width": 1
         },
         "mode": "lines",
         "name": "y1",
         "showlegend": true,
         "type": "scatter",
         "x": [
          -20,
          -20,
          -15,
          -15,
          -20,
          -20
         ],
         "xaxis": "x1",
         "y": [
          5,
          0,
          0,
          5,
          5,
          5
         ],
         "yaxis": "y1"
        },
        {
         "fill": "tozeroy",
         "fillcolor": "rgba(0, 154, 250, 1.000)",
         "hoverinfo": "none",
         "legendgroup": "y1",
         "line": {
          "color": "rgba(0, 0, 0, 1.000)",
          "dash": "solid",
          "width": 1
         },
         "mode": "lines",
         "name": "y1",
         "showlegend": false,
         "type": "scatter",
         "x": [
          -15,
          -15,
          -10,
          -10,
          -15,
          -15
         ],
         "xaxis": "x1",
         "y": [
          9,
          0,
          0,
          9,
          9,
          9
         ],
         "yaxis": "y1"
        },
        {
         "fill": "tozeroy",
         "fillcolor": "rgba(0, 154, 250, 1.000)",
         "hoverinfo": "none",
         "legendgroup": "y1",
         "line": {
          "color": "rgba(0, 0, 0, 1.000)",
          "dash": "solid",
          "width": 1
         },
         "mode": "lines",
         "name": "y1",
         "showlegend": false,
         "type": "scatter",
         "x": [
          -10,
          -10,
          -5,
          -5,
          -10,
          -10
         ],
         "xaxis": "x1",
         "y": [
          16,
          0,
          0,
          16,
          16,
          16
         ],
         "yaxis": "y1"
        },
        {
         "fill": "tozeroy",
         "fillcolor": "rgba(0, 154, 250, 1.000)",
         "hoverinfo": "none",
         "legendgroup": "y1",
         "line": {
          "color": "rgba(0, 0, 0, 1.000)",
          "dash": "solid",
          "width": 1
         },
         "mode": "lines",
         "name": "y1",
         "showlegend": false,
         "type": "scatter",
         "x": [
          -5,
          -5,
          0,
          0,
          -5,
          -5
         ],
         "xaxis": "x1",
         "y": [
          17,
          0,
          0,
          17,
          17,
          17
         ],
         "yaxis": "y1"
        },
        {
         "fill": "tozeroy",
         "fillcolor": "rgba(0, 154, 250, 1.000)",
         "hoverinfo": "none",
         "legendgroup": "y1",
         "line": {
          "color": "rgba(0, 0, 0, 1.000)",
          "dash": "solid",
          "width": 1
         },
         "mode": "lines",
         "name": "y1",
         "showlegend": false,
         "type": "scatter",
         "x": [
          0,
          0,
          5,
          5,
          0,
          0
         ],
         "xaxis": "x1",
         "y": [
          22,
          0,
          0,
          22,
          22,
          22
         ],
         "yaxis": "y1"
        },
        {
         "fill": "tozeroy",
         "fillcolor": "rgba(0, 154, 250, 1.000)",
         "hoverinfo": "none",
         "legendgroup": "y1",
         "line": {
          "color": "rgba(0, 0, 0, 1.000)",
          "dash": "solid",
          "width": 1
         },
         "mode": "lines",
         "name": "y1",
         "showlegend": false,
         "type": "scatter",
         "x": [
          5,
          5,
          10,
          10,
          5,
          5
         ],
         "xaxis": "x1",
         "y": [
          20,
          0,
          0,
          20,
          20,
          20
         ],
         "yaxis": "y1"
        },
        {
         "fill": "tozeroy",
         "fillcolor": "rgba(0, 154, 250, 1.000)",
         "hoverinfo": "none",
         "legendgroup": "y1",
         "line": {
          "color": "rgba(0, 0, 0, 1.000)",
          "dash": "solid",
          "width": 1
         },
         "mode": "lines",
         "name": "y1",
         "showlegend": false,
         "type": "scatter",
         "x": [
          10,
          10,
          15,
          15,
          10,
          10
         ],
         "xaxis": "x1",
         "y": [
          4,
          0,
          0,
          4,
          4,
          4
         ],
         "yaxis": "y1"
        },
        {
         "fill": "tozeroy",
         "fillcolor": "rgba(0, 154, 250, 1.000)",
         "hoverinfo": "none",
         "legendgroup": "y1",
         "line": {
          "color": "rgba(0, 0, 0, 1.000)",
          "dash": "solid",
          "width": 1
         },
         "mode": "lines",
         "name": "y1",
         "showlegend": false,
         "type": "scatter",
         "x": [
          15,
          15,
          20,
          20,
          15,
          15
         ],
         "xaxis": "x1",
         "y": [
          5,
          0,
          0,
          5,
          5,
          5
         ],
         "yaxis": "y1"
        },
        {
         "fill": "tozeroy",
         "fillcolor": "rgba(0, 154, 250, 1.000)",
         "hoverinfo": "none",
         "legendgroup": "y1",
         "line": {
          "color": "rgba(0, 0, 0, 1.000)",
          "dash": "solid",
          "width": 1
         },
         "mode": "lines",
         "name": "y1",
         "showlegend": false,
         "type": "scatter",
         "x": [
          20,
          20,
          25,
          25,
          20,
          20
         ],
         "xaxis": "x1",
         "y": [
          1,
          0,
          0,
          1,
          1,
          1
         ],
         "yaxis": "y1"
        },
        {
         "fill": "tozeroy",
         "fillcolor": "rgba(0, 154, 250, 1.000)",
         "hoverinfo": "none",
         "legendgroup": "y1",
         "line": {
          "color": "rgba(0, 0, 0, 1.000)",
          "dash": "solid",
          "width": 1
         },
         "mode": "lines",
         "name": "y1",
         "showlegend": false,
         "type": "scatter",
         "x": [
          25,
          25,
          30,
          30,
          25,
          25
         ],
         "xaxis": "x1",
         "y": [
          1,
          0,
          0,
          1,
          1,
          1
         ],
         "yaxis": "y1"
        }
       ],
       "layout": {
        "annotations": [
         {
          "font": {
           "color": "rgba(0, 0, 0, 1.000)",
           "family": "sans-serif",
           "size": 20
          },
          "rotation": 0,
          "showarrow": false,
          "text": "Residual Graph",
          "x": 0.5275462962962963,
          "xanchor": "center",
          "xref": "paper",
          "y": 1,
          "yanchor": "top",
          "yref": "paper"
         }
        ],
        "height": 400,
        "legend": {
         "bgcolor": "rgba(255, 255, 255, 1.000)",
         "bordercolor": "rgba(0, 0, 0, 1.000)",
         "borderwidth": 1,
         "font": {
          "color": "rgba(0, 0, 0, 1.000)",
          "family": "sans-serif",
          "size": 11
         },
         "title": {
          "font": {
           "color": "rgba(0, 0, 0, 1.000)",
           "family": "sans-serif",
           "size": 15
          },
          "text": ""
         },
         "tracegroupgap": 0,
         "traceorder": "normal",
         "x": 1,
         "xanchor": "auto",
         "y": 1,
         "yanchor": "auto"
        },
        "margin": {
         "b": 20,
         "l": 0,
         "r": 0,
         "t": 20
        },
        "paper_bgcolor": "rgba(255, 255, 255, 1.000)",
        "plot_bgcolor": "rgba(255, 255, 255, 1.000)",
        "showlegend": true,
        "width": 600,
        "xaxis": {
         "anchor": "y",
         "domain": [
          0.061654272382618835,
          0.9934383202099737
         ],
         "gridcolor": "rgba(0, 0, 0, 0.100)",
         "gridwidth": 0.5,
         "linecolor": "rgba(0, 0, 0, 1.000)",
         "mirror": false,
         "range": [
          -23.09,
          33.09
         ],
         "showgrid": true,
         "showline": true,
         "showticklabels": true,
         "tickangle": 0,
         "tickcolor": "rgb(0, 0, 0)",
         "tickfont": {
          "color": "rgba(0, 0, 0, 1.000)",
          "family": "sans-serif",
          "size": 11
         },
         "tickmode": "array",
         "ticks": "inside",
         "ticktext": [
          "-20",
          "-10",
          "0",
          "10",
          "20",
          "30"
         ],
         "tickvals": [
          -20,
          -10,
          0,
          10,
          20,
          30
         ],
         "title": "residuals",
         "titlefont": {
          "color": "rgba(0, 0, 0, 1.000)",
          "family": "sans-serif",
          "size": 15
         },
         "type": "-",
         "visible": true,
         "zeroline": false,
         "zerolinecolor": "rgba(0, 0, 0, 1.000)"
        },
        "yaxis": {
         "anchor": "x",
         "domain": [
          0.07581474190726165,
          0.9415463692038496
         ],
         "gridcolor": "rgba(0, 0, 0, 0.100)",
         "gridwidth": 0.5,
         "linecolor": "rgba(0, 0, 0, 1.000)",
         "mirror": false,
         "range": [
          -0.6599999999999999,
          22.66
         ],
         "showgrid": true,
         "showline": true,
         "showticklabels": true,
         "tickangle": 0,
         "tickcolor": "rgb(0, 0, 0)",
         "tickfont": {
          "color": "rgba(0, 0, 0, 1.000)",
          "family": "sans-serif",
          "size": 11
         },
         "tickmode": "array",
         "ticks": "inside",
         "ticktext": [
          "0",
          "5",
          "10",
          "15",
          "20"
         ],
         "tickvals": [
          0,
          5,
          10,
          15,
          20
         ],
         "title": "Frequency",
         "titlefont": {
          "color": "rgba(0, 0, 0, 1.000)",
          "family": "sans-serif",
          "size": 15
         },
         "type": "-",
         "visible": true,
         "zeroline": false,
         "zerolinecolor": "rgba(0, 0, 0, 1.000)"
        }
       }
      },
      "text/html": [
       "<!DOCTYPE html>\n",
       "<html>\n",
       "    <head>\n",
       "        <title>Plots.jl</title>\n",
       "        <meta http-equiv=\"content-type\" content=\"text/html; charset=UTF-8\">\n",
       "        \n",
       "    </head>\n",
       "    <body>\n",
       "            <div id=\"96521e75-58eb-40b1-8d30-e2a9d22e87a9\" style=\"width:600px;height:400px;\"></div>\n",
       "    <script>\n",
       "        requirejs.config({\n",
       "        paths: {\n",
       "            Plotly: 'https://cdn.plot.ly/plotly-1.57.1.min'\n",
       "        }\n",
       "    });\n",
       "    require(['Plotly'], function (Plotly) {\n",
       "\n",
       "        var PLOT = document.getElementById('96521e75-58eb-40b1-8d30-e2a9d22e87a9');\n",
       "    Plotly.plot(PLOT, [\n",
       "    {\n",
       "        \"xaxis\": \"x1\",\n",
       "        \"fill\": \"tozeroy\",\n",
       "        \"yaxis\": \"y1\",\n",
       "        \"x\": [\n",
       "            -20.0,\n",
       "            -20.0,\n",
       "            -15.0,\n",
       "            -15.0,\n",
       "            -20.0,\n",
       "            -20.0\n",
       "        ],\n",
       "        \"showlegend\": true,\n",
       "        \"mode\": \"lines\",\n",
       "        \"fillcolor\": \"rgba(0, 154, 250, 1.000)\",\n",
       "        \"name\": \"y1\",\n",
       "        \"legendgroup\": \"y1\",\n",
       "        \"line\": {\n",
       "            \"color\": \"rgba(0, 0, 0, 1.000)\",\n",
       "            \"dash\": \"solid\",\n",
       "            \"width\": 1\n",
       "        },\n",
       "        \"y\": [\n",
       "            5.0,\n",
       "            0.0,\n",
       "            0.0,\n",
       "            5.0,\n",
       "            5.0,\n",
       "            5.0\n",
       "        ],\n",
       "        \"type\": \"scatter\",\n",
       "        \"hoverinfo\": \"none\"\n",
       "    },\n",
       "    {\n",
       "        \"xaxis\": \"x1\",\n",
       "        \"fill\": \"tozeroy\",\n",
       "        \"yaxis\": \"y1\",\n",
       "        \"x\": [\n",
       "            -15.0,\n",
       "            -15.0,\n",
       "            -10.0,\n",
       "            -10.0,\n",
       "            -15.0,\n",
       "            -15.0\n",
       "        ],\n",
       "        \"showlegend\": false,\n",
       "        \"mode\": \"lines\",\n",
       "        \"fillcolor\": \"rgba(0, 154, 250, 1.000)\",\n",
       "        \"name\": \"y1\",\n",
       "        \"legendgroup\": \"y1\",\n",
       "        \"line\": {\n",
       "            \"color\": \"rgba(0, 0, 0, 1.000)\",\n",
       "            \"dash\": \"solid\",\n",
       "            \"width\": 1\n",
       "        },\n",
       "        \"y\": [\n",
       "            9.0,\n",
       "            0.0,\n",
       "            0.0,\n",
       "            9.0,\n",
       "            9.0,\n",
       "            9.0\n",
       "        ],\n",
       "        \"type\": \"scatter\",\n",
       "        \"hoverinfo\": \"none\"\n",
       "    },\n",
       "    {\n",
       "        \"xaxis\": \"x1\",\n",
       "        \"fill\": \"tozeroy\",\n",
       "        \"yaxis\": \"y1\",\n",
       "        \"x\": [\n",
       "            -10.0,\n",
       "            -10.0,\n",
       "            -5.0,\n",
       "            -5.0,\n",
       "            -10.0,\n",
       "            -10.0\n",
       "        ],\n",
       "        \"showlegend\": false,\n",
       "        \"mode\": \"lines\",\n",
       "        \"fillcolor\": \"rgba(0, 154, 250, 1.000)\",\n",
       "        \"name\": \"y1\",\n",
       "        \"legendgroup\": \"y1\",\n",
       "        \"line\": {\n",
       "            \"color\": \"rgba(0, 0, 0, 1.000)\",\n",
       "            \"dash\": \"solid\",\n",
       "            \"width\": 1\n",
       "        },\n",
       "        \"y\": [\n",
       "            16.0,\n",
       "            0.0,\n",
       "            0.0,\n",
       "            16.0,\n",
       "            16.0,\n",
       "            16.0\n",
       "        ],\n",
       "        \"type\": \"scatter\",\n",
       "        \"hoverinfo\": \"none\"\n",
       "    },\n",
       "    {\n",
       "        \"xaxis\": \"x1\",\n",
       "        \"fill\": \"tozeroy\",\n",
       "        \"yaxis\": \"y1\",\n",
       "        \"x\": [\n",
       "            -5.0,\n",
       "            -5.0,\n",
       "            0.0,\n",
       "            0.0,\n",
       "            -5.0,\n",
       "            -5.0\n",
       "        ],\n",
       "        \"showlegend\": false,\n",
       "        \"mode\": \"lines\",\n",
       "        \"fillcolor\": \"rgba(0, 154, 250, 1.000)\",\n",
       "        \"name\": \"y1\",\n",
       "        \"legendgroup\": \"y1\",\n",
       "        \"line\": {\n",
       "            \"color\": \"rgba(0, 0, 0, 1.000)\",\n",
       "            \"dash\": \"solid\",\n",
       "            \"width\": 1\n",
       "        },\n",
       "        \"y\": [\n",
       "            17.0,\n",
       "            0.0,\n",
       "            0.0,\n",
       "            17.0,\n",
       "            17.0,\n",
       "            17.0\n",
       "        ],\n",
       "        \"type\": \"scatter\",\n",
       "        \"hoverinfo\": \"none\"\n",
       "    },\n",
       "    {\n",
       "        \"xaxis\": \"x1\",\n",
       "        \"fill\": \"tozeroy\",\n",
       "        \"yaxis\": \"y1\",\n",
       "        \"x\": [\n",
       "            0.0,\n",
       "            0.0,\n",
       "            5.0,\n",
       "            5.0,\n",
       "            0.0,\n",
       "            0.0\n",
       "        ],\n",
       "        \"showlegend\": false,\n",
       "        \"mode\": \"lines\",\n",
       "        \"fillcolor\": \"rgba(0, 154, 250, 1.000)\",\n",
       "        \"name\": \"y1\",\n",
       "        \"legendgroup\": \"y1\",\n",
       "        \"line\": {\n",
       "            \"color\": \"rgba(0, 0, 0, 1.000)\",\n",
       "            \"dash\": \"solid\",\n",
       "            \"width\": 1\n",
       "        },\n",
       "        \"y\": [\n",
       "            22.0,\n",
       "            0.0,\n",
       "            0.0,\n",
       "            22.0,\n",
       "            22.0,\n",
       "            22.0\n",
       "        ],\n",
       "        \"type\": \"scatter\",\n",
       "        \"hoverinfo\": \"none\"\n",
       "    },\n",
       "    {\n",
       "        \"xaxis\": \"x1\",\n",
       "        \"fill\": \"tozeroy\",\n",
       "        \"yaxis\": \"y1\",\n",
       "        \"x\": [\n",
       "            5.0,\n",
       "            5.0,\n",
       "            10.0,\n",
       "            10.0,\n",
       "            5.0,\n",
       "            5.0\n",
       "        ],\n",
       "        \"showlegend\": false,\n",
       "        \"mode\": \"lines\",\n",
       "        \"fillcolor\": \"rgba(0, 154, 250, 1.000)\",\n",
       "        \"name\": \"y1\",\n",
       "        \"legendgroup\": \"y1\",\n",
       "        \"line\": {\n",
       "            \"color\": \"rgba(0, 0, 0, 1.000)\",\n",
       "            \"dash\": \"solid\",\n",
       "            \"width\": 1\n",
       "        },\n",
       "        \"y\": [\n",
       "            20.0,\n",
       "            0.0,\n",
       "            0.0,\n",
       "            20.0,\n",
       "            20.0,\n",
       "            20.0\n",
       "        ],\n",
       "        \"type\": \"scatter\",\n",
       "        \"hoverinfo\": \"none\"\n",
       "    },\n",
       "    {\n",
       "        \"xaxis\": \"x1\",\n",
       "        \"fill\": \"tozeroy\",\n",
       "        \"yaxis\": \"y1\",\n",
       "        \"x\": [\n",
       "            10.0,\n",
       "            10.0,\n",
       "            15.0,\n",
       "            15.0,\n",
       "            10.0,\n",
       "            10.0\n",
       "        ],\n",
       "        \"showlegend\": false,\n",
       "        \"mode\": \"lines\",\n",
       "        \"fillcolor\": \"rgba(0, 154, 250, 1.000)\",\n",
       "        \"name\": \"y1\",\n",
       "        \"legendgroup\": \"y1\",\n",
       "        \"line\": {\n",
       "            \"color\": \"rgba(0, 0, 0, 1.000)\",\n",
       "            \"dash\": \"solid\",\n",
       "            \"width\": 1\n",
       "        },\n",
       "        \"y\": [\n",
       "            4.0,\n",
       "            0.0,\n",
       "            0.0,\n",
       "            4.0,\n",
       "            4.0,\n",
       "            4.0\n",
       "        ],\n",
       "        \"type\": \"scatter\",\n",
       "        \"hoverinfo\": \"none\"\n",
       "    },\n",
       "    {\n",
       "        \"xaxis\": \"x1\",\n",
       "        \"fill\": \"tozeroy\",\n",
       "        \"yaxis\": \"y1\",\n",
       "        \"x\": [\n",
       "            15.0,\n",
       "            15.0,\n",
       "            20.0,\n",
       "            20.0,\n",
       "            15.0,\n",
       "            15.0\n",
       "        ],\n",
       "        \"showlegend\": false,\n",
       "        \"mode\": \"lines\",\n",
       "        \"fillcolor\": \"rgba(0, 154, 250, 1.000)\",\n",
       "        \"name\": \"y1\",\n",
       "        \"legendgroup\": \"y1\",\n",
       "        \"line\": {\n",
       "            \"color\": \"rgba(0, 0, 0, 1.000)\",\n",
       "            \"dash\": \"solid\",\n",
       "            \"width\": 1\n",
       "        },\n",
       "        \"y\": [\n",
       "            5.0,\n",
       "            0.0,\n",
       "            0.0,\n",
       "            5.0,\n",
       "            5.0,\n",
       "            5.0\n",
       "        ],\n",
       "        \"type\": \"scatter\",\n",
       "        \"hoverinfo\": \"none\"\n",
       "    },\n",
       "    {\n",
       "        \"xaxis\": \"x1\",\n",
       "        \"fill\": \"tozeroy\",\n",
       "        \"yaxis\": \"y1\",\n",
       "        \"x\": [\n",
       "            20.0,\n",
       "            20.0,\n",
       "            25.0,\n",
       "            25.0,\n",
       "            20.0,\n",
       "            20.0\n",
       "        ],\n",
       "        \"showlegend\": false,\n",
       "        \"mode\": \"lines\",\n",
       "        \"fillcolor\": \"rgba(0, 154, 250, 1.000)\",\n",
       "        \"name\": \"y1\",\n",
       "        \"legendgroup\": \"y1\",\n",
       "        \"line\": {\n",
       "            \"color\": \"rgba(0, 0, 0, 1.000)\",\n",
       "            \"dash\": \"solid\",\n",
       "            \"width\": 1\n",
       "        },\n",
       "        \"y\": [\n",
       "            1.0,\n",
       "            0.0,\n",
       "            0.0,\n",
       "            1.0,\n",
       "            1.0,\n",
       "            1.0\n",
       "        ],\n",
       "        \"type\": \"scatter\",\n",
       "        \"hoverinfo\": \"none\"\n",
       "    },\n",
       "    {\n",
       "        \"xaxis\": \"x1\",\n",
       "        \"fill\": \"tozeroy\",\n",
       "        \"yaxis\": \"y1\",\n",
       "        \"x\": [\n",
       "            25.0,\n",
       "            25.0,\n",
       "            30.0,\n",
       "            30.0,\n",
       "            25.0,\n",
       "            25.0\n",
       "        ],\n",
       "        \"showlegend\": false,\n",
       "        \"mode\": \"lines\",\n",
       "        \"fillcolor\": \"rgba(0, 154, 250, 1.000)\",\n",
       "        \"name\": \"y1\",\n",
       "        \"legendgroup\": \"y1\",\n",
       "        \"line\": {\n",
       "            \"color\": \"rgba(0, 0, 0, 1.000)\",\n",
       "            \"dash\": \"solid\",\n",
       "            \"width\": 1\n",
       "        },\n",
       "        \"y\": [\n",
       "            1.0,\n",
       "            0.0,\n",
       "            0.0,\n",
       "            1.0,\n",
       "            1.0,\n",
       "            1.0\n",
       "        ],\n",
       "        \"type\": \"scatter\",\n",
       "        \"hoverinfo\": \"none\"\n",
       "    }\n",
       "]\n",
       ", {\n",
       "    \"showlegend\": true,\n",
       "    \"xaxis\": {\n",
       "        \"showticklabels\": true,\n",
       "        \"gridwidth\": 0.5,\n",
       "        \"tickvals\": [\n",
       "            -20.0,\n",
       "            -10.0,\n",
       "            0.0,\n",
       "            10.0,\n",
       "            20.0,\n",
       "            30.0\n",
       "        ],\n",
       "        \"range\": [\n",
       "            -23.09,\n",
       "            33.09\n",
       "        ],\n",
       "        \"domain\": [\n",
       "            0.061654272382618835,\n",
       "            0.9934383202099737\n",
       "        ],\n",
       "        \"mirror\": false,\n",
       "        \"tickangle\": 0,\n",
       "        \"showline\": true,\n",
       "        \"ticktext\": [\n",
       "            \"-20\",\n",
       "            \"-10\",\n",
       "            \"0\",\n",
       "            \"10\",\n",
       "            \"20\",\n",
       "            \"30\"\n",
       "        ],\n",
       "        \"zeroline\": false,\n",
       "        \"tickfont\": {\n",
       "            \"color\": \"rgba(0, 0, 0, 1.000)\",\n",
       "            \"family\": \"sans-serif\",\n",
       "            \"size\": 11\n",
       "        },\n",
       "        \"zerolinecolor\": \"rgba(0, 0, 0, 1.000)\",\n",
       "        \"anchor\": \"y\",\n",
       "        \"visible\": true,\n",
       "        \"ticks\": \"inside\",\n",
       "        \"tickmode\": \"array\",\n",
       "        \"linecolor\": \"rgba(0, 0, 0, 1.000)\",\n",
       "        \"showgrid\": true,\n",
       "        \"title\": \"residuals\",\n",
       "        \"gridcolor\": \"rgba(0, 0, 0, 0.100)\",\n",
       "        \"titlefont\": {\n",
       "            \"color\": \"rgba(0, 0, 0, 1.000)\",\n",
       "            \"family\": \"sans-serif\",\n",
       "            \"size\": 15\n",
       "        },\n",
       "        \"tickcolor\": \"rgb(0, 0, 0)\",\n",
       "        \"type\": \"-\"\n",
       "    },\n",
       "    \"paper_bgcolor\": \"rgba(255, 255, 255, 1.000)\",\n",
       "    \"annotations\": [\n",
       "        {\n",
       "            \"yanchor\": \"top\",\n",
       "            \"xanchor\": \"center\",\n",
       "            \"rotation\": -0.0,\n",
       "            \"y\": 1.0,\n",
       "            \"font\": {\n",
       "                \"color\": \"rgba(0, 0, 0, 1.000)\",\n",
       "                \"family\": \"sans-serif\",\n",
       "                \"size\": 20\n",
       "            },\n",
       "            \"yref\": \"paper\",\n",
       "            \"showarrow\": false,\n",
       "            \"text\": \"Residual Graph\",\n",
       "            \"xref\": \"paper\",\n",
       "            \"x\": 0.5275462962962963\n",
       "        }\n",
       "    ],\n",
       "    \"height\": 400,\n",
       "    \"margin\": {\n",
       "        \"l\": 0,\n",
       "        \"b\": 20,\n",
       "        \"r\": 0,\n",
       "        \"t\": 20\n",
       "    },\n",
       "    \"plot_bgcolor\": \"rgba(255, 255, 255, 1.000)\",\n",
       "    \"yaxis\": {\n",
       "        \"showticklabels\": true,\n",
       "        \"gridwidth\": 0.5,\n",
       "        \"tickvals\": [\n",
       "            0.0,\n",
       "            5.0,\n",
       "            10.0,\n",
       "            15.0,\n",
       "            20.0\n",
       "        ],\n",
       "        \"range\": [\n",
       "            -0.6599999999999999,\n",
       "            22.66\n",
       "        ],\n",
       "        \"domain\": [\n",
       "            0.07581474190726165,\n",
       "            0.9415463692038496\n",
       "        ],\n",
       "        \"mirror\": false,\n",
       "        \"tickangle\": 0,\n",
       "        \"showline\": true,\n",
       "        \"ticktext\": [\n",
       "            \"0\",\n",
       "            \"5\",\n",
       "            \"10\",\n",
       "            \"15\",\n",
       "            \"20\"\n",
       "        ],\n",
       "        \"zeroline\": false,\n",
       "        \"tickfont\": {\n",
       "            \"color\": \"rgba(0, 0, 0, 1.000)\",\n",
       "            \"family\": \"sans-serif\",\n",
       "            \"size\": 11\n",
       "        },\n",
       "        \"zerolinecolor\": \"rgba(0, 0, 0, 1.000)\",\n",
       "        \"anchor\": \"x\",\n",
       "        \"visible\": true,\n",
       "        \"ticks\": \"inside\",\n",
       "        \"tickmode\": \"array\",\n",
       "        \"linecolor\": \"rgba(0, 0, 0, 1.000)\",\n",
       "        \"showgrid\": true,\n",
       "        \"title\": \"Frequency\",\n",
       "        \"gridcolor\": \"rgba(0, 0, 0, 0.100)\",\n",
       "        \"titlefont\": {\n",
       "            \"color\": \"rgba(0, 0, 0, 1.000)\",\n",
       "            \"family\": \"sans-serif\",\n",
       "            \"size\": 15\n",
       "        },\n",
       "        \"tickcolor\": \"rgb(0, 0, 0)\",\n",
       "        \"type\": \"-\"\n",
       "    },\n",
       "    \"legend\": {\n",
       "        \"yanchor\": \"auto\",\n",
       "        \"xanchor\": \"auto\",\n",
       "        \"bordercolor\": \"rgba(0, 0, 0, 1.000)\",\n",
       "        \"bgcolor\": \"rgba(255, 255, 255, 1.000)\",\n",
       "        \"borderwidth\": 1,\n",
       "        \"tracegroupgap\": 0,\n",
       "        \"y\": 1.0,\n",
       "        \"font\": {\n",
       "            \"color\": \"rgba(0, 0, 0, 1.000)\",\n",
       "            \"family\": \"sans-serif\",\n",
       "            \"size\": 11\n",
       "        },\n",
       "        \"title\": {\n",
       "            \"font\": {\n",
       "                \"color\": \"rgba(0, 0, 0, 1.000)\",\n",
       "                \"family\": \"sans-serif\",\n",
       "                \"size\": 15\n",
       "            },\n",
       "            \"text\": \"\"\n",
       "        },\n",
       "        \"traceorder\": \"normal\",\n",
       "        \"x\": 1.0\n",
       "    },\n",
       "    \"width\": 600\n",
       "}\n",
       ");\n",
       "\n",
       "    });\n",
       "    </script>\n",
       "\n",
       "    </body>\n",
       "</html>\n"
      ]
     },
     "execution_count": 162,
     "metadata": {},
     "output_type": "execute_result"
    }
   ],
   "source": [
    "# Using the data obtained above to plot a histogram\n",
    "histogram(array, title = \"Residual Graph\", ylabel = \"Frequency\", xlabel = \"residuals\")"
   ]
  },
  {
   "cell_type": "code",
   "execution_count": 163,
   "metadata": {},
   "outputs": [
    {
     "name": "stdout",
     "output_type": "stream",
     "text": [
      "From the graph we can see that the errors are not exactly normally distributed\n",
      "However, as the sample size is bigger than 30, CLT can apply\n"
     ]
    }
   ],
   "source": [
    "# Comment on the findings\n",
    "println(\"From the graph we can see that the errors are not exactly normally distributed\")\n",
    "println(\"However, as the sample size is bigger than 30, CLT can apply\")"
   ]
  },
  {
   "cell_type": "code",
   "execution_count": 164,
   "metadata": {},
   "outputs": [],
   "source": [
    "using Plots"
   ]
  },
  {
   "cell_type": "code",
   "execution_count": 165,
   "metadata": {},
   "outputs": [
    {
     "data": {
      "application/vnd.plotly.v1+json": {
       "data": [
        {
         "colorbar": {
          "title": ""
         },
         "legendgroup": "y1",
         "marker": {
          "color": "rgba(0, 154, 250, 1.000)",
          "line": {
           "color": "rgba(0, 0, 0, 1.000)",
           "width": 1
          },
          "size": 8,
          "symbol": "square"
         },
         "mode": "markers",
         "name": "y1",
         "showlegend": true,
         "type": "scatter",
         "x": [
          55,
          55,
          63,
          55,
          58,
          65,
          62,
          58,
          57,
          56,
          69,
          59,
          61,
          64,
          71,
          64,
          60,
          72,
          65,
          58,
          55,
          55,
          72,
          63,
          75,
          65,
          58,
          69,
          74,
          71,
          68,
          63,
          56,
          67,
          64,
          62,
          54,
          56,
          74,
          57,
          57,
          63,
          64,
          59,
          72,
          56,
          57,
          64,
          63,
          56,
          66,
          62,
          49,
          65,
          64,
          72,
          50,
          56,
          62,
          75,
          51,
          52,
          70,
          53,
          65,
          61,
          65,
          65,
          53,
          65,
          58,
          70,
          62,
          60,
          63,
          53,
          60,
          77,
          66,
          51,
          53,
          66,
          68,
          63,
          60,
          62,
          62,
          68,
          72,
          70,
          67,
          63,
          64,
          59,
          68,
          58,
          56,
          78,
          74,
          69
         ],
         "xaxis": "x",
         "y": [
          -2.523214519677005,
          -9.523214519677005,
          -4.493397325830763,
          -3.523214519677005,
          3.9879669280153465,
          -6.485943027369196,
          4.002875524938467,
          1.9879669280153465,
          5.484239778784563,
          -1.019487370446221,
          4.528965569553925,
          8.491694077246116,
          6.4991483757076836,
          1.0103298234000206,
          16.53641986801548,
          4.010329823400021,
          0.9954212264768998,
          16.040147017246262,
          6.514056972630804,
          2.9879669280153465,
          -6.523214519677005,
          -1.5232145196770048,
          16.040147017246262,
          2.506602674169237,
          8.551328464938592,
          5.514056972630804,
          26.987966928015346,
          0.5289655695539253,
          2.0476013157078157,
          20.53641986801548,
          13.025238420323141,
          -5.493397325830763,
          10.980512629553779,
          6.521511271092358,
          -13.98967017659998,
          -0.9971244750615327,
          -2.0269416689077744,
          -12.019487370446221,
          10.047601315707816,
          4.484239778784563,
          0.4842397787845627,
          7.506602674169237,
          16.01032982340002,
          -6.508305922753884,
          0.04014701724626235,
          -0.019487370446221064,
          15.484239778784563,
          -7.989670176599979,
          -14.493397325830763,
          -10.019487370446221,
          -4.982215878138426,
          2.0028755249384673,
          8.454422584938321,
          8.514056972630804,
          -4.989670176599979,
          -9.959852982753738,
          8.958149734169105,
          -1.019487370446221,
          -2.9971244750615327,
          -13.448671535061408,
          4.461876883399874,
          6.965604032630658,
          -6.967307281215305,
          1.4693311818614418,
          0.5140569726308044,
          -10.500851624292316,
          0.5140569726308044,
          5.514056972630804,
          -6.530668818138558,
          -16.485943027369196,
          -6.0120330719846535,
          -13.967307281215305,
          -5.997124475061533,
          -12.0045787735231,
          6.506602674169237,
          8.469331181861442,
          6.9954212264769,
          2.55878276340016,
          8.017784121861574,
          7.461876883399874,
          -5.530668818138558,
          -17.982215878138426,
          -6.9747615796768585,
          -8.493397325830763,
          0.9954212264768998,
          -4.997124475061533,
          -8.997124475061533,
          -7.9747615796768585,
          6.040147017246262,
          10.032692718784695,
          -4.478488728907642,
          -18.493397325830763,
          -15.98967017659998,
          -2.508305922753884,
          -15.974761579676859,
          -12.012033071984654,
          8.980512629553779,
          0.06250991263092942,
          -3.9523986842921843,
          -4.471034430446075
         ],
         "yaxis": "y",
         "zmax": null,
         "zmin": null
        }
       ],
       "layout": {
        "annotations": [
         {
          "font": {
           "color": "rgba(0, 0, 0, 1.000)",
           "family": "sans-serif",
           "size": 20
          },
          "rotation": 0,
          "showarrow": false,
          "text": "Residual Plot",
          "x": 0.5349537037037038,
          "xanchor": "center",
          "xref": "paper",
          "y": 1,
          "yanchor": "top",
          "yref": "paper"
         }
        ],
        "height": 400,
        "legend": {
         "bgcolor": "rgba(255, 255, 255, 1.000)",
         "bordercolor": "rgba(0, 0, 0, 1.000)",
         "borderwidth": 1,
         "font": {
          "color": "rgba(0, 0, 0, 1.000)",
          "family": "sans-serif",
          "size": 11
         },
         "title": {
          "font": {
           "color": "rgba(0, 0, 0, 1.000)",
           "family": "sans-serif",
           "size": 15
          },
          "text": ""
         },
         "tracegroupgap": 0,
         "traceorder": "normal",
         "x": 1,
         "xanchor": "auto",
         "y": 1,
         "yanchor": "auto"
        },
        "margin": {
         "b": 20,
         "l": 0,
         "r": 0,
         "t": 20
        },
        "paper_bgcolor": "rgba(255, 255, 255, 1.000)",
        "plot_bgcolor": "rgba(255, 255, 255, 1.000)",
        "showlegend": true,
        "width": 600,
        "xaxis": {
         "anchor": "y",
         "domain": [
          0.07646908719743364,
          0.9934383202099737
         ],
         "gridcolor": "rgba(0, 0, 0, 0.100)",
         "gridwidth": 0.5,
         "linecolor": "rgba(0, 0, 0, 1.000)",
         "mirror": false,
         "range": [
          48.13,
          78.87
         ],
         "showgrid": true,
         "showline": true,
         "showticklabels": true,
         "tickangle": 0,
         "tickcolor": "rgb(0, 0, 0)",
         "tickfont": {
          "color": "rgba(0, 0, 0, 1.000)",
          "family": "sans-serif",
          "size": 11
         },
         "tickmode": "array",
         "ticks": "inside",
         "ticktext": [
          "50",
          "55",
          "60",
          "65",
          "70",
          "75"
         ],
         "tickvals": [
          50,
          55,
          60,
          65,
          70,
          75
         ],
         "title": "Ratings",
         "titlefont": {
          "color": "rgba(0, 0, 0, 1.000)",
          "family": "sans-serif",
          "size": 15
         },
         "type": "-",
         "visible": true,
         "zeroline": false,
         "zerolinecolor": "rgba(0, 0, 0, 1.000)"
        },
        "yaxis": {
         "anchor": "x",
         "domain": [
          0.07581474190726165,
          0.9415463692038496
         ],
         "gridcolor": "rgba(0, 0, 0, 0.100)",
         "gridwidth": 0.5,
         "linecolor": "rgba(0, 0, 0, 1.000)",
         "mirror": false,
         "range": [
          -19.857838253446147,
          28.35240785563073
         ],
         "showgrid": true,
         "showline": true,
         "showticklabels": true,
         "tickangle": 0,
         "tickcolor": "rgb(0, 0, 0)",
         "tickfont": {
          "color": "rgba(0, 0, 0, 1.000)",
          "family": "sans-serif",
          "size": 11
         },
         "tickmode": "array",
         "ticks": "inside",
         "ticktext": [
          "-10",
          "0",
          "10",
          "20"
         ],
         "tickvals": [
          -10,
          0,
          10,
          20
         ],
         "title": "Residuals",
         "titlefont": {
          "color": "rgba(0, 0, 0, 1.000)",
          "family": "sans-serif",
          "size": 15
         },
         "type": "-",
         "visible": true,
         "zeroline": false,
         "zerolinecolor": "rgba(0, 0, 0, 1.000)"
        }
       }
      },
      "text/html": [
       "<!DOCTYPE html>\n",
       "<html>\n",
       "    <head>\n",
       "        <title>Plots.jl</title>\n",
       "        <meta http-equiv=\"content-type\" content=\"text/html; charset=UTF-8\">\n",
       "        \n",
       "    </head>\n",
       "    <body>\n",
       "            <div id=\"5326ab39-59be-4df1-81ac-d9f2914adb6c\" style=\"width:600px;height:400px;\"></div>\n",
       "    <script>\n",
       "        requirejs.config({\n",
       "        paths: {\n",
       "            Plotly: 'https://cdn.plot.ly/plotly-1.57.1.min'\n",
       "        }\n",
       "    });\n",
       "    require(['Plotly'], function (Plotly) {\n",
       "\n",
       "        var PLOT = document.getElementById('5326ab39-59be-4df1-81ac-d9f2914adb6c');\n",
       "    Plotly.plot(PLOT, [\n",
       "    {\n",
       "        \"xaxis\": \"x\",\n",
       "        \"colorbar\": {\n",
       "            \"title\": \"\"\n",
       "        },\n",
       "        \"yaxis\": \"y\",\n",
       "        \"x\": [\n",
       "            55.0,\n",
       "            55.0,\n",
       "            63.0,\n",
       "            55.0,\n",
       "            58.0,\n",
       "            65.0,\n",
       "            62.0,\n",
       "            58.0,\n",
       "            57.0,\n",
       "            56.0,\n",
       "            69.0,\n",
       "            59.0,\n",
       "            61.0,\n",
       "            64.0,\n",
       "            71.0,\n",
       "            64.0,\n",
       "            60.0,\n",
       "            72.0,\n",
       "            65.0,\n",
       "            58.0,\n",
       "            55.0,\n",
       "            55.0,\n",
       "            72.0,\n",
       "            63.0,\n",
       "            75.0,\n",
       "            65.0,\n",
       "            58.0,\n",
       "            69.0,\n",
       "            74.0,\n",
       "            71.0,\n",
       "            68.0,\n",
       "            63.0,\n",
       "            56.0,\n",
       "            67.0,\n",
       "            64.0,\n",
       "            62.0,\n",
       "            54.0,\n",
       "            56.0,\n",
       "            74.0,\n",
       "            57.0,\n",
       "            57.0,\n",
       "            63.0,\n",
       "            64.0,\n",
       "            59.0,\n",
       "            72.0,\n",
       "            56.0,\n",
       "            57.0,\n",
       "            64.0,\n",
       "            63.0,\n",
       "            56.0,\n",
       "            66.0,\n",
       "            62.0,\n",
       "            49.0,\n",
       "            65.0,\n",
       "            64.0,\n",
       "            72.0,\n",
       "            50.0,\n",
       "            56.0,\n",
       "            62.0,\n",
       "            75.0,\n",
       "            51.0,\n",
       "            52.0,\n",
       "            70.0,\n",
       "            53.0,\n",
       "            65.0,\n",
       "            61.0,\n",
       "            65.0,\n",
       "            65.0,\n",
       "            53.0,\n",
       "            65.0,\n",
       "            58.0,\n",
       "            70.0,\n",
       "            62.0,\n",
       "            60.0,\n",
       "            63.0,\n",
       "            53.0,\n",
       "            60.0,\n",
       "            77.0,\n",
       "            66.0,\n",
       "            51.0,\n",
       "            53.0,\n",
       "            66.0,\n",
       "            68.0,\n",
       "            63.0,\n",
       "            60.0,\n",
       "            62.0,\n",
       "            62.0,\n",
       "            68.0,\n",
       "            72.0,\n",
       "            70.0,\n",
       "            67.0,\n",
       "            63.0,\n",
       "            64.0,\n",
       "            59.0,\n",
       "            68.0,\n",
       "            58.0,\n",
       "            56.0,\n",
       "            78.0,\n",
       "            74.0,\n",
       "            69.0\n",
       "        ],\n",
       "        \"showlegend\": true,\n",
       "        \"mode\": \"markers\",\n",
       "        \"name\": \"y1\",\n",
       "        \"zmin\": null,\n",
       "        \"legendgroup\": \"y1\",\n",
       "        \"marker\": {\n",
       "            \"symbol\": \"square\",\n",
       "            \"color\": \"rgba(0, 154, 250, 1.000)\",\n",
       "            \"line\": {\n",
       "                \"color\": \"rgba(0, 0, 0, 1.000)\",\n",
       "                \"width\": 1\n",
       "            },\n",
       "            \"size\": 8\n",
       "        },\n",
       "        \"zmax\": null,\n",
       "        \"y\": [\n",
       "            -2.523214519677005,\n",
       "            -9.523214519677005,\n",
       "            -4.493397325830763,\n",
       "            -3.523214519677005,\n",
       "            3.9879669280153465,\n",
       "            -6.485943027369196,\n",
       "            4.002875524938467,\n",
       "            1.9879669280153465,\n",
       "            5.484239778784563,\n",
       "            -1.019487370446221,\n",
       "            4.528965569553925,\n",
       "            8.491694077246116,\n",
       "            6.4991483757076836,\n",
       "            1.0103298234000206,\n",
       "            16.53641986801548,\n",
       "            4.010329823400021,\n",
       "            0.9954212264768998,\n",
       "            16.040147017246262,\n",
       "            6.514056972630804,\n",
       "            2.9879669280153465,\n",
       "            -6.523214519677005,\n",
       "            -1.5232145196770048,\n",
       "            16.040147017246262,\n",
       "            2.506602674169237,\n",
       "            8.551328464938592,\n",
       "            5.514056972630804,\n",
       "            26.987966928015346,\n",
       "            0.5289655695539253,\n",
       "            2.0476013157078157,\n",
       "            20.53641986801548,\n",
       "            13.025238420323141,\n",
       "            -5.493397325830763,\n",
       "            10.980512629553779,\n",
       "            6.521511271092358,\n",
       "            -13.98967017659998,\n",
       "            -0.9971244750615327,\n",
       "            -2.0269416689077744,\n",
       "            -12.019487370446221,\n",
       "            10.047601315707816,\n",
       "            4.484239778784563,\n",
       "            0.4842397787845627,\n",
       "            7.506602674169237,\n",
       "            16.01032982340002,\n",
       "            -6.508305922753884,\n",
       "            0.04014701724626235,\n",
       "            -0.019487370446221064,\n",
       "            15.484239778784563,\n",
       "            -7.989670176599979,\n",
       "            -14.493397325830763,\n",
       "            -10.019487370446221,\n",
       "            -4.982215878138426,\n",
       "            2.0028755249384673,\n",
       "            8.454422584938321,\n",
       "            8.514056972630804,\n",
       "            -4.989670176599979,\n",
       "            -9.959852982753738,\n",
       "            8.958149734169105,\n",
       "            -1.019487370446221,\n",
       "            -2.9971244750615327,\n",
       "            -13.448671535061408,\n",
       "            4.461876883399874,\n",
       "            6.965604032630658,\n",
       "            -6.967307281215305,\n",
       "            1.4693311818614418,\n",
       "            0.5140569726308044,\n",
       "            -10.500851624292316,\n",
       "            0.5140569726308044,\n",
       "            5.514056972630804,\n",
       "            -6.530668818138558,\n",
       "            -16.485943027369196,\n",
       "            -6.0120330719846535,\n",
       "            -13.967307281215305,\n",
       "            -5.997124475061533,\n",
       "            -12.0045787735231,\n",
       "            6.506602674169237,\n",
       "            8.469331181861442,\n",
       "            6.9954212264769,\n",
       "            2.55878276340016,\n",
       "            8.017784121861574,\n",
       "            7.461876883399874,\n",
       "            -5.530668818138558,\n",
       "            -17.982215878138426,\n",
       "            -6.9747615796768585,\n",
       "            -8.493397325830763,\n",
       "            0.9954212264768998,\n",
       "            -4.997124475061533,\n",
       "            -8.997124475061533,\n",
       "            -7.9747615796768585,\n",
       "            6.040147017246262,\n",
       "            10.032692718784695,\n",
       "            -4.478488728907642,\n",
       "            -18.493397325830763,\n",
       "            -15.98967017659998,\n",
       "            -2.508305922753884,\n",
       "            -15.974761579676859,\n",
       "            -12.012033071984654,\n",
       "            8.980512629553779,\n",
       "            0.06250991263092942,\n",
       "            -3.9523986842921843,\n",
       "            -4.471034430446075\n",
       "        ],\n",
       "        \"type\": \"scatter\"\n",
       "    }\n",
       "]\n",
       ", {\n",
       "    \"showlegend\": true,\n",
       "    \"xaxis\": {\n",
       "        \"showticklabels\": true,\n",
       "        \"gridwidth\": 0.5,\n",
       "        \"tickvals\": [\n",
       "            50.0,\n",
       "            55.0,\n",
       "            60.0,\n",
       "            65.0,\n",
       "            70.0,\n",
       "            75.0\n",
       "        ],\n",
       "        \"range\": [\n",
       "            48.13,\n",
       "            78.87\n",
       "        ],\n",
       "        \"domain\": [\n",
       "            0.07646908719743364,\n",
       "            0.9934383202099737\n",
       "        ],\n",
       "        \"mirror\": false,\n",
       "        \"tickangle\": 0,\n",
       "        \"showline\": true,\n",
       "        \"ticktext\": [\n",
       "            \"50\",\n",
       "            \"55\",\n",
       "            \"60\",\n",
       "            \"65\",\n",
       "            \"70\",\n",
       "            \"75\"\n",
       "        ],\n",
       "        \"zeroline\": false,\n",
       "        \"tickfont\": {\n",
       "            \"color\": \"rgba(0, 0, 0, 1.000)\",\n",
       "            \"family\": \"sans-serif\",\n",
       "            \"size\": 11\n",
       "        },\n",
       "        \"zerolinecolor\": \"rgba(0, 0, 0, 1.000)\",\n",
       "        \"anchor\": \"y\",\n",
       "        \"visible\": true,\n",
       "        \"ticks\": \"inside\",\n",
       "        \"tickmode\": \"array\",\n",
       "        \"linecolor\": \"rgba(0, 0, 0, 1.000)\",\n",
       "        \"showgrid\": true,\n",
       "        \"title\": \"Ratings\",\n",
       "        \"gridcolor\": \"rgba(0, 0, 0, 0.100)\",\n",
       "        \"titlefont\": {\n",
       "            \"color\": \"rgba(0, 0, 0, 1.000)\",\n",
       "            \"family\": \"sans-serif\",\n",
       "            \"size\": 15\n",
       "        },\n",
       "        \"tickcolor\": \"rgb(0, 0, 0)\",\n",
       "        \"type\": \"-\"\n",
       "    },\n",
       "    \"paper_bgcolor\": \"rgba(255, 255, 255, 1.000)\",\n",
       "    \"annotations\": [\n",
       "        {\n",
       "            \"yanchor\": \"top\",\n",
       "            \"xanchor\": \"center\",\n",
       "            \"rotation\": -0.0,\n",
       "            \"y\": 1.0,\n",
       "            \"font\": {\n",
       "                \"color\": \"rgba(0, 0, 0, 1.000)\",\n",
       "                \"family\": \"sans-serif\",\n",
       "                \"size\": 20\n",
       "            },\n",
       "            \"yref\": \"paper\",\n",
       "            \"showarrow\": false,\n",
       "            \"text\": \"Residual Plot\",\n",
       "            \"xref\": \"paper\",\n",
       "            \"x\": 0.5349537037037038\n",
       "        }\n",
       "    ],\n",
       "    \"height\": 400,\n",
       "    \"margin\": {\n",
       "        \"l\": 0,\n",
       "        \"b\": 20,\n",
       "        \"r\": 0,\n",
       "        \"t\": 20\n",
       "    },\n",
       "    \"plot_bgcolor\": \"rgba(255, 255, 255, 1.000)\",\n",
       "    \"yaxis\": {\n",
       "        \"showticklabels\": true,\n",
       "        \"gridwidth\": 0.5,\n",
       "        \"tickvals\": [\n",
       "            -10.0,\n",
       "            0.0,\n",
       "            10.0,\n",
       "            20.0\n",
       "        ],\n",
       "        \"range\": [\n",
       "            -19.857838253446147,\n",
       "            28.35240785563073\n",
       "        ],\n",
       "        \"domain\": [\n",
       "            0.07581474190726165,\n",
       "            0.9415463692038496\n",
       "        ],\n",
       "        \"mirror\": false,\n",
       "        \"tickangle\": 0,\n",
       "        \"showline\": true,\n",
       "        \"ticktext\": [\n",
       "            \"-10\",\n",
       "            \"0\",\n",
       "            \"10\",\n",
       "            \"20\"\n",
       "        ],\n",
       "        \"zeroline\": false,\n",
       "        \"tickfont\": {\n",
       "            \"color\": \"rgba(0, 0, 0, 1.000)\",\n",
       "            \"family\": \"sans-serif\",\n",
       "            \"size\": 11\n",
       "        },\n",
       "        \"zerolinecolor\": \"rgba(0, 0, 0, 1.000)\",\n",
       "        \"anchor\": \"x\",\n",
       "        \"visible\": true,\n",
       "        \"ticks\": \"inside\",\n",
       "        \"tickmode\": \"array\",\n",
       "        \"linecolor\": \"rgba(0, 0, 0, 1.000)\",\n",
       "        \"showgrid\": true,\n",
       "        \"title\": \"Residuals\",\n",
       "        \"gridcolor\": \"rgba(0, 0, 0, 0.100)\",\n",
       "        \"titlefont\": {\n",
       "            \"color\": \"rgba(0, 0, 0, 1.000)\",\n",
       "            \"family\": \"sans-serif\",\n",
       "            \"size\": 15\n",
       "        },\n",
       "        \"tickcolor\": \"rgb(0, 0, 0)\",\n",
       "        \"type\": \"-\"\n",
       "    },\n",
       "    \"legend\": {\n",
       "        \"yanchor\": \"auto\",\n",
       "        \"xanchor\": \"auto\",\n",
       "        \"bordercolor\": \"rgba(0, 0, 0, 1.000)\",\n",
       "        \"bgcolor\": \"rgba(255, 255, 255, 1.000)\",\n",
       "        \"borderwidth\": 1,\n",
       "        \"tracegroupgap\": 0,\n",
       "        \"y\": 1.0,\n",
       "        \"font\": {\n",
       "            \"color\": \"rgba(0, 0, 0, 1.000)\",\n",
       "            \"family\": \"sans-serif\",\n",
       "            \"size\": 11\n",
       "        },\n",
       "        \"title\": {\n",
       "            \"font\": {\n",
       "                \"color\": \"rgba(0, 0, 0, 1.000)\",\n",
       "                \"family\": \"sans-serif\",\n",
       "                \"size\": 15\n",
       "            },\n",
       "            \"text\": \"\"\n",
       "        },\n",
       "        \"traceorder\": \"normal\",\n",
       "        \"x\": 1.0\n",
       "    },\n",
       "    \"width\": 600\n",
       "}\n",
       ");\n",
       "\n",
       "    });\n",
       "    </script>\n",
       "\n",
       "    </body>\n",
       "</html>\n"
      ]
     },
     "execution_count": 165,
     "metadata": {},
     "output_type": "execute_result"
    }
   ],
   "source": [
    "# Plot scatter plot with residuals on the y axis, ratings on the x axis\n",
    "scatter(ratings,array, shape = :rect)\n",
    "xlabel!(\"Ratings\")\n",
    "ylabel!(\"Residuals\")\n",
    "title!(\"Residual Plot\")"
   ]
  },
  {
   "cell_type": "code",
   "execution_count": 166,
   "metadata": {},
   "outputs": [
    {
     "name": "stdout",
     "output_type": "stream",
     "text": [
      "From this residual plot we can see that there is no clear pattern presented, therefore the errors are likely to be independent\n",
      "The linearity, independence of error and homoscedasticity are not violated\n"
     ]
    }
   ],
   "source": [
    "# Comment on the findings of the graphs\n",
    "println(\"From this residual plot we can see that there is no clear pattern presented, therefore the errors are likely to be independent\")\n",
    "println(\"The linearity, independence of error and homoscedasticity are not violated\")"
   ]
  },
  {
   "cell_type": "code",
   "execution_count": 167,
   "metadata": {},
   "outputs": [
    {
     "name": "stdout",
     "output_type": "stream",
     "text": [
      "As shown in the residual plot and the residual graph, the assumptions of regression is not violated\n",
      "Therefore, our previous conslusions are valid\n"
     ]
    }
   ],
   "source": [
    "println(\"As shown in the residual plot and the residual graph, the assumptions of regression is not violated\")\n",
    "println(\"Therefore, our previous conslusions are valid\")"
   ]
  },
  {
   "cell_type": "markdown",
   "metadata": {},
   "source": [
    "# Section II: Risk Management\n",
    "## Comparing financial risks and return\n",
    "**Problem:** You plan to invest $1,000  in a corporate bond fund or in a common stock fund. The CSV file named \"Stocks.csv\" presents the annual return (per 1,000 dollar) of each investments under various economic conditions and the probability that each of those economic conditions will occur."
   ]
  },
  {
   "cell_type": "code",
   "execution_count": 64,
   "metadata": {},
   "outputs": [],
   "source": [
    "using CSV"
   ]
  },
  {
   "cell_type": "code",
   "execution_count": 65,
   "metadata": {},
   "outputs": [],
   "source": [
    "using DataFrames"
   ]
  },
  {
   "cell_type": "code",
   "execution_count": 66,
   "metadata": {},
   "outputs": [
    {
     "data": {
      "text/html": [
       "<table class=\"data-frame\"><thead><tr><th></th><th>Probability P(X=x, Y=y)</th><th>Economic Condition</th><th>Corporate Bond Fund (x)</th><th>Common Stock Fund (y)</th></tr><tr><th></th><th>Float64</th><th>String</th><th>Int64</th><th>Int64</th></tr></thead><tbody><p>6 rows × 7 columns (omitted printing of 3 columns)</p><tr><th>1</th><td>0.01</td><td>Extreme Recession</td><td>-200</td><td>-999</td></tr><tr><th>2</th><td>0.09</td><td>Recession</td><td>-70</td><td>-300</td></tr><tr><th>3</th><td>0.15</td><td>Stagnation</td><td>30</td><td>-100</td></tr><tr><th>4</th><td>0.35</td><td>Slow growth</td><td>80</td><td>100</td></tr><tr><th>5</th><td>0.3</td><td>Moderate growth</td><td>100</td><td>150</td></tr><tr><th>6</th><td>0.1</td><td>High growth</td><td>120</td><td>350</td></tr></tbody></table>"
      ],
      "text/latex": [
       "\\begin{tabular}{r|ccccc}\n",
       "\t& Probability P(X=x, Y=y) & Economic Condition & Corporate Bond Fund (x) & Common Stock Fund (y) & \\\\\n",
       "\t\\hline\n",
       "\t& Float64 & String & Int64 & Int64 & \\\\\n",
       "\t\\hline\n",
       "\t1 & 0.01 & Extreme Recession & -200 & -999 & $\\dots$ \\\\\n",
       "\t2 & 0.09 & Recession & -70 & -300 & $\\dots$ \\\\\n",
       "\t3 & 0.15 & Stagnation & 30 & -100 & $\\dots$ \\\\\n",
       "\t4 & 0.35 & Slow growth & 80 & 100 & $\\dots$ \\\\\n",
       "\t5 & 0.3 & Moderate growth & 100 & 150 & $\\dots$ \\\\\n",
       "\t6 & 0.1 & High growth & 120 & 350 & $\\dots$ \\\\\n",
       "\\end{tabular}\n"
      ],
      "text/plain": [
       "\u001b[1m6×7 DataFrame\u001b[0m\n",
       "\u001b[1m Row \u001b[0m│\u001b[1m Probability P(X=x, Y=y) \u001b[0m\u001b[1m Economic Condition \u001b[0m\u001b[1m Corporate Bond Fund (x) \u001b[0m\u001b[1m C\u001b[0m ⋯\n",
       "\u001b[1m     \u001b[0m│\u001b[90m Float64                 \u001b[0m\u001b[90m String             \u001b[0m\u001b[90m Int64                   \u001b[0m\u001b[90m I\u001b[0m ⋯\n",
       "─────┼──────────────────────────────────────────────────────────────────────────\n",
       "   1 │                    0.01  Extreme Recession                      -200    ⋯\n",
       "   2 │                    0.09  Recession                               -70\n",
       "   3 │                    0.15  Stagnation                               30\n",
       "   4 │                    0.35  Slow growth                              80\n",
       "   5 │                    0.3   Moderate growth                         100    ⋯\n",
       "   6 │                    0.1   High growth                             120\n",
       "\u001b[36m                                                               4 columns omitted\u001b[0m"
      ]
     },
     "execution_count": 66,
     "metadata": {},
     "output_type": "execute_result"
    }
   ],
   "source": [
    "# Import csv file\n",
    "stocks = CSV.read(\"Stocks.csv\", DataFrame)"
   ]
  },
  {
   "cell_type": "code",
   "execution_count": 67,
   "metadata": {},
   "outputs": [
    {
     "name": "stdout",
     "output_type": "stream",
     "text": [
      "0.01\n"
     ]
    }
   ],
   "source": [
    "println(stocks[1,1])"
   ]
  },
  {
   "cell_type": "code",
   "execution_count": 68,
   "metadata": {},
   "outputs": [
    {
     "data": {
      "text/plain": [
       "7-element Vector{String}:\n",
       " \"Probability P(X=x, Y=y)\"\n",
       " \"Economic Condition\"\n",
       " \"Corporate Bond Fund (x)\"\n",
       " \"Common Stock Fund (y)\"\n",
       " \"x^2\"\n",
       " \"y^2\"\n",
       " \"xy\""
      ]
     },
     "execution_count": 68,
     "metadata": {},
     "output_type": "execute_result"
    }
   ],
   "source": [
    "names(stocks)"
   ]
  },
  {
   "cell_type": "code",
   "execution_count": 69,
   "metadata": {},
   "outputs": [
    {
     "data": {
      "text/html": [
       "<table class=\"data-frame\"><thead><tr><th></th><th>Probability</th><th>Economic Condition</th><th>Corporate Bond</th><th>Common Stock</th><th>x^2</th><th>y^2</th><th>xy</th></tr><tr><th></th><th>Float64</th><th>String</th><th>Int64</th><th>Int64</th><th>Int64</th><th>Int64</th><th>Int64</th></tr></thead><tbody><p>6 rows × 7 columns</p><tr><th>1</th><td>0.01</td><td>Extreme Recession</td><td>-200</td><td>-999</td><td>40000</td><td>998001</td><td>199800</td></tr><tr><th>2</th><td>0.09</td><td>Recession</td><td>-70</td><td>-300</td><td>4900</td><td>90000</td><td>21000</td></tr><tr><th>3</th><td>0.15</td><td>Stagnation</td><td>30</td><td>-100</td><td>900</td><td>10000</td><td>-3000</td></tr><tr><th>4</th><td>0.35</td><td>Slow growth</td><td>80</td><td>100</td><td>6400</td><td>10000</td><td>8000</td></tr><tr><th>5</th><td>0.3</td><td>Moderate growth</td><td>100</td><td>150</td><td>10000</td><td>22500</td><td>15000</td></tr><tr><th>6</th><td>0.1</td><td>High growth</td><td>120</td><td>350</td><td>14400</td><td>122500</td><td>42000</td></tr></tbody></table>"
      ],
      "text/latex": [
       "\\begin{tabular}{r|ccccccc}\n",
       "\t& Probability & Economic Condition & Corporate Bond & Common Stock & x\\^2 & y\\^2 & xy\\\\\n",
       "\t\\hline\n",
       "\t& Float64 & String & Int64 & Int64 & Int64 & Int64 & Int64\\\\\n",
       "\t\\hline\n",
       "\t1 & 0.01 & Extreme Recession & -200 & -999 & 40000 & 998001 & 199800 \\\\\n",
       "\t2 & 0.09 & Recession & -70 & -300 & 4900 & 90000 & 21000 \\\\\n",
       "\t3 & 0.15 & Stagnation & 30 & -100 & 900 & 10000 & -3000 \\\\\n",
       "\t4 & 0.35 & Slow growth & 80 & 100 & 6400 & 10000 & 8000 \\\\\n",
       "\t5 & 0.3 & Moderate growth & 100 & 150 & 10000 & 22500 & 15000 \\\\\n",
       "\t6 & 0.1 & High growth & 120 & 350 & 14400 & 122500 & 42000 \\\\\n",
       "\\end{tabular}\n"
      ],
      "text/plain": [
       "\u001b[1m6×7 DataFrame\u001b[0m\n",
       "\u001b[1m Row \u001b[0m│\u001b[1m Probability \u001b[0m\u001b[1m Economic Condition \u001b[0m\u001b[1m Corporate Bond \u001b[0m\u001b[1m Common Stock \u001b[0m\u001b[1m x^2   \u001b[0m\u001b[1m y\u001b[0m ⋯\n",
       "\u001b[1m     \u001b[0m│\u001b[90m Float64     \u001b[0m\u001b[90m String             \u001b[0m\u001b[90m Int64          \u001b[0m\u001b[90m Int64        \u001b[0m\u001b[90m Int64 \u001b[0m\u001b[90m I\u001b[0m ⋯\n",
       "─────┼──────────────────────────────────────────────────────────────────────────\n",
       "   1 │        0.01  Extreme Recession             -200          -999  40000  9 ⋯\n",
       "   2 │        0.09  Recession                      -70          -300   4900\n",
       "   3 │        0.15  Stagnation                      30          -100    900\n",
       "   4 │        0.35  Slow growth                     80           100   6400\n",
       "   5 │        0.3   Moderate growth                100           150  10000    ⋯\n",
       "   6 │        0.1   High growth                    120           350  14400  1\n",
       "\u001b[36m                                                               2 columns omitted\u001b[0m"
      ]
     },
     "execution_count": 69,
     "metadata": {},
     "output_type": "execute_result"
    }
   ],
   "source": [
    "# Rename the columns for the convenience to call the dataset later on\n",
    "rename!(stocks, \"Probability P(X=x, Y=y)\" => \"Probability\")\n",
    "rename!(stocks, \"Corporate Bond Fund (x)\" => \"Corporate Bond\")\n",
    "rename!(stocks, \"Common Stock Fund (y)\" => \"Common Stock\")"
   ]
  },
  {
   "cell_type": "code",
   "execution_count": 70,
   "metadata": {},
   "outputs": [
    {
     "data": {
      "text/plain": [
       "6-element Vector{Int64}:\n",
       " -999\n",
       " -300\n",
       " -100\n",
       "  100\n",
       "  150\n",
       "  350"
      ]
     },
     "execution_count": 70,
     "metadata": {},
     "output_type": "execute_result"
    }
   ],
   "source": [
    "# Allocate the specific column to a variable\n",
    "prob = stocks[!, \"Probability\"]\n",
    "corporate = stocks[!, \"Corporate Bond\"]\n",
    "common = stocks[!, \"Common Stock\"]"
   ]
  },
  {
   "cell_type": "markdown",
   "metadata": {},
   "source": [
    "## Part A: Compute the expected return for the corporate bond fund and for the common stock fund"
   ]
  },
  {
   "cell_type": "code",
   "execution_count": 71,
   "metadata": {},
   "outputs": [
    {
     "data": {
      "text/plain": [
       "sumproduct (generic function with 1 method)"
      ]
     },
     "execution_count": 71,
     "metadata": {},
     "output_type": "execute_result"
    }
   ],
   "source": [
    "# Function to find the sum of the products of two lists\n",
    "function sumproduct(x, y)\n",
    "    total = 0\n",
    "    for i in 1:length(x)\n",
    "        total += x[i] * y[i]\n",
    "    end\n",
    "    return total\n",
    "end"
   ]
  },
  {
   "cell_type": "code",
   "execution_count": 72,
   "metadata": {},
   "outputs": [
    {
     "name": "stdout",
     "output_type": "stream",
     "text": [
      "The expected return for Corporate bond fund is 66.2\n"
     ]
    }
   ],
   "source": [
    "# The expected value is calculated through taking the sum of the product of the probability and the actual return of the investment\n",
    "total = sumproduct(prob, corporate)\n",
    "println(\"The expected return for Corporate bond fund is $total\")"
   ]
  },
  {
   "cell_type": "code",
   "execution_count": 73,
   "metadata": {},
   "outputs": [
    {
     "name": "stdout",
     "output_type": "stream",
     "text": [
      "The expected return for Common stock fund is 63.01\n"
     ]
    }
   ],
   "source": [
    "total_2 = sumproduct(common, prob)\n",
    "println(\"The expected return for Common stock fund is $total_2\")"
   ]
  },
  {
   "cell_type": "markdown",
   "metadata": {},
   "source": [
    "## Part B: Compute the standard deviation for the corporate bond fund and for the common stock fund"
   ]
  },
  {
   "cell_type": "code",
   "execution_count": 74,
   "metadata": {},
   "outputs": [
    {
     "data": {
      "text/plain": [
       "squared_list (generic function with 1 method)"
      ]
     },
     "execution_count": 74,
     "metadata": {},
     "output_type": "execute_result"
    }
   ],
   "source": [
    "# Function to find the square of each element in the list\n",
    "function squared_list(list)\n",
    "    squared = []\n",
    "    for x in list\n",
    "        y = x^2\n",
    "        push!(squared, y)\n",
    "    end\n",
    "    return squared\n",
    "end"
   ]
  },
  {
   "cell_type": "code",
   "execution_count": 75,
   "metadata": {},
   "outputs": [
    {
     "data": {
      "text/plain": [
       "6-element Vector{Any}:\n",
       " 40000\n",
       "  4900\n",
       "   900\n",
       "  6400\n",
       " 10000\n",
       " 14400"
      ]
     },
     "execution_count": 75,
     "metadata": {},
     "output_type": "execute_result"
    }
   ],
   "source": [
    "x_squared = squared_list(corporate)"
   ]
  },
  {
   "cell_type": "code",
   "execution_count": 76,
   "metadata": {},
   "outputs": [
    {
     "data": {
      "text/plain": [
       "7656.0"
      ]
     },
     "execution_count": 76,
     "metadata": {},
     "output_type": "execute_result"
    }
   ],
   "source": [
    "total_3 = sumproduct(x_squared, prob)"
   ]
  },
  {
   "cell_type": "code",
   "execution_count": 77,
   "metadata": {},
   "outputs": [
    {
     "data": {
      "text/plain": [
       "57.22"
      ]
     },
     "execution_count": 77,
     "metadata": {},
     "output_type": "execute_result"
    }
   ],
   "source": [
    "# Standard deviation can be find through the square root of the E(x^2) - E(x)^2\n",
    "stdev_1 = sqrt(total_3 - total^2)\n",
    "stdev_1 = round(stdev_1, digits = 2)"
   ]
  },
  {
   "cell_type": "code",
   "execution_count": 78,
   "metadata": {},
   "outputs": [
    {
     "name": "stdout",
     "output_type": "stream",
     "text": [
      "The standard deviation for the corporate bond fund is 57.22\n"
     ]
    }
   ],
   "source": [
    "println(\"The standard deviation for the corporate bond fund is $stdev_1\")"
   ]
  },
  {
   "cell_type": "code",
   "execution_count": 79,
   "metadata": {},
   "outputs": [
    {
     "data": {
      "text/plain": [
       "6-element Vector{Any}:\n",
       " 998001\n",
       "  90000\n",
       "  10000\n",
       "  10000\n",
       "  22500\n",
       " 122500"
      ]
     },
     "execution_count": 79,
     "metadata": {},
     "output_type": "execute_result"
    }
   ],
   "source": [
    "# To calculate the standard deviation we need to find the squared term of each element and its sumproduct with the probabilirt\n",
    "# As well as the squared expected return\n",
    "y_squared = squared_list(common)"
   ]
  },
  {
   "cell_type": "code",
   "execution_count": 80,
   "metadata": {},
   "outputs": [
    {
     "data": {
      "text/plain": [
       "42080.01"
      ]
     },
     "execution_count": 80,
     "metadata": {},
     "output_type": "execute_result"
    }
   ],
   "source": [
    "total_4 = sumproduct(y_squared, prob)"
   ]
  },
  {
   "cell_type": "code",
   "execution_count": 81,
   "metadata": {},
   "outputs": [
    {
     "data": {
      "text/plain": [
       "195.22"
      ]
     },
     "execution_count": 81,
     "metadata": {},
     "output_type": "execute_result"
    }
   ],
   "source": [
    "stdev_2 = sqrt(total_4 - total_2^2)\n",
    "stdev_2 = round(stdev_2, digits = 2)"
   ]
  },
  {
   "cell_type": "code",
   "execution_count": 82,
   "metadata": {},
   "outputs": [
    {
     "name": "stdout",
     "output_type": "stream",
     "text": [
      "The standard deviation for the common stock fund is 195.22\n"
     ]
    }
   ],
   "source": [
    "println(\"The standard deviation for the common stock fund is $stdev_2\")"
   ]
  },
  {
   "cell_type": "markdown",
   "metadata": {},
   "source": [
    "## Part C: Find the covariance of the corporate bond and the common stock fund"
   ]
  },
  {
   "cell_type": "code",
   "execution_count": 83,
   "metadata": {},
   "outputs": [
    {
     "name": "stdout",
     "output_type": "stream",
     "text": [
      "Any[199800, 21000, -3000, 8000, 15000, 42000]\n"
     ]
    }
   ],
   "source": [
    "# Loop through to have a list that contain all of the product of corporate fund and corresponding common stock's return of investment\n",
    "new_list = []\n",
    "for i in 1:length(corporate)\n",
    "    value = corporate[i] * common[i]\n",
    "    push!(new_list, value)\n",
    "end\n",
    "println(new_list)"
   ]
  },
  {
   "cell_type": "code",
   "execution_count": 84,
   "metadata": {},
   "outputs": [
    {
     "data": {
      "text/plain": [
       "14938.0"
      ]
     },
     "execution_count": 84,
     "metadata": {},
     "output_type": "execute_result"
    }
   ],
   "source": [
    "# Covariance is found through E(XY) - E(x)*E(y)\n",
    "expected_xy = sumproduct(prob, new_list)"
   ]
  },
  {
   "cell_type": "code",
   "execution_count": 85,
   "metadata": {},
   "outputs": [
    {
     "data": {
      "text/plain": [
       "4171.262"
      ]
     },
     "execution_count": 85,
     "metadata": {},
     "output_type": "execute_result"
    }
   ],
   "source": [
    "ex_ey = total * total_2"
   ]
  },
  {
   "cell_type": "code",
   "execution_count": 86,
   "metadata": {},
   "outputs": [
    {
     "name": "stdout",
     "output_type": "stream",
     "text": [
      "The covariance is 10766.74\n"
     ]
    }
   ],
   "source": [
    "covariance = expected_xy - ex_ey\n",
    "covariance = round(covariance, digits = 2)\n",
    "println(\"The covariance is $covariance\")"
   ]
  },
  {
   "cell_type": "markdown",
   "metadata": {},
   "source": [
    "## Part D: Would you invest in the corporate bond or the common stock fund? Explain."
   ]
  },
  {
   "cell_type": "code",
   "execution_count": 87,
   "metadata": {},
   "outputs": [
    {
     "data": {
      "text/plain": [
       "66.2"
      ]
     },
     "execution_count": 87,
     "metadata": {},
     "output_type": "execute_result"
    }
   ],
   "source": [
    "# Find out which bond has better return on invesment\n",
    "if total > total_2\n",
    "    fund = \"Corporate bond\"\n",
    "    ave_return = total\n",
    "else\n",
    "    fund = \"Common stock\"\n",
    "    ave_return = total_2\n",
    "end"
   ]
  },
  {
   "cell_type": "code",
   "execution_count": 88,
   "metadata": {},
   "outputs": [
    {
     "name": "stdout",
     "output_type": "stream",
     "text": [
      "Corporate bond is a better choice, as the average return is 66.2 which is relatively higher, it's standard deviation is 57.22, which has less variation meaning lower risks\n"
     ]
    }
   ],
   "source": [
    "# This function evaluates whether the bond with better return will have higher risk or lower risk\n",
    "function standard(fund_name)\n",
    "    if fund_name == \"Corporate bond\"\n",
    "        sd = stdev_1\n",
    "        if stdev_1 < stdev_2\n",
    "            trend = \"less variation\"\n",
    "            solution = \"lower risks\"\n",
    "        else\n",
    "            trend = \"more variation\"\n",
    "            solution = \"higher risks\"\n",
    "        end\n",
    "    else\n",
    "        sd = stdev_2\n",
    "        if stdev_1 < stdev_2\n",
    "            trend = \"more variation\"\n",
    "            solution = \"higher risks\"\n",
    "        else\n",
    "            trend = \"less variation\"\n",
    "            solution = \"lower risks\"\n",
    "        end\n",
    "    end\n",
    "    return sd, trend, solution\n",
    "end\n",
    "\n",
    "answer = standard(fund)\n",
    "sd = answer[1]\n",
    "trend = answer[2]\n",
    "solution = answer[3]\n",
    "println(\"$fund is a better choice, as the average return is $ave_return which is relatively higher, it's standard deviation is $sd, which has $trend meaning $solution\")"
   ]
  },
  {
   "cell_type": "markdown",
   "metadata": {},
   "source": [
    "# Section III: Probability distribution\n",
    "## Calculating probability of normal distribution\n",
    "**Problem:** Past records for the population of internet users show that the amount of time each customer spends at internet cafe spending e-mails is distributed with a mean of 9 minutes and a standard deviation of 2.5.\n"
   ]
  },
  {
   "cell_type": "markdown",
   "metadata": {},
   "source": [
    "## Part A: If a random sample of n = 30 is selected, what is the standard error of the sample mean?"
   ]
  },
  {
   "cell_type": "code",
   "execution_count": 89,
   "metadata": {},
   "outputs": [
    {
     "name": "stdout",
     "output_type": "stream",
     "text": [
      "Standard error is 1.64\n"
     ]
    }
   ],
   "source": [
    "# Standard error is calculated through mean divided by the square root of sample size\n",
    "x_bar = 9\n",
    "sd = 2.5\n",
    "n = 30\n",
    "se = x_bar/sqrt(n)\n",
    "se = round(se, digits = 2)\n",
    "println(\"Standard error is $se\")"
   ]
  },
  {
   "cell_type": "markdown",
   "metadata": {},
   "source": [
    "## Part B: What is the probability that a selected time is less than 7 minutes?"
   ]
  },
  {
   "cell_type": "code",
   "execution_count": 90,
   "metadata": {},
   "outputs": [
    {
     "name": "stderr",
     "output_type": "stream",
     "text": [
      "\u001b[32m\u001b[1m   Resolving\u001b[22m\u001b[39m package versions...\n",
      "\u001b[32m\u001b[1m  No Changes\u001b[22m\u001b[39m to `C:\\Users\\86865\\.julia\\environments\\v1.6\\Project.toml`\n",
      "\u001b[32m\u001b[1m  No Changes\u001b[22m\u001b[39m to `C:\\Users\\86865\\.julia\\environments\\v1.6\\Manifest.toml`\n"
     ]
    }
   ],
   "source": [
    "Pkg.add(\"Distributions\")"
   ]
  },
  {
   "cell_type": "code",
   "execution_count": 91,
   "metadata": {},
   "outputs": [],
   "source": [
    "using Distributions"
   ]
  },
  {
   "cell_type": "code",
   "execution_count": 92,
   "metadata": {},
   "outputs": [
    {
     "data": {
      "text/plain": [
       "Normal{Float64}(μ=9.0, σ=2.5)"
      ]
     },
     "execution_count": 92,
     "metadata": {},
     "output_type": "execute_result"
    }
   ],
   "source": [
    "# using distributions package to find the probability of normally distributed function\n",
    "dist = Normal(x_bar, sd)"
   ]
  },
  {
   "cell_type": "code",
   "execution_count": 93,
   "metadata": {},
   "outputs": [
    {
     "name": "stdout",
     "output_type": "stream",
     "text": [
      "P(x < 7) = 0.21\n"
     ]
    }
   ],
   "source": [
    "probability = sum(cdf.(dist, collect(:7)))\n",
    "probability = round(probability, digits = 2)\n",
    "println(\"P(x < 7) = $probability\")"
   ]
  },
  {
   "cell_type": "markdown",
   "metadata": {},
   "source": [
    "## Part C: If the sample mean was 10 minutes, calculate a 95% confidence interval for the mean. Does this interval include the true population mean?"
   ]
  },
  {
   "cell_type": "code",
   "execution_count": 94,
   "metadata": {},
   "outputs": [],
   "source": [
    "using Statistics"
   ]
  },
  {
   "cell_type": "code",
   "execution_count": 95,
   "metadata": {},
   "outputs": [
    {
     "data": {
      "text/plain": [
       "1.9599639845400576"
      ]
     },
     "execution_count": 95,
     "metadata": {},
     "output_type": "execute_result"
    }
   ],
   "source": [
    "# Find the z score through using the builtin function of Statistics of 95% confidence level\n",
    "sample_mean = 10\n",
    "z_stat = (sample_mean - x_bar)/sd\n",
    "z_crit = quantile(Normal(), 1-(1-0.95)/2)"
   ]
  },
  {
   "cell_type": "code",
   "execution_count": 96,
   "metadata": {},
   "outputs": [
    {
     "data": {
      "text/plain": [
       "7.0"
      ]
     },
     "execution_count": 96,
     "metadata": {},
     "output_type": "execute_result"
    }
   ],
   "source": [
    "# Interval can be found through x +/- z score * standard error\n",
    "ucl = round(sample_mean + z_crit * se)\n",
    "lcl = round(sample_mean - z_crit * se)"
   ]
  },
  {
   "cell_type": "code",
   "execution_count": 97,
   "metadata": {},
   "outputs": [
    {
     "name": "stdout",
     "output_type": "stream",
     "text": [
      "The true population 9 is in the range of 13.0 and 7.0\n"
     ]
    }
   ],
   "source": [
    "# Print result of the question\n",
    "if x_bar in lcl:ucl\n",
    "    println(\"The true population $x_bar is in the range of $ucl and $lcl\")\n",
    "else\n",
    "    println(\"Not in range the range\")\n",
    "end"
   ]
  },
  {
   "cell_type": "markdown",
   "metadata": {},
   "source": [
    "# Section IV: Quadratic Equation\n",
    "## Finding the intersections of a quadratic equation and a linear equation"
   ]
  },
  {
   "cell_type": "code",
   "execution_count": 98,
   "metadata": {},
   "outputs": [
    {
     "name": "stderr",
     "output_type": "stream",
     "text": [
      "\u001b[32m\u001b[1m   Resolving\u001b[22m\u001b[39m package versions...\n",
      "\u001b[32m\u001b[1m  No Changes\u001b[22m\u001b[39m to `C:\\Users\\86865\\.julia\\environments\\v1.6\\Project.toml`\n",
      "\u001b[32m\u001b[1m  No Changes\u001b[22m\u001b[39m to `C:\\Users\\86865\\.julia\\environments\\v1.6\\Manifest.toml`\n"
     ]
    }
   ],
   "source": [
    "Pkg.add(\"NLsolve\")"
   ]
  },
  {
   "cell_type": "code",
   "execution_count": 99,
   "metadata": {},
   "outputs": [],
   "source": [
    "using NLsolve"
   ]
  },
  {
   "cell_type": "code",
   "execution_count": 100,
   "metadata": {},
   "outputs": [
    {
     "data": {
      "text/plain": [
       "f! (generic function with 1 method)"
      ]
     },
     "execution_count": 100,
     "metadata": {},
     "output_type": "execute_result"
    }
   ],
   "source": [
    "# Defining the function that needs to be solved\n",
    "# Find the intersection of y = x^2 and y = -2(x-2) + 3\n",
    "function f!(F, v)\n",
    "    x = v[1]\n",
    "    y = v[2]\n",
    "    F[1] = -x^2 + y\n",
    "    F[2] = 2*(x-2) + y - 3\n",
    "end"
   ]
  },
  {
   "cell_type": "code",
   "execution_count": 101,
   "metadata": {},
   "outputs": [
    {
     "data": {
      "text/plain": [
       "Results of Nonlinear Solver Algorithm\n",
       " * Algorithm: Trust-region with dogleg and autoscaling\n",
       " * Starting Point: [0.0, 0.0]\n",
       " * Zero: [1.8284271247462098, 3.3431457505075803]\n",
       " * Inf-norm of residuals: 0.000000\n",
       " * Iterations: 6\n",
       " * Convergence: true\n",
       "   * |x - x'| < 0.0e+00: false\n",
       "   * |f(x)| < 1.0e-08: true\n",
       " * Function Calls (f): 7\n",
       " * Jacobian Calls (df/dx): 7"
      ]
     },
     "execution_count": 101,
     "metadata": {},
     "output_type": "execute_result"
    }
   ],
   "source": [
    "# As the two equations intersect, their x and y coordinates must be the same\n",
    "# Therefore x1-x2 = 0, y1-y2 = 0\n",
    "res = nlsolve(f!, [0.0; 0.0])"
   ]
  },
  {
   "cell_type": "code",
   "execution_count": 102,
   "metadata": {},
   "outputs": [
    {
     "data": {
      "text/plain": [
       "2-element Vector{Float64}:\n",
       " 1.8284271247462098\n",
       " 3.3431457505075803"
      ]
     },
     "execution_count": 102,
     "metadata": {},
     "output_type": "execute_result"
    }
   ],
   "source": [
    "# Coordinates of intersection\n",
    "res.zero"
   ]
  },
  {
   "cell_type": "markdown",
   "metadata": {},
   "source": [
    "# Section V: Linear Equations\n",
    "## Solving linear equations through using matrix factorisation "
   ]
  },
  {
   "cell_type": "code",
   "execution_count": 103,
   "metadata": {},
   "outputs": [
    {
     "data": {
      "text/plain": [
       "4×4 Matrix{Int64}:\n",
       " 2  1  1  3\n",
       " 5  2  5  2\n",
       " 1  3  3  3\n",
       " 5  1  1  3"
      ]
     },
     "execution_count": 103,
     "metadata": {},
     "output_type": "execute_result"
    }
   ],
   "source": [
    "# Generating a random 3x3 matrix\n",
    "A = rand(1:5, 4, 4)"
   ]
  },
  {
   "cell_type": "code",
   "execution_count": 104,
   "metadata": {},
   "outputs": [
    {
     "data": {
      "text/plain": [
       "4-element Vector{Float64}:\n",
       " 1.0\n",
       " 1.0\n",
       " 1.0\n",
       " 1.0"
      ]
     },
     "execution_count": 104,
     "metadata": {},
     "output_type": "execute_result"
    }
   ],
   "source": [
    "# Creating a vector\n",
    "x = fill(1.0, (4, ))"
   ]
  },
  {
   "cell_type": "code",
   "execution_count": 105,
   "metadata": {},
   "outputs": [
    {
     "data": {
      "text/plain": [
       "4-element Vector{Float64}:\n",
       "  7.0\n",
       " 14.0\n",
       " 10.0\n",
       " 10.0"
      ]
     },
     "execution_count": 105,
     "metadata": {},
     "output_type": "execute_result"
    }
   ],
   "source": [
    "# Defining a linear equation to be solved\n",
    "b = A * x"
   ]
  },
  {
   "cell_type": "code",
   "execution_count": 106,
   "metadata": {},
   "outputs": [
    {
     "data": {
      "text/plain": [
       "4-element Vector{Float64}:\n",
       " 1.0\n",
       " 0.9999999999999997\n",
       " 1.0000000000000002\n",
       " 1.0"
      ]
     },
     "execution_count": 106,
     "metadata": {},
     "output_type": "execute_result"
    }
   ],
   "source": [
    "# Julia provides a convenient way to solve linear equation through \"\\\"\n",
    "# However, as the data is generated randomly, it may not always have a solution\n",
    "A\\b"
   ]
  },
  {
   "cell_type": "code",
   "execution_count": 107,
   "metadata": {},
   "outputs": [],
   "source": [
    "# Another way to solve linear equation is to use the LinearAlgebra package\n",
    "using LinearAlgebra"
   ]
  },
  {
   "cell_type": "code",
   "execution_count": 108,
   "metadata": {},
   "outputs": [
    {
     "data": {
      "text/plain": [
       "4×4 Matrix{Float64}:\n",
       " 0.319968   0.850625  0.715586  0.669067\n",
       " 0.358051   0.536764  0.330574  0.612338\n",
       " 0.507362   0.417624  0.234291  0.857741\n",
       " 0.0987246  0.340671  0.725083  0.465611"
      ]
     },
     "execution_count": 108,
     "metadata": {},
     "output_type": "execute_result"
    }
   ],
   "source": [
    "# Generat some data to use for the linear equation\n",
    "A = rand(4, 4)"
   ]
  },
  {
   "cell_type": "code",
   "execution_count": 109,
   "metadata": {},
   "outputs": [
    {
     "data": {
      "text/plain": [
       "4-element Vector{Int64}:\n",
       " 1\n",
       " 1\n",
       " 1\n",
       " 1"
      ]
     },
     "execution_count": 109,
     "metadata": {},
     "output_type": "execute_result"
    }
   ],
   "source": [
    "# Creating a vector\n",
    "x = fill(1, (4, ))"
   ]
  },
  {
   "cell_type": "code",
   "execution_count": 110,
   "metadata": {},
   "outputs": [
    {
     "data": {
      "text/plain": [
       "4-element Vector{Float64}:\n",
       " 2.555246054049749\n",
       " 1.837727012851401\n",
       " 2.0170187531576884\n",
       " 1.630089965460172"
      ]
     },
     "execution_count": 110,
     "metadata": {},
     "output_type": "execute_result"
    }
   ],
   "source": [
    "# Define the linear equation\n",
    "b = A*x"
   ]
  },
  {
   "cell_type": "code",
   "execution_count": 111,
   "metadata": {},
   "outputs": [
    {
     "data": {
      "text/plain": [
       "LU{Float64, Matrix{Float64}}\n",
       "L factor:\n",
       "4×4 Matrix{Float64}:\n",
       " 1.0       0.0        0.0       0.0\n",
       " 0.63065   1.0        0.0       0.0\n",
       " 0.194584  0.441734   1.0       0.0\n",
       " 0.705711  0.412161  -0.160512  1.0\n",
       "U factor:\n",
       "4×4 Matrix{Float64}:\n",
       " 0.507362  0.417624  0.234291   0.857741\n",
       " 0.0       0.58725   0.567831   0.128132\n",
       " 0.0       0.0       0.428664   0.242108\n",
       " 0.0       0.0       0.0       -0.0069293"
      ]
     },
     "execution_count": 111,
     "metadata": {},
     "output_type": "execute_result"
    }
   ],
   "source": [
    "# Factorise the matrix to solve the equation to speed up problem\n",
    "# Factorisation object that contains the matrix of L and U\n",
    "Alu = lu(A)"
   ]
  },
  {
   "cell_type": "code",
   "execution_count": 112,
   "metadata": {},
   "outputs": [
    {
     "data": {
      "text/plain": [
       "4×4 Matrix{Float64}:\n",
       " 0.0  0.0  1.0  0.0\n",
       " 1.0  0.0  0.0  0.0\n",
       " 0.0  0.0  0.0  1.0\n",
       " 0.0  1.0  0.0  0.0"
      ]
     },
     "execution_count": 112,
     "metadata": {},
     "output_type": "execute_result"
    }
   ],
   "source": [
    "# To obtain the permutation matrix\n",
    "Alu.P"
   ]
  },
  {
   "cell_type": "code",
   "execution_count": 113,
   "metadata": {},
   "outputs": [
    {
     "data": {
      "text/plain": [
       "4×4 Matrix{Float64}:\n",
       " 1.0       0.0        0.0       0.0\n",
       " 0.63065   1.0        0.0       0.0\n",
       " 0.194584  0.441734   1.0       0.0\n",
       " 0.705711  0.412161  -0.160512  1.0"
      ]
     },
     "execution_count": 113,
     "metadata": {},
     "output_type": "execute_result"
    }
   ],
   "source": [
    "# To obatin the lower triangular matrix\n",
    "Alu.L"
   ]
  },
  {
   "cell_type": "code",
   "execution_count": 114,
   "metadata": {},
   "outputs": [
    {
     "data": {
      "text/plain": [
       "4×4 Matrix{Float64}:\n",
       " 0.507362  0.417624  0.234291   0.857741\n",
       " 0.0       0.58725   0.567831   0.128132\n",
       " 0.0       0.0       0.428664   0.242108\n",
       " 0.0       0.0       0.0       -0.0069293"
      ]
     },
     "execution_count": 114,
     "metadata": {},
     "output_type": "execute_result"
    }
   ],
   "source": [
    "# To obtain the upper triangular matrix\n",
    "Alu.U"
   ]
  },
  {
   "cell_type": "code",
   "execution_count": 115,
   "metadata": {},
   "outputs": [
    {
     "data": {
      "text/plain": [
       "4-element Vector{Float64}:\n",
       " 1.0000000000000377\n",
       " 0.999999999999992\n",
       " 1.0000000000000127\n",
       " 0.999999999999978"
      ]
     },
     "execution_count": 115,
     "metadata": {},
     "output_type": "execute_result"
    }
   ],
   "source": [
    "A\\b"
   ]
  },
  {
   "cell_type": "code",
   "execution_count": 116,
   "metadata": {},
   "outputs": [
    {
     "data": {
      "text/plain": [
       "4-element Vector{Float64}:\n",
       " 1.0000000000000377\n",
       " 0.999999999999992\n",
       " 1.0000000000000127\n",
       " 0.999999999999978"
      ]
     },
     "execution_count": 116,
     "metadata": {},
     "output_type": "execute_result"
    }
   ],
   "source": [
    "# As it is shown, both way provides the same output\n",
    "Alu\\b"
   ]
  },
  {
   "cell_type": "markdown",
   "metadata": {},
   "source": [
    "# Section VI: Matrix\n",
    "## Dictionaries and matrix\n",
    "**Problem:** user input the degree, as well as the coefficient for x and the constant variable for a polynomial equation (ax+b)^n. The program then expand this binomial distribution, the kth term's coefficient is given as an output"
   ]
  },
  {
   "cell_type": "code",
   "execution_count": 117,
   "metadata": {},
   "outputs": [
    {
     "name": "stdout",
     "output_type": "stream",
     "text": [
      "To expand the polynomial (ax + b)^ n\n",
      "Please enter an integer for the degree of the polynomial! (n)\n",
      "stdin> 3\n"
     ]
    },
    {
     "data": {
      "text/plain": [
       "\"3\""
      ]
     },
     "execution_count": 117,
     "metadata": {},
     "output_type": "execute_result"
    }
   ],
   "source": [
    "# Print out the standard formula\n",
    "println(\"To expand the polynomial (ax + b)^ n\")\n",
    "# Ask for user's input for the degree\n",
    "println(\"Please enter an integer for the degree of the polynomial! (n)\")\n",
    "n = readline()"
   ]
  },
  {
   "cell_type": "code",
   "execution_count": 118,
   "metadata": {},
   "outputs": [],
   "source": [
    "# Loop through the question until user give an integer is provided\n",
    "while (tryparse(Int64, n) !== nothing) == false\n",
    "    println(\"Input an integer for n!\")\n",
    "    global n = readline()\n",
    "end"
   ]
  },
  {
   "cell_type": "code",
   "execution_count": 119,
   "metadata": {},
   "outputs": [],
   "source": [
    "n = parse(Int64, n)\n",
    "# Since the equation is a polynomial, the degree has to be greater than 1\n",
    "# The command is repeated until a valid answer is provided\n",
    "while n < 2\n",
    "    println(\"Please enter an integer greater than 1\")\n",
    "    global n = readline()\n",
    "    n = parse(Int64, n)\n",
    "end"
   ]
  },
  {
   "cell_type": "code",
   "execution_count": 120,
   "metadata": {},
   "outputs": [
    {
     "name": "stdout",
     "output_type": "stream",
     "text": [
      "Please enter an integer for the coefficient of x! (a)\n",
      "stdin> 2\n"
     ]
    }
   ],
   "source": [
    "# Asking user to input a coefficient for the x \n",
    "println(\"Please enter an integer for the coefficient of x! (a)\")\n",
    "a = readline()\n",
    "\n",
    "# Loop through until an integer is provided\n",
    "while (tryparse(Int64, a) !== nothing) == false\n",
    "    println(\"Input an integer for a!\")\n",
    "    global a = readline()\n",
    "end"
   ]
  },
  {
   "cell_type": "code",
   "execution_count": 121,
   "metadata": {},
   "outputs": [
    {
     "name": "stdout",
     "output_type": "stream",
     "text": [
      "Please enter an integer for the constant variable! (b)\n",
      "stdin> 4\n"
     ]
    }
   ],
   "source": [
    "# Asking user to input a constant \n",
    "println(\"Please enter an integer for the constant variable! (b)\")\n",
    "b = readline()\n",
    "\n",
    "# Loop through the question until a valid input is provided\n",
    "while (tryparse(Int64, b) !== nothing) == false\n",
    "    println(\"Input an integer for b!\")\n",
    "    global b = readline()\n",
    "end"
   ]
  },
  {
   "cell_type": "code",
   "execution_count": 122,
   "metadata": {},
   "outputs": [
    {
     "name": "stdout",
     "output_type": "stream",
     "text": [
      "The polynomial is (2 * x + 4) ^ 3\n"
     ]
    }
   ],
   "source": [
    "# Print out the equation that user input\n",
    "println(\"The polynomial is ($a * x + $b) ^ $n\")"
   ]
  },
  {
   "cell_type": "code",
   "execution_count": 123,
   "metadata": {},
   "outputs": [
    {
     "data": {
      "text/plain": [
       "4×4 Matrix{Int64}:\n",
       " 0  0  0  0\n",
       " 0  0  0  0\n",
       " 0  0  0  0\n",
       " 0  0  0  0"
      ]
     },
     "execution_count": 123,
     "metadata": {},
     "output_type": "execute_result"
    }
   ],
   "source": [
    "# Convert the inputs into integers\n",
    "b = parse(Int64, b)\n",
    "a = parse(Int64, a)\n",
    "# creating a 2D matrix to store the values\n",
    "lst = zeros(Int64, n + 1, n + 1)"
   ]
  },
  {
   "cell_type": "code",
   "execution_count": 124,
   "metadata": {},
   "outputs": [],
   "source": [
    "# The following calculate the result of combinations eg. 3C0 = 1\n",
    "for y in 1 : n + 1\n",
    "    for x in 1 : n + 1\n",
    "        # The sides of the matrix all contain a value of 1\n",
    "        if (x == 1) | (y == 1)\n",
    "            lst[x, y] = 1\n",
    "        # In combination, nCk = (n-1)Ck + (n-1)C(k-1)\n",
    "        # In this case, since all the values are stored in a square, rather than a triangle\n",
    "        # The new equation would be nCk = (n-1)Ck + nC(k-1)\n",
    "        else\n",
    "            lst[x, y] = lst[x-1, y] + lst[x, y-1]\n",
    "        end\n",
    "\n",
    "    end\n",
    "end"
   ]
  },
  {
   "cell_type": "code",
   "execution_count": 125,
   "metadata": {},
   "outputs": [
    {
     "name": "stdout",
     "output_type": "stream",
     "text": [
      "[1 1 1 1; 1 2 3 4; 1 3 6 10; 1 4 10 20]\n",
      "The coefficient of x^3 is 8\n",
      "The coefficient of x^2 is 48\n",
      "The coefficient of x^1 is 96\n",
      "The coefficient of x^0 is 64\n"
     ]
    }
   ],
   "source": [
    "# The matrix showing combination values\n",
    "println(lst)\n",
    "\n",
    "# An empty dictionary to store each coefficient\n",
    "empty_dict = Dict()\n",
    "\n",
    "# The following aim to find coefficient of different terms\n",
    "for i in 1 : n + 1\n",
    "    # The combination value can be find through identifying the diagonal values of the matrix\n",
    "    num = lst[i, n-i+2] \n",
    "    # The actual coefficient can be find through nCk * a^n * b^(n-k)\n",
    "    # However, as i is one bigger than n, we need to subtract 1 from i to calculate the correct result\n",
    "    new_b = b ^ (i-1)\n",
    "    new_a = a ^ (n-i+1)\n",
    "    product = new_a * new_b * num \n",
    "    println(\"The coefficient of x^$(n-i+1) is $product\")\n",
    "    # Each coefficient is stored with the actual term\n",
    "    empty_dict[\"x^$(n-i+1)\"] = string(product)\n",
    "end"
   ]
  },
  {
   "cell_type": "code",
   "execution_count": 126,
   "metadata": {},
   "outputs": [
    {
     "name": "stdout",
     "output_type": "stream",
     "text": [
      "To find a specific coefficient of k th term, please input an integer for k!\n",
      "stdin> 3\n"
     ]
    }
   ],
   "source": [
    "# Asking user to input the k th term in which they wish to find the coefficient\n",
    "println(\"To find a specific coefficient of k th term, please input an integer for k!\")\n",
    "k = readline()\n",
    "# The question is looped until an integer is given\n",
    "while (tryparse(Int64, k) !== nothing) == false\n",
    "    println(\"Input an integer for k!\")\n",
    "    global k = readline()\n",
    "end"
   ]
  },
  {
   "cell_type": "code",
   "execution_count": 127,
   "metadata": {},
   "outputs": [],
   "source": [
    "k = parse(Int64, k)\n",
    "\n",
    "# The value of k is limited to the number of terms within the expansion of the binomial\n",
    "# Thus if k is smaller than 0 or bigger than the number of terms, it cannot be accepted\n",
    "value = false\n",
    "while value == false\n",
    "    if k < 0\n",
    "        println(\"Please enter an integer greater than or equal to 1\")\n",
    "        global k = readline()\n",
    "        k = parse(Int64, k)\n",
    "    \n",
    "    elseif k > n+1\n",
    "        println(\"There is only $(n+1) terms in this equation, please enter an integer smaller or equal to $(n+1)\")\n",
    "        global k = readline()\n",
    "        k = parse(Int64, k)\n",
    "\n",
    "    else\n",
    "        global value = true\n",
    "        break\n",
    "    end\n",
    "end"
   ]
  },
  {
   "cell_type": "code",
   "execution_count": 128,
   "metadata": {},
   "outputs": [
    {
     "name": "stdout",
     "output_type": "stream",
     "text": [
      "The coefficient for 3 th term is 96\n"
     ]
    }
   ],
   "source": [
    "# Print out the final answer\n",
    "answer = empty_dict[\"x^$(n-k+1)\"]\n",
    "println(\"The coefficient for $k th term is $answer\")"
   ]
  }
 ],
 "metadata": {
  "kernelspec": {
   "display_name": "Julia 1.6.0",
   "language": "julia",
   "name": "julia-1.6"
  },
  "language_info": {
   "file_extension": ".jl",
   "mimetype": "application/julia",
   "name": "julia",
   "version": "1.6.0"
  }
 },
 "nbformat": 4,
 "nbformat_minor": 4
}
